{
  "nbformat": 4,
  "nbformat_minor": 0,
  "metadata": {
    "colab": {
      "provenance": [],
      "authorship_tag": "ABX9TyPlpMXDr2f+fv1A1TKFW48b",
      "include_colab_link": true
    },
    "kernelspec": {
      "name": "python3",
      "display_name": "Python 3"
    },
    "language_info": {
      "name": "python"
    }
  },
  "cells": [
    {
      "cell_type": "markdown",
      "metadata": {
        "id": "view-in-github",
        "colab_type": "text"
      },
      "source": [
        "<a href=\"https://colab.research.google.com/github/pauarmentaa/Regresion-Lineal/blob/main/Actividad_6_2_ESP.ipynb\" target=\"_parent\"><img src=\"https://colab.research.google.com/assets/colab-badge.svg\" alt=\"Open In Colab\"/></a>"
      ]
    },
    {
      "cell_type": "code",
      "execution_count": 2,
      "metadata": {
        "id": "LrokplJ_wgzu"
      },
      "outputs": [],
      "source": [
        "import pandas as pd\n",
        "import numpy as np\n",
        "import matplotlib.pyplot as plt\n",
        "import seaborn as sns"
      ]
    },
    {
      "cell_type": "code",
      "source": [
        "df= pd.read_csv(\"Datos_limpios_ESP.csv\")\n",
        "df.head()"
      ],
      "metadata": {
        "id": "nNVfd_BJxFdD",
        "colab": {
          "base_uri": "https://localhost:8080/",
          "height": 665
        },
        "outputId": "1f63e2cc-fef1-4d60-993b-9eeada86f4af"
      },
      "execution_count": 3,
      "outputs": [
        {
          "output_type": "stream",
          "name": "stderr",
          "text": [
            "<ipython-input-3-0983eb0271d3>:1: DtypeWarning: Columns (0) have mixed types. Specify dtype option on import or set low_memory=False.\n",
            "  df= pd.read_csv(\"Datos_limpios_ESP.csv\")\n"
          ]
        },
        {
          "output_type": "execute_result",
          "data": {
            "text/plain": [
              "  Unnamed: 0                           listing_url last_scraped  \\\n",
              "0          0    https://www.airbnb.com/rooms/14551   31/03/2023   \n",
              "1          1  https://www.airbnb.com/rooms/1205757   31/03/2023   \n",
              "2          2  https://www.airbnb.com/rooms/1212820   01/04/2023   \n",
              "3          3   https://www.airbnb.com/rooms/751638   31/03/2023   \n",
              "4          4    https://www.airbnb.com/rooms/41342   01/04/2023   \n",
              "\n",
              "            source                                      name  \\\n",
              "0      city scrape  Cozy & Colorful by Nature (Private Room)   \n",
              "1      city scrape       HabitaciÃ³n doble + baÃ±o y terraza   \n",
              "2      city scrape       Apartment port de rei stunning wiew   \n",
              "3      city scrape       Room Limon - Casa Pati de lÂ´Albera   \n",
              "4  previous scrape         Beachfront Tamariua (Costa Brava)   \n",
              "\n",
              "                                         description  \\\n",
              "0  Up in the hill of MontjuÃ¯c (a mountain overlo...   \n",
              "1  <b>The space</b><br />HabitaciÃ³n confortable ...   \n",
              "2  <b>The space</b><br />Apartments first line un...   \n",
              "3  <b>The space</b><br />Nice room with 2 individ...   \n",
              "4  A little paradise by the sea. Apartment 2/4 ad...   \n",
              "\n",
              "                               neighborhood_overview  \\\n",
              "0  MontjuÃ¯c is most likely the best neighborhood...   \n",
              "1  Bonitas playas a 15 minutos en coche. Piscina ...   \n",
              "2                                    sin informacion   \n",
              "3  Sant Climent is a tiny village, with a populat...   \n",
              "4  Apartment located outside the town on a small ...   \n",
              "\n",
              "                                         picture_url  \\\n",
              "0  https://a0.muscache.com/pictures/16209908/f1fe...   \n",
              "1  https://a0.muscache.com/pictures/02e0a61e-078e...   \n",
              "2  https://a0.muscache.com/pictures/18245529/0886...   \n",
              "3  https://a0.muscache.com/pictures/64276178/98d1...   \n",
              "4  https://a0.muscache.com/pictures/70414801/59d4...   \n",
              "\n",
              "                                    host_url host_name  ...  \\\n",
              "0    https://www.airbnb.com/users/show/57237       Mun  ...   \n",
              "1  https://www.airbnb.com/users/show/6586355    Montse  ...   \n",
              "2  https://www.airbnb.com/users/show/6620645    Myriam  ...   \n",
              "3  https://www.airbnb.com/users/show/3680160   Roberto  ...   \n",
              "4   https://www.airbnb.com/users/show/180072    Marisa  ...   \n",
              "\n",
              "  review_scores_cleanliness review_scores_checkin review_scores_communication  \\\n",
              "0                      4.94                  4.89                        4.91   \n",
              "1                      4.85                  4.85                        4.91   \n",
              "2                      4.31                  4.81                        4.76   \n",
              "3                      4.50                  4.86                        5.00   \n",
              "4                      4.82                  4.73                        4.73   \n",
              "\n",
              "  review_scores_location review_scores_value calculated_host_listings_count  \\\n",
              "0                   4.63                4.74                            1.0   \n",
              "1                   4.69                4.80                            1.0   \n",
              "2                   4.74                4.32                            2.0   \n",
              "3                   4.63                4.50                            6.0   \n",
              "4                   4.91                4.36                            1.0   \n",
              "\n",
              "  calculated_host_listings_count_entire_homes  \\\n",
              "0                                         0.0   \n",
              "1                                         0.0   \n",
              "2                                         2.0   \n",
              "3                                         1.0   \n",
              "4                                         1.0   \n",
              "\n",
              "  calculated_host_listings_count_private_rooms  \\\n",
              "0                                          0.0   \n",
              "1                                          0.0   \n",
              "2                                          0.0   \n",
              "3                                          0.0   \n",
              "4                                          0.0   \n",
              "\n",
              "  calculated_host_listings_count_shared_rooms reviews_per_month  \n",
              "0                                         0.0              0.37  \n",
              "1                                         0.0              0.51  \n",
              "2                                         0.0              0.62  \n",
              "3                                         0.0              0.08  \n",
              "4                                         0.0              0.09  \n",
              "\n",
              "[5 rows x 73 columns]"
            ],
            "text/html": [
              "\n",
              "  <div id=\"df-5b2b1f53-424d-41ee-838f-202990f2e6a4\">\n",
              "    <div class=\"colab-df-container\">\n",
              "      <div>\n",
              "<style scoped>\n",
              "    .dataframe tbody tr th:only-of-type {\n",
              "        vertical-align: middle;\n",
              "    }\n",
              "\n",
              "    .dataframe tbody tr th {\n",
              "        vertical-align: top;\n",
              "    }\n",
              "\n",
              "    .dataframe thead th {\n",
              "        text-align: right;\n",
              "    }\n",
              "</style>\n",
              "<table border=\"1\" class=\"dataframe\">\n",
              "  <thead>\n",
              "    <tr style=\"text-align: right;\">\n",
              "      <th></th>\n",
              "      <th>Unnamed: 0</th>\n",
              "      <th>listing_url</th>\n",
              "      <th>last_scraped</th>\n",
              "      <th>source</th>\n",
              "      <th>name</th>\n",
              "      <th>description</th>\n",
              "      <th>neighborhood_overview</th>\n",
              "      <th>picture_url</th>\n",
              "      <th>host_url</th>\n",
              "      <th>host_name</th>\n",
              "      <th>...</th>\n",
              "      <th>review_scores_cleanliness</th>\n",
              "      <th>review_scores_checkin</th>\n",
              "      <th>review_scores_communication</th>\n",
              "      <th>review_scores_location</th>\n",
              "      <th>review_scores_value</th>\n",
              "      <th>calculated_host_listings_count</th>\n",
              "      <th>calculated_host_listings_count_entire_homes</th>\n",
              "      <th>calculated_host_listings_count_private_rooms</th>\n",
              "      <th>calculated_host_listings_count_shared_rooms</th>\n",
              "      <th>reviews_per_month</th>\n",
              "    </tr>\n",
              "  </thead>\n",
              "  <tbody>\n",
              "    <tr>\n",
              "      <th>0</th>\n",
              "      <td>0</td>\n",
              "      <td>https://www.airbnb.com/rooms/14551</td>\n",
              "      <td>31/03/2023</td>\n",
              "      <td>city scrape</td>\n",
              "      <td>Cozy &amp; Colorful by Nature (Private Room)</td>\n",
              "      <td>Up in the hill of MontjuÃ¯c (a mountain overlo...</td>\n",
              "      <td>MontjuÃ¯c is most likely the best neighborhood...</td>\n",
              "      <td>https://a0.muscache.com/pictures/16209908/f1fe...</td>\n",
              "      <td>https://www.airbnb.com/users/show/57237</td>\n",
              "      <td>Mun</td>\n",
              "      <td>...</td>\n",
              "      <td>4.94</td>\n",
              "      <td>4.89</td>\n",
              "      <td>4.91</td>\n",
              "      <td>4.63</td>\n",
              "      <td>4.74</td>\n",
              "      <td>1.0</td>\n",
              "      <td>0.0</td>\n",
              "      <td>0.0</td>\n",
              "      <td>0.0</td>\n",
              "      <td>0.37</td>\n",
              "    </tr>\n",
              "    <tr>\n",
              "      <th>1</th>\n",
              "      <td>1</td>\n",
              "      <td>https://www.airbnb.com/rooms/1205757</td>\n",
              "      <td>31/03/2023</td>\n",
              "      <td>city scrape</td>\n",
              "      <td>HabitaciÃ³n doble + baÃ±o y terraza</td>\n",
              "      <td>&lt;b&gt;The space&lt;/b&gt;&lt;br /&gt;HabitaciÃ³n confortable ...</td>\n",
              "      <td>Bonitas playas a 15 minutos en coche. Piscina ...</td>\n",
              "      <td>https://a0.muscache.com/pictures/02e0a61e-078e...</td>\n",
              "      <td>https://www.airbnb.com/users/show/6586355</td>\n",
              "      <td>Montse</td>\n",
              "      <td>...</td>\n",
              "      <td>4.85</td>\n",
              "      <td>4.85</td>\n",
              "      <td>4.91</td>\n",
              "      <td>4.69</td>\n",
              "      <td>4.80</td>\n",
              "      <td>1.0</td>\n",
              "      <td>0.0</td>\n",
              "      <td>0.0</td>\n",
              "      <td>0.0</td>\n",
              "      <td>0.51</td>\n",
              "    </tr>\n",
              "    <tr>\n",
              "      <th>2</th>\n",
              "      <td>2</td>\n",
              "      <td>https://www.airbnb.com/rooms/1212820</td>\n",
              "      <td>01/04/2023</td>\n",
              "      <td>city scrape</td>\n",
              "      <td>Apartment port de rei stunning wiew</td>\n",
              "      <td>&lt;b&gt;The space&lt;/b&gt;&lt;br /&gt;Apartments first line un...</td>\n",
              "      <td>sin informacion</td>\n",
              "      <td>https://a0.muscache.com/pictures/18245529/0886...</td>\n",
              "      <td>https://www.airbnb.com/users/show/6620645</td>\n",
              "      <td>Myriam</td>\n",
              "      <td>...</td>\n",
              "      <td>4.31</td>\n",
              "      <td>4.81</td>\n",
              "      <td>4.76</td>\n",
              "      <td>4.74</td>\n",
              "      <td>4.32</td>\n",
              "      <td>2.0</td>\n",
              "      <td>2.0</td>\n",
              "      <td>0.0</td>\n",
              "      <td>0.0</td>\n",
              "      <td>0.62</td>\n",
              "    </tr>\n",
              "    <tr>\n",
              "      <th>3</th>\n",
              "      <td>3</td>\n",
              "      <td>https://www.airbnb.com/rooms/751638</td>\n",
              "      <td>31/03/2023</td>\n",
              "      <td>city scrape</td>\n",
              "      <td>Room Limon - Casa Pati de lÂ´Albera</td>\n",
              "      <td>&lt;b&gt;The space&lt;/b&gt;&lt;br /&gt;Nice room with 2 individ...</td>\n",
              "      <td>Sant Climent is a tiny village, with a populat...</td>\n",
              "      <td>https://a0.muscache.com/pictures/64276178/98d1...</td>\n",
              "      <td>https://www.airbnb.com/users/show/3680160</td>\n",
              "      <td>Roberto</td>\n",
              "      <td>...</td>\n",
              "      <td>4.50</td>\n",
              "      <td>4.86</td>\n",
              "      <td>5.00</td>\n",
              "      <td>4.63</td>\n",
              "      <td>4.50</td>\n",
              "      <td>6.0</td>\n",
              "      <td>1.0</td>\n",
              "      <td>0.0</td>\n",
              "      <td>0.0</td>\n",
              "      <td>0.08</td>\n",
              "    </tr>\n",
              "    <tr>\n",
              "      <th>4</th>\n",
              "      <td>4</td>\n",
              "      <td>https://www.airbnb.com/rooms/41342</td>\n",
              "      <td>01/04/2023</td>\n",
              "      <td>previous scrape</td>\n",
              "      <td>Beachfront Tamariua (Costa Brava)</td>\n",
              "      <td>A little paradise by the sea. Apartment 2/4 ad...</td>\n",
              "      <td>Apartment located outside the town on a small ...</td>\n",
              "      <td>https://a0.muscache.com/pictures/70414801/59d4...</td>\n",
              "      <td>https://www.airbnb.com/users/show/180072</td>\n",
              "      <td>Marisa</td>\n",
              "      <td>...</td>\n",
              "      <td>4.82</td>\n",
              "      <td>4.73</td>\n",
              "      <td>4.73</td>\n",
              "      <td>4.91</td>\n",
              "      <td>4.36</td>\n",
              "      <td>1.0</td>\n",
              "      <td>1.0</td>\n",
              "      <td>0.0</td>\n",
              "      <td>0.0</td>\n",
              "      <td>0.09</td>\n",
              "    </tr>\n",
              "  </tbody>\n",
              "</table>\n",
              "<p>5 rows × 73 columns</p>\n",
              "</div>\n",
              "      <button class=\"colab-df-convert\" onclick=\"convertToInteractive('df-5b2b1f53-424d-41ee-838f-202990f2e6a4')\"\n",
              "              title=\"Convert this dataframe to an interactive table.\"\n",
              "              style=\"display:none;\">\n",
              "        \n",
              "  <svg xmlns=\"http://www.w3.org/2000/svg\" height=\"24px\"viewBox=\"0 0 24 24\"\n",
              "       width=\"24px\">\n",
              "    <path d=\"M0 0h24v24H0V0z\" fill=\"none\"/>\n",
              "    <path d=\"M18.56 5.44l.94 2.06.94-2.06 2.06-.94-2.06-.94-.94-2.06-.94 2.06-2.06.94zm-11 1L8.5 8.5l.94-2.06 2.06-.94-2.06-.94L8.5 2.5l-.94 2.06-2.06.94zm10 10l.94 2.06.94-2.06 2.06-.94-2.06-.94-.94-2.06-.94 2.06-2.06.94z\"/><path d=\"M17.41 7.96l-1.37-1.37c-.4-.4-.92-.59-1.43-.59-.52 0-1.04.2-1.43.59L10.3 9.45l-7.72 7.72c-.78.78-.78 2.05 0 2.83L4 21.41c.39.39.9.59 1.41.59.51 0 1.02-.2 1.41-.59l7.78-7.78 2.81-2.81c.8-.78.8-2.07 0-2.86zM5.41 20L4 18.59l7.72-7.72 1.47 1.35L5.41 20z\"/>\n",
              "  </svg>\n",
              "      </button>\n",
              "      \n",
              "  <style>\n",
              "    .colab-df-container {\n",
              "      display:flex;\n",
              "      flex-wrap:wrap;\n",
              "      gap: 12px;\n",
              "    }\n",
              "\n",
              "    .colab-df-convert {\n",
              "      background-color: #E8F0FE;\n",
              "      border: none;\n",
              "      border-radius: 50%;\n",
              "      cursor: pointer;\n",
              "      display: none;\n",
              "      fill: #1967D2;\n",
              "      height: 32px;\n",
              "      padding: 0 0 0 0;\n",
              "      width: 32px;\n",
              "    }\n",
              "\n",
              "    .colab-df-convert:hover {\n",
              "      background-color: #E2EBFA;\n",
              "      box-shadow: 0px 1px 2px rgba(60, 64, 67, 0.3), 0px 1px 3px 1px rgba(60, 64, 67, 0.15);\n",
              "      fill: #174EA6;\n",
              "    }\n",
              "\n",
              "    [theme=dark] .colab-df-convert {\n",
              "      background-color: #3B4455;\n",
              "      fill: #D2E3FC;\n",
              "    }\n",
              "\n",
              "    [theme=dark] .colab-df-convert:hover {\n",
              "      background-color: #434B5C;\n",
              "      box-shadow: 0px 1px 3px 1px rgba(0, 0, 0, 0.15);\n",
              "      filter: drop-shadow(0px 1px 2px rgba(0, 0, 0, 0.3));\n",
              "      fill: #FFFFFF;\n",
              "    }\n",
              "  </style>\n",
              "\n",
              "      <script>\n",
              "        const buttonEl =\n",
              "          document.querySelector('#df-5b2b1f53-424d-41ee-838f-202990f2e6a4 button.colab-df-convert');\n",
              "        buttonEl.style.display =\n",
              "          google.colab.kernel.accessAllowed ? 'block' : 'none';\n",
              "\n",
              "        async function convertToInteractive(key) {\n",
              "          const element = document.querySelector('#df-5b2b1f53-424d-41ee-838f-202990f2e6a4');\n",
              "          const dataTable =\n",
              "            await google.colab.kernel.invokeFunction('convertToInteractive',\n",
              "                                                     [key], {});\n",
              "          if (!dataTable) return;\n",
              "\n",
              "          const docLinkHtml = 'Like what you see? Visit the ' +\n",
              "            '<a target=\"_blank\" href=https://colab.research.google.com/notebooks/data_table.ipynb>data table notebook</a>'\n",
              "            + ' to learn more about interactive tables.';\n",
              "          element.innerHTML = '';\n",
              "          dataTable['output_type'] = 'display_data';\n",
              "          await google.colab.output.renderOutput(dataTable, element);\n",
              "          const docLink = document.createElement('div');\n",
              "          docLink.innerHTML = docLinkHtml;\n",
              "          element.appendChild(docLink);\n",
              "        }\n",
              "      </script>\n",
              "    </div>\n",
              "  </div>\n",
              "  "
            ]
          },
          "metadata": {},
          "execution_count": 3
        }
      ]
    },
    {
      "cell_type": "code",
      "source": [
        "#Corroboramos valores nulos del dataframe LIMPIO\n",
        "valores_nulos=df.isnull().sum().sum()\n",
        "valores_nulos"
      ],
      "metadata": {
        "colab": {
          "base_uri": "https://localhost:8080/"
        },
        "id": "ySFXxoN4x_PK",
        "outputId": "6a0772b3-d29a-457e-8352-714d823b8462"
      },
      "execution_count": 4,
      "outputs": [
        {
          "output_type": "execute_result",
          "data": {
            "text/plain": [
              "72"
            ]
          },
          "metadata": {},
          "execution_count": 4
        }
      ]
    },
    {
      "cell_type": "code",
      "source": [
        "#No se porque sale que hay nulos si en el archivo del pais dice que hay 0 nulos\n",
        "#para que no haya errores todos los nulos los reemplazo con bfill\n",
        "df.fillna(method='bfill', inplace=True)"
      ],
      "metadata": {
        "id": "uja46NetyA0m"
      },
      "execution_count": 5,
      "outputs": []
    },
    {
      "cell_type": "code",
      "source": [
        "#Corroboramos valores nulos del dataframe LIMPIO\n",
        "valores_nulos=df.isnull().sum().sum()\n",
        "valores_nulos"
      ],
      "metadata": {
        "colab": {
          "base_uri": "https://localhost:8080/"
        },
        "id": "PCluKakwyM-G",
        "outputId": "bf478e77-1872-40da-d44d-c030dc549860"
      },
      "execution_count": 6,
      "outputs": [
        {
          "output_type": "execute_result",
          "data": {
            "text/plain": [
              "0"
            ]
          },
          "metadata": {},
          "execution_count": 6
        }
      ]
    },
    {
      "cell_type": "code",
      "source": [
        "df.info()"
      ],
      "metadata": {
        "id": "MtkOWCvbBZXq",
        "colab": {
          "base_uri": "https://localhost:8080/"
        },
        "outputId": "0ecde5de-cac5-4a33-e920-da84a785f288"
      },
      "execution_count": 7,
      "outputs": [
        {
          "output_type": "stream",
          "name": "stdout",
          "text": [
            "<class 'pandas.core.frame.DataFrame'>\n",
            "RangeIndex: 19656 entries, 0 to 19655\n",
            "Data columns (total 73 columns):\n",
            " #   Column                                        Non-Null Count  Dtype  \n",
            "---  ------                                        --------------  -----  \n",
            " 0   Unnamed: 0                                    19656 non-null  object \n",
            " 1   listing_url                                   19656 non-null  object \n",
            " 2   last_scraped                                  19656 non-null  object \n",
            " 3   source                                        19656 non-null  object \n",
            " 4   name                                          19656 non-null  object \n",
            " 5   description                                   19656 non-null  object \n",
            " 6   neighborhood_overview                         19656 non-null  object \n",
            " 7   picture_url                                   19656 non-null  object \n",
            " 8   host_url                                      19656 non-null  object \n",
            " 9   host_name                                     19656 non-null  object \n",
            " 10  host_since                                    19656 non-null  object \n",
            " 11  host_location                                 19656 non-null  object \n",
            " 12  host_about                                    19656 non-null  object \n",
            " 13  host_response_time                            19656 non-null  object \n",
            " 14  host_is_superhost                             19656 non-null  object \n",
            " 15  host_thumbnail_url                            19656 non-null  object \n",
            " 16  host_picture_url                              19656 non-null  object \n",
            " 17  host_neighbourhood                            19656 non-null  object \n",
            " 18  host_verifications                            19656 non-null  object \n",
            " 19  host_has_profile_pic                          19656 non-null  object \n",
            " 20  host_identity_verified                        19656 non-null  object \n",
            " 21  neighbourhood                                 19656 non-null  object \n",
            " 22  neighbourhood_cleansed                        19656 non-null  object \n",
            " 23  property_type                                 19656 non-null  object \n",
            " 24  room_type                                     19656 non-null  object \n",
            " 25  bathrooms_text                                19656 non-null  float64\n",
            " 26  amenities                                     19656 non-null  object \n",
            " 27  price                                         19656 non-null  float64\n",
            " 28  has_availability                              19656 non-null  object \n",
            " 29  calendar_last_scraped                         19656 non-null  object \n",
            " 30  first_review                                  19656 non-null  object \n",
            " 31  last_review                                   19656 non-null  object \n",
            " 32  license                                       19656 non-null  object \n",
            " 33  instant_bookable                              19656 non-null  object \n",
            " 34  id                                            19656 non-null  float64\n",
            " 35  scrape_id                                     19656 non-null  float64\n",
            " 36  host_id                                       19656 non-null  float64\n",
            " 37  host_response_rate                            19656 non-null  float64\n",
            " 38  host_acceptance_rate                          19656 non-null  float64\n",
            " 39  host_listings_count                           19656 non-null  float64\n",
            " 40  host_total_listings_count                     19656 non-null  float64\n",
            " 41  latitude                                      19656 non-null  float64\n",
            " 42  longitude                                     19656 non-null  float64\n",
            " 43  accommodates                                  19656 non-null  float64\n",
            " 44  bedrooms                                      19656 non-null  float64\n",
            " 45  beds                                          19656 non-null  float64\n",
            " 46  minimum_nights                                19656 non-null  float64\n",
            " 47  maximum_nights                                19656 non-null  float64\n",
            " 48  minimum_minimum_nights                        19656 non-null  float64\n",
            " 49  maximum_minimum_nights                        19656 non-null  float64\n",
            " 50  minimum_maximum_nights                        19656 non-null  float64\n",
            " 51  maximum_maximum_nights                        19656 non-null  float64\n",
            " 52  minimum_nights_avg_ntm                        19656 non-null  float64\n",
            " 53  maximum_nights_avg_ntm                        19656 non-null  float64\n",
            " 54  availability_30                               19656 non-null  float64\n",
            " 55  availability_60                               19656 non-null  float64\n",
            " 56  availability_90                               19656 non-null  float64\n",
            " 57  availability_365                              19656 non-null  float64\n",
            " 58  number_of_reviews                             19656 non-null  float64\n",
            " 59  number_of_reviews_ltm                         19656 non-null  float64\n",
            " 60  number_of_reviews_l30d                        19656 non-null  float64\n",
            " 61  review_scores_rating                          19656 non-null  float64\n",
            " 62  review_scores_accuracy                        19656 non-null  float64\n",
            " 63  review_scores_cleanliness                     19656 non-null  float64\n",
            " 64  review_scores_checkin                         19656 non-null  float64\n",
            " 65  review_scores_communication                   19656 non-null  float64\n",
            " 66  review_scores_location                        19656 non-null  float64\n",
            " 67  review_scores_value                           19656 non-null  float64\n",
            " 68  calculated_host_listings_count                19656 non-null  float64\n",
            " 69  calculated_host_listings_count_entire_homes   19656 non-null  float64\n",
            " 70  calculated_host_listings_count_private_rooms  19656 non-null  float64\n",
            " 71  calculated_host_listings_count_shared_rooms   19656 non-null  float64\n",
            " 72  reviews_per_month                             19656 non-null  float64\n",
            "dtypes: float64(41), object(32)\n",
            "memory usage: 10.9+ MB\n"
          ]
        }
      ]
    },
    {
      "cell_type": "markdown",
      "source": [
        "## Analizar la correlación que existe en cada tipo de habitación (Elegir 2 tipos) respecto a las variables siguientes en el siguiente orden “(dependiente, independiente)”"
      ],
      "metadata": {
        "id": "EvmgZ7LR4WdH"
      }
    },
    {
      "cell_type": "markdown",
      "source": [
        "# **Tipo de habitación 1: Private room.**"
      ],
      "metadata": {
        "id": "i7bJV9JXYBk0"
      }
    },
    {
      "cell_type": "markdown",
      "source": [
        "## **1.“host_acceptance_rate vs host_response_rate, Price, number_of_reviews , review_scores_rating”**"
      ],
      "metadata": {
        "id": "9bAd7WE3nidJ"
      }
    },
    {
      "cell_type": "code",
      "source": [
        "# Filtrar los datos para obtener solo los tipos de habitación \"Entire home/apt\" y \"Hotel room\"\n",
        "private_room = df[df['room_type'] == 'Private room']"
      ],
      "metadata": {
        "id": "udEq1D9tBpTY"
      },
      "execution_count": 8,
      "outputs": []
    },
    {
      "cell_type": "code",
      "source": [
        "#Cambiar datos\n",
        "private_room['host_response_rate'] = private_room['host_response_rate'].astype(str)  \n",
        "private_room['host_response_rate'] = private_room['host_response_rate'].str.replace('%', '')  \n",
        "private_room['host_response_rate'] = pd.to_numeric(private_room['host_response_rate'], errors='coerce')  \n",
        "private_room[['host_acceptance_rate',\"host_response_rate\"]] = private_room[['host_acceptance_rate',\"host_response_rate\"]].replace('%', '', regex=True).astype('float') / 100"
      ],
      "metadata": {
        "id": "6aagwD7djImp"
      },
      "execution_count": null,
      "outputs": []
    },
    {
      "cell_type": "code",
      "source": [
        "#Imprimimos el scatter plot entre la variable dependiente e independiente\n",
        "#para observar el comportamiento en su dispersión \n",
        "from turtle import color\n",
        "\n",
        "sns.scatterplot(x='host_acceptance_rate', y='host_response_rate',color=\"pink\",data=private_room)\n",
        "sns.scatterplot(x='price', y='host_acceptance_rate', color=\"purple\", data=private_room)\n",
        "sns.scatterplot(x='number_of_reviews', y='host_acceptance_rate', color=\"green\", data=private_room)\n",
        "sns.scatterplot(x='review_scores_rating', y='host_acceptance_rate', color=\"blue\", data=private_room)"
      ],
      "metadata": {
        "colab": {
          "base_uri": "https://localhost:8080/",
          "height": 468
        },
        "id": "1dSITPNrjTOl",
        "outputId": "65e1d422-6420-41ae-cf56-e9cebdce6e85"
      },
      "execution_count": 10,
      "outputs": [
        {
          "output_type": "execute_result",
          "data": {
            "text/plain": [
              "<Axes: xlabel='host_acceptance_rate', ylabel='host_response_rate'>"
            ]
          },
          "metadata": {},
          "execution_count": 10
        },
        {
          "output_type": "display_data",
          "data": {
            "text/plain": [
              "<Figure size 640x480 with 1 Axes>"
            ],
            "image/png": "[encoded data removed]"
          },
          "metadata": {}
        }
      ]
    },
    {
      "cell_type": "code",
      "source": [
        "#Declaramos las variables dependientes e independientes para la regresión lineal\n",
        "\n",
        "Vars_Indep= private_room[['host_response_rate', 'price','number_of_reviews',\"review_scores_rating\"]]\n",
        "Var_Dep= private_room['host_acceptance_rate']"
      ],
      "metadata": {
        "id": "2Q36p2uYjlzf"
      },
      "execution_count": 11,
      "outputs": []
    },
    {
      "cell_type": "code",
      "source": [
        "#Se define model como la función de regresión lineal\n",
        "from sklearn.linear_model import LinearRegression\n",
        "model= LinearRegression()"
      ],
      "metadata": {
        "id": "tOR9v4MDkFzL"
      },
      "execution_count": 12,
      "outputs": []
    },
    {
      "cell_type": "code",
      "source": [
        "#Verificamos la función relacionada al modelo\n",
        "type(model)"
      ],
      "metadata": {
        "colab": {
          "base_uri": "https://localhost:8080/"
        },
        "id": "rPMtA_iqkIhw",
        "outputId": "ed5b14a4-0b4c-4321-878d-5a4539084287"
      },
      "execution_count": 13,
      "outputs": [
        {
          "output_type": "execute_result",
          "data": {
            "text/plain": [
              "sklearn.linear_model._base.LinearRegression"
            ]
          },
          "metadata": {},
          "execution_count": 13
        }
      ]
    },
    {
      "cell_type": "code",
      "source": [
        "#Ajustamos el modelo con las variables antes declaradas\n",
        "model.fit(X=Vars_Indep, y=Var_Dep)"
      ],
      "metadata": {
        "colab": {
          "base_uri": "https://localhost:8080/",
          "height": 75
        },
        "id": "bHcYa_M4kJsz",
        "outputId": "3ecfa332-900f-4db4-ce6c-61017097928d"
      },
      "execution_count": 14,
      "outputs": [
        {
          "output_type": "execute_result",
          "data": {
            "text/plain": [
              "LinearRegression()"
            ],
            "text/html": [
              "<style>#sk-container-id-1 {color: black;background-color: white;}#sk-container-id-1 pre{padding: 0;}#sk-container-id-1 div.sk-toggleable {background-color: white;}#sk-container-id-1 label.sk-toggleable__label {cursor: pointer;display: block;width: 100%;margin-bottom: 0;padding: 0.3em;box-sizing: border-box;text-align: center;}#sk-container-id-1 label.sk-toggleable__label-arrow:before {content: \"▸\";float: left;margin-right: 0.25em;color: #696969;}#sk-container-id-1 label.sk-toggleable__label-arrow:hover:before {color: black;}#sk-container-id-1 div.sk-estimator:hover label.sk-toggleable__label-arrow:before {color: black;}#sk-container-id-1 div.sk-toggleable__content {max-height: 0;max-width: 0;overflow: hidden;text-align: left;background-color: #f0f8ff;}#sk-container-id-1 div.sk-toggleable__content pre {margin: 0.2em;color: black;border-radius: 0.25em;background-color: #f0f8ff;}#sk-container-id-1 input.sk-toggleable__control:checked~div.sk-toggleable__content {max-height: 200px;max-width: 100%;overflow: auto;}#sk-container-id-1 input.sk-toggleable__control:checked~label.sk-toggleable__label-arrow:before {content: \"▾\";}#sk-container-id-1 div.sk-estimator input.sk-toggleable__control:checked~label.sk-toggleable__label {background-color: #d4ebff;}#sk-container-id-1 div.sk-label input.sk-toggleable__control:checked~label.sk-toggleable__label {background-color: #d4ebff;}#sk-container-id-1 input.sk-hidden--visually {border: 0;clip: rect(1px 1px 1px 1px);clip: rect(1px, 1px, 1px, 1px);height: 1px;margin: -1px;overflow: hidden;padding: 0;position: absolute;width: 1px;}#sk-container-id-1 div.sk-estimator {font-family: monospace;background-color: #f0f8ff;border: 1px dotted black;border-radius: 0.25em;box-sizing: border-box;margin-bottom: 0.5em;}#sk-container-id-1 div.sk-estimator:hover {background-color: #d4ebff;}#sk-container-id-1 div.sk-parallel-item::after {content: \"\";width: 100%;border-bottom: 1px solid gray;flex-grow: 1;}#sk-container-id-1 div.sk-label:hover label.sk-toggleable__label {background-color: #d4ebff;}#sk-container-id-1 div.sk-serial::before {content: \"\";position: absolute;border-left: 1px solid gray;box-sizing: border-box;top: 0;bottom: 0;left: 50%;z-index: 0;}#sk-container-id-1 div.sk-serial {display: flex;flex-direction: column;align-items: center;background-color: white;padding-right: 0.2em;padding-left: 0.2em;position: relative;}#sk-container-id-1 div.sk-item {position: relative;z-index: 1;}#sk-container-id-1 div.sk-parallel {display: flex;align-items: stretch;justify-content: center;background-color: white;position: relative;}#sk-container-id-1 div.sk-item::before, #sk-container-id-1 div.sk-parallel-item::before {content: \"\";position: absolute;border-left: 1px solid gray;box-sizing: border-box;top: 0;bottom: 0;left: 50%;z-index: -1;}#sk-container-id-1 div.sk-parallel-item {display: flex;flex-direction: column;z-index: 1;position: relative;background-color: white;}#sk-container-id-1 div.sk-parallel-item:first-child::after {align-self: flex-end;width: 50%;}#sk-container-id-1 div.sk-parallel-item:last-child::after {align-self: flex-start;width: 50%;}#sk-container-id-1 div.sk-parallel-item:only-child::after {width: 0;}#sk-container-id-1 div.sk-dashed-wrapped {border: 1px dashed gray;margin: 0 0.4em 0.5em 0.4em;box-sizing: border-box;padding-bottom: 0.4em;background-color: white;}#sk-container-id-1 div.sk-label label {font-family: monospace;font-weight: bold;display: inline-block;line-height: 1.2em;}#sk-container-id-1 div.sk-label-container {text-align: center;}#sk-container-id-1 div.sk-container {/* jupyter's `normalize.less` sets `[hidden] { display: none; }` but bootstrap.min.css set `[hidden] { display: none !important; }` so we also need the `!important` here to be able to override the default hidden behavior on the sphinx rendered scikit-learn.org. See: https://github.com/scikit-learn/scikit-learn/issues/21755 */display: inline-block !important;position: relative;}#sk-container-id-1 div.sk-text-repr-fallback {display: none;}</style><div id=\"sk-container-id-1\" class=\"sk-top-container\"><div class=\"sk-text-repr-fallback\"><pre>LinearRegression()</pre><b>In a Jupyter environment, please rerun this cell to show the HTML representation or trust the notebook. <br />On GitHub, the HTML representation is unable to render, please try loading this page with nbviewer.org.</b></div><div class=\"sk-container\" hidden><div class=\"sk-item\"><div class=\"sk-estimator sk-toggleable\"><input class=\"sk-toggleable__control sk-hidden--visually\" id=\"sk-estimator-id-1\" type=\"checkbox\" checked><label for=\"sk-estimator-id-1\" class=\"sk-toggleable__label sk-toggleable__label-arrow\">LinearRegression</label><div class=\"sk-toggleable__content\"><pre>LinearRegression()</pre></div></div></div></div></div>"
            ]
          },
          "metadata": {},
          "execution_count": 14
        }
      ]
    },
    {
      "cell_type": "code",
      "source": [
        "#Verificamos los coeficientes obtenidos para el modelo ajustado\n",
        "model.__dict__"
      ],
      "metadata": {
        "colab": {
          "base_uri": "https://localhost:8080/"
        },
        "id": "gTCwkBAmkMOP",
        "outputId": "6cbf0d01-1842-4672-8632-b7ec0bf69670"
      },
      "execution_count": 15,
      "outputs": [
        {
          "output_type": "execute_result",
          "data": {
            "text/plain": [
              "{'fit_intercept': True,\n",
              " 'copy_X': True,\n",
              " 'n_jobs': None,\n",
              " 'positive': False,\n",
              " 'feature_names_in_': array(['host_response_rate', 'price', 'number_of_reviews',\n",
              "        'review_scores_rating'], dtype=object),\n",
              " 'n_features_in_': 4,\n",
              " 'coef_': array([ 1.73407329e-01, -5.72898633e-06, -2.32447628e-04,  1.03802055e-02]),\n",
              " 'rank_': 4,\n",
              " 'singular_': array([1.81586528e+04, 2.70273780e+02, 7.04187506e+00, 9.59537058e-01]),\n",
              " 'intercept_': 0.7416582781291999}"
            ]
          },
          "metadata": {},
          "execution_count": 15
        }
      ]
    },
    {
      "cell_type": "markdown",
      "source": [
        "**Modelo matemático: y= 1.73407329e-01x1 + -5.72898633e-06x2 + -2.32447628e-04x3 + 1.03802055e-02x4 + 0.7416582781291999**"
      ],
      "metadata": {
        "id": "M6AjRqrLkQny"
      }
    },
    {
      "cell_type": "code",
      "source": [
        "#Evaluamos la eficiencia del modelo obtenido por medio del coeficiente R Determinación\n",
        "model.score(Vars_Indep,Var_Dep)"
      ],
      "metadata": {
        "colab": {
          "base_uri": "https://localhost:8080/"
        },
        "id": "cPMi3k4KkRDo",
        "outputId": "ab8777ed-211e-444b-c29d-9ebd2f848719"
      },
      "execution_count": 16,
      "outputs": [
        {
          "output_type": "execute_result",
          "data": {
            "text/plain": [
              "0.012727947067677214"
            ]
          },
          "metadata": {},
          "execution_count": 16
        }
      ]
    },
    {
      "cell_type": "code",
      "source": [
        "#Predecimos los valores de total \n",
        "y_pred= model.predict(X=private_room[['host_response_rate', 'price','number_of_reviews',\"review_scores_rating\"]])\n",
        "y_pred"
      ],
      "metadata": {
        "colab": {
          "base_uri": "https://localhost:8080/"
        },
        "id": "q8H1U_PZkcA-",
        "outputId": "4fa4038a-31ca-40a1-bb65-59886623faf5"
      },
      "execution_count": 17,
      "outputs": [
        {
          "output_type": "execute_result",
          "data": {
            "text/plain": [
              "array([0.96346289, 0.96322665, 0.96337118, ..., 0.94173489, 0.96178942,\n",
              "       0.96164047])"
            ]
          },
          "metadata": {},
          "execution_count": 17
        }
      ]
    },
    {
      "cell_type": "code",
      "source": [
        "#Insertamos la columna de predicciones en el DataFrame\n",
        "private_room.insert(0, 'Predicciones', y_pred)\n",
        "private_room.head()"
      ],
      "metadata": {
        "colab": {
          "base_uri": "https://localhost:8080/",
          "height": 646
        },
        "id": "jNgGaX7jkwIx",
        "outputId": "aa61d815-86ef-4b9c-e7a9-c2c8a28cd926"
      },
      "execution_count": 18,
      "outputs": [
        {
          "output_type": "execute_result",
          "data": {
            "text/plain": [
              "    Predicciones Unnamed: 0                           listing_url  \\\n",
              "0       0.963463          0    https://www.airbnb.com/rooms/14551   \n",
              "1       0.963227          1  https://www.airbnb.com/rooms/1205757   \n",
              "3       0.963371          3   https://www.airbnb.com/rooms/751638   \n",
              "12      0.960209         12   https://www.airbnb.com/rooms/755927   \n",
              "13      0.960992         13   https://www.airbnb.com/rooms/756145   \n",
              "\n",
              "   last_scraped       source                                      name  \\\n",
              "0    31/03/2023  city scrape  Cozy & Colorful by Nature (Private Room)   \n",
              "1    31/03/2023  city scrape       HabitaciÃ³n doble + baÃ±o y terraza   \n",
              "3    31/03/2023  city scrape       Room Limon - Casa Pati de lÂ´Albera   \n",
              "12   31/03/2023  city scrape       Room Oliva - Casa Pati de lÂ´Albera   \n",
              "13   31/03/2023  city scrape       Room Abeto - Casa Pati de lÂ´Albera   \n",
              "\n",
              "                                          description  \\\n",
              "0   Up in the hill of MontjuÃ¯c (a mountain overlo...   \n",
              "1   <b>The space</b><br />HabitaciÃ³n confortable ...   \n",
              "3   <b>The space</b><br />Nice room with 2 individ...   \n",
              "12  <b>The space</b><br />Wide double room, ground...   \n",
              "13  Inside the rural house El Pati de l'Albera is ...   \n",
              "\n",
              "                                neighborhood_overview  \\\n",
              "0   MontjuÃ¯c is most likely the best neighborhood...   \n",
              "1   Bonitas playas a 15 minutos en coche. Piscina ...   \n",
              "3   Sant Climent is a tiny village, with a populat...   \n",
              "12  Sant Climent is a tiny village, with a populat...   \n",
              "13  Sant Climent is a tiny village, with a populat...   \n",
              "\n",
              "                                          picture_url  \\\n",
              "0   https://a0.muscache.com/pictures/16209908/f1fe...   \n",
              "1   https://a0.muscache.com/pictures/02e0a61e-078e...   \n",
              "3   https://a0.muscache.com/pictures/64276178/98d1...   \n",
              "12  https://a0.muscache.com/pictures/9eeac113-fa97...   \n",
              "13  https://a0.muscache.com/pictures/64276036/162f...   \n",
              "\n",
              "                                     host_url  ... review_scores_cleanliness  \\\n",
              "0     https://www.airbnb.com/users/show/57237  ...                      4.94   \n",
              "1   https://www.airbnb.com/users/show/6586355  ...                      4.85   \n",
              "3   https://www.airbnb.com/users/show/3680160  ...                      4.50   \n",
              "12  https://www.airbnb.com/users/show/3680160  ...                      4.50   \n",
              "13  https://www.airbnb.com/users/show/3680160  ...                      4.55   \n",
              "\n",
              "   review_scores_checkin review_scores_communication review_scores_location  \\\n",
              "0                   4.89                        4.91                   4.63   \n",
              "1                   4.85                        4.91                   4.69   \n",
              "3                   4.86                        5.00                   4.63   \n",
              "12                  5.00                        5.00                   4.70   \n",
              "13                  4.82                        4.82                   4.36   \n",
              "\n",
              "   review_scores_value calculated_host_listings_count  \\\n",
              "0                 4.74                            1.0   \n",
              "1                 4.80                            1.0   \n",
              "3                 4.50                            6.0   \n",
              "12                4.90                            6.0   \n",
              "13                4.45                            6.0   \n",
              "\n",
              "   calculated_host_listings_count_entire_homes  \\\n",
              "0                                          0.0   \n",
              "1                                          0.0   \n",
              "3                                          1.0   \n",
              "12                                         1.0   \n",
              "13                                         1.0   \n",
              "\n",
              "   calculated_host_listings_count_private_rooms  \\\n",
              "0                                           0.0   \n",
              "1                                           0.0   \n",
              "3                                           0.0   \n",
              "12                                          0.0   \n",
              "13                                          0.0   \n",
              "\n",
              "   calculated_host_listings_count_shared_rooms reviews_per_month  \n",
              "0                                          0.0              0.37  \n",
              "1                                          0.0              0.51  \n",
              "3                                          0.0              0.08  \n",
              "12                                         0.0              0.09  \n",
              "13                                         0.0              0.09  \n",
              "\n",
              "[5 rows x 74 columns]"
            ],
            "text/html": [
              "\n",
              "  <div id=\"df-4cb90ce9-4e5f-428b-be76-88ca2ad8ca59\">\n",
              "    <div class=\"colab-df-container\">\n",
              "      <div>\n",
              "<style scoped>\n",
              "    .dataframe tbody tr th:only-of-type {\n",
              "        vertical-align: middle;\n",
              "    }\n",
              "\n",
              "    .dataframe tbody tr th {\n",
              "        vertical-align: top;\n",
              "    }\n",
              "\n",
              "    .dataframe thead th {\n",
              "        text-align: right;\n",
              "    }\n",
              "</style>\n",
              "<table border=\"1\" class=\"dataframe\">\n",
              "  <thead>\n",
              "    <tr style=\"text-align: right;\">\n",
              "      <th></th>\n",
              "      <th>Predicciones</th>\n",
              "      <th>Unnamed: 0</th>\n",
              "      <th>listing_url</th>\n",
              "      <th>last_scraped</th>\n",
              "      <th>source</th>\n",
              "      <th>name</th>\n",
              "      <th>description</th>\n",
              "      <th>neighborhood_overview</th>\n",
              "      <th>picture_url</th>\n",
              "      <th>host_url</th>\n",
              "      <th>...</th>\n",
              "      <th>review_scores_cleanliness</th>\n",
              "      <th>review_scores_checkin</th>\n",
              "      <th>review_scores_communication</th>\n",
              "      <th>review_scores_location</th>\n",
              "      <th>review_scores_value</th>\n",
              "      <th>calculated_host_listings_count</th>\n",
              "      <th>calculated_host_listings_count_entire_homes</th>\n",
              "      <th>calculated_host_listings_count_private_rooms</th>\n",
              "      <th>calculated_host_listings_count_shared_rooms</th>\n",
              "      <th>reviews_per_month</th>\n",
              "    </tr>\n",
              "  </thead>\n",
              "  <tbody>\n",
              "    <tr>\n",
              "      <th>0</th>\n",
              "      <td>0.963463</td>\n",
              "      <td>0</td>\n",
              "      <td>https://www.airbnb.com/rooms/14551</td>\n",
              "      <td>31/03/2023</td>\n",
              "      <td>city scrape</td>\n",
              "      <td>Cozy &amp; Colorful by Nature (Private Room)</td>\n",
              "      <td>Up in the hill of MontjuÃ¯c (a mountain overlo...</td>\n",
              "      <td>MontjuÃ¯c is most likely the best neighborhood...</td>\n",
              "      <td>https://a0.muscache.com/pictures/16209908/f1fe...</td>\n",
              "      <td>https://www.airbnb.com/users/show/57237</td>\n",
              "      <td>...</td>\n",
              "      <td>4.94</td>\n",
              "      <td>4.89</td>\n",
              "      <td>4.91</td>\n",
              "      <td>4.63</td>\n",
              "      <td>4.74</td>\n",
              "      <td>1.0</td>\n",
              "      <td>0.0</td>\n",
              "      <td>0.0</td>\n",
              "      <td>0.0</td>\n",
              "      <td>0.37</td>\n",
              "    </tr>\n",
              "    <tr>\n",
              "      <th>1</th>\n",
              "      <td>0.963227</td>\n",
              "      <td>1</td>\n",
              "      <td>https://www.airbnb.com/rooms/1205757</td>\n",
              "      <td>31/03/2023</td>\n",
              "      <td>city scrape</td>\n",
              "      <td>HabitaciÃ³n doble + baÃ±o y terraza</td>\n",
              "      <td>&lt;b&gt;The space&lt;/b&gt;&lt;br /&gt;HabitaciÃ³n confortable ...</td>\n",
              "      <td>Bonitas playas a 15 minutos en coche. Piscina ...</td>\n",
              "      <td>https://a0.muscache.com/pictures/02e0a61e-078e...</td>\n",
              "      <td>https://www.airbnb.com/users/show/6586355</td>\n",
              "      <td>...</td>\n",
              "      <td>4.85</td>\n",
              "      <td>4.85</td>\n",
              "      <td>4.91</td>\n",
              "      <td>4.69</td>\n",
              "      <td>4.80</td>\n",
              "      <td>1.0</td>\n",
              "      <td>0.0</td>\n",
              "      <td>0.0</td>\n",
              "      <td>0.0</td>\n",
              "      <td>0.51</td>\n",
              "    </tr>\n",
              "    <tr>\n",
              "      <th>3</th>\n",
              "      <td>0.963371</td>\n",
              "      <td>3</td>\n",
              "      <td>https://www.airbnb.com/rooms/751638</td>\n",
              "      <td>31/03/2023</td>\n",
              "      <td>city scrape</td>\n",
              "      <td>Room Limon - Casa Pati de lÂ´Albera</td>\n",
              "      <td>&lt;b&gt;The space&lt;/b&gt;&lt;br /&gt;Nice room with 2 individ...</td>\n",
              "      <td>Sant Climent is a tiny village, with a populat...</td>\n",
              "      <td>https://a0.muscache.com/pictures/64276178/98d1...</td>\n",
              "      <td>https://www.airbnb.com/users/show/3680160</td>\n",
              "      <td>...</td>\n",
              "      <td>4.50</td>\n",
              "      <td>4.86</td>\n",
              "      <td>5.00</td>\n",
              "      <td>4.63</td>\n",
              "      <td>4.50</td>\n",
              "      <td>6.0</td>\n",
              "      <td>1.0</td>\n",
              "      <td>0.0</td>\n",
              "      <td>0.0</td>\n",
              "      <td>0.08</td>\n",
              "    </tr>\n",
              "    <tr>\n",
              "      <th>12</th>\n",
              "      <td>0.960209</td>\n",
              "      <td>12</td>\n",
              "      <td>https://www.airbnb.com/rooms/755927</td>\n",
              "      <td>31/03/2023</td>\n",
              "      <td>city scrape</td>\n",
              "      <td>Room Oliva - Casa Pati de lÂ´Albera</td>\n",
              "      <td>&lt;b&gt;The space&lt;/b&gt;&lt;br /&gt;Wide double room, ground...</td>\n",
              "      <td>Sant Climent is a tiny village, with a populat...</td>\n",
              "      <td>https://a0.muscache.com/pictures/9eeac113-fa97...</td>\n",
              "      <td>https://www.airbnb.com/users/show/3680160</td>\n",
              "      <td>...</td>\n",
              "      <td>4.50</td>\n",
              "      <td>5.00</td>\n",
              "      <td>5.00</td>\n",
              "      <td>4.70</td>\n",
              "      <td>4.90</td>\n",
              "      <td>6.0</td>\n",
              "      <td>1.0</td>\n",
              "      <td>0.0</td>\n",
              "      <td>0.0</td>\n",
              "      <td>0.09</td>\n",
              "    </tr>\n",
              "    <tr>\n",
              "      <th>13</th>\n",
              "      <td>0.960992</td>\n",
              "      <td>13</td>\n",
              "      <td>https://www.airbnb.com/rooms/756145</td>\n",
              "      <td>31/03/2023</td>\n",
              "      <td>city scrape</td>\n",
              "      <td>Room Abeto - Casa Pati de lÂ´Albera</td>\n",
              "      <td>Inside the rural house El Pati de l'Albera is ...</td>\n",
              "      <td>Sant Climent is a tiny village, with a populat...</td>\n",
              "      <td>https://a0.muscache.com/pictures/64276036/162f...</td>\n",
              "      <td>https://www.airbnb.com/users/show/3680160</td>\n",
              "      <td>...</td>\n",
              "      <td>4.55</td>\n",
              "      <td>4.82</td>\n",
              "      <td>4.82</td>\n",
              "      <td>4.36</td>\n",
              "      <td>4.45</td>\n",
              "      <td>6.0</td>\n",
              "      <td>1.0</td>\n",
              "      <td>0.0</td>\n",
              "      <td>0.0</td>\n",
              "      <td>0.09</td>\n",
              "    </tr>\n",
              "  </tbody>\n",
              "</table>\n",
              "<p>5 rows × 74 columns</p>\n",
              "</div>\n",
              "      <button class=\"colab-df-convert\" onclick=\"convertToInteractive('df-4cb90ce9-4e5f-428b-be76-88ca2ad8ca59')\"\n",
              "              title=\"Convert this dataframe to an interactive table.\"\n",
              "              style=\"display:none;\">\n",
              "        \n",
              "  <svg xmlns=\"http://www.w3.org/2000/svg\" height=\"24px\"viewBox=\"0 0 24 24\"\n",
              "       width=\"24px\">\n",
              "    <path d=\"M0 0h24v24H0V0z\" fill=\"none\"/>\n",
              "    <path d=\"M18.56 5.44l.94 2.06.94-2.06 2.06-.94-2.06-.94-.94-2.06-.94 2.06-2.06.94zm-11 1L8.5 8.5l.94-2.06 2.06-.94-2.06-.94L8.5 2.5l-.94 2.06-2.06.94zm10 10l.94 2.06.94-2.06 2.06-.94-2.06-.94-.94-2.06-.94 2.06-2.06.94z\"/><path d=\"M17.41 7.96l-1.37-1.37c-.4-.4-.92-.59-1.43-.59-.52 0-1.04.2-1.43.59L10.3 9.45l-7.72 7.72c-.78.78-.78 2.05 0 2.83L4 21.41c.39.39.9.59 1.41.59.51 0 1.02-.2 1.41-.59l7.78-7.78 2.81-2.81c.8-.78.8-2.07 0-2.86zM5.41 20L4 18.59l7.72-7.72 1.47 1.35L5.41 20z\"/>\n",
              "  </svg>\n",
              "      </button>\n",
              "      \n",
              "  <style>\n",
              "    .colab-df-container {\n",
              "      display:flex;\n",
              "      flex-wrap:wrap;\n",
              "      gap: 12px;\n",
              "    }\n",
              "\n",
              "    .colab-df-convert {\n",
              "      background-color: #E8F0FE;\n",
              "      border: none;\n",
              "      border-radius: 50%;\n",
              "      cursor: pointer;\n",
              "      display: none;\n",
              "      fill: #1967D2;\n",
              "      height: 32px;\n",
              "      padding: 0 0 0 0;\n",
              "      width: 32px;\n",
              "    }\n",
              "\n",
              "    .colab-df-convert:hover {\n",
              "      background-color: #E2EBFA;\n",
              "      box-shadow: 0px 1px 2px rgba(60, 64, 67, 0.3), 0px 1px 3px 1px rgba(60, 64, 67, 0.15);\n",
              "      fill: #174EA6;\n",
              "    }\n",
              "\n",
              "    [theme=dark] .colab-df-convert {\n",
              "      background-color: #3B4455;\n",
              "      fill: #D2E3FC;\n",
              "    }\n",
              "\n",
              "    [theme=dark] .colab-df-convert:hover {\n",
              "      background-color: #434B5C;\n",
              "      box-shadow: 0px 1px 3px 1px rgba(0, 0, 0, 0.15);\n",
              "      filter: drop-shadow(0px 1px 2px rgba(0, 0, 0, 0.3));\n",
              "      fill: #FFFFFF;\n",
              "    }\n",
              "  </style>\n",
              "\n",
              "      <script>\n",
              "        const buttonEl =\n",
              "          document.querySelector('#df-4cb90ce9-4e5f-428b-be76-88ca2ad8ca59 button.colab-df-convert');\n",
              "        buttonEl.style.display =\n",
              "          google.colab.kernel.accessAllowed ? 'block' : 'none';\n",
              "\n",
              "        async function convertToInteractive(key) {\n",
              "          const element = document.querySelector('#df-4cb90ce9-4e5f-428b-be76-88ca2ad8ca59');\n",
              "          const dataTable =\n",
              "            await google.colab.kernel.invokeFunction('convertToInteractive',\n",
              "                                                     [key], {});\n",
              "          if (!dataTable) return;\n",
              "\n",
              "          const docLinkHtml = 'Like what you see? Visit the ' +\n",
              "            '<a target=\"_blank\" href=https://colab.research.google.com/notebooks/data_table.ipynb>data table notebook</a>'\n",
              "            + ' to learn more about interactive tables.';\n",
              "          element.innerHTML = '';\n",
              "          dataTable['output_type'] = 'display_data';\n",
              "          await google.colab.output.renderOutput(dataTable, element);\n",
              "          const docLink = document.createElement('div');\n",
              "          docLink.innerHTML = docLinkHtml;\n",
              "          element.appendChild(docLink);\n",
              "        }\n",
              "      </script>\n",
              "    </div>\n",
              "  </div>\n",
              "  "
            ]
          },
          "metadata": {},
          "execution_count": 18
        }
      ]
    },
    {
      "cell_type": "code",
      "source": [
        "#Visualizamos la gráfica comparativa entre el total real y el total predecido\n",
        "\n",
        "sns.scatterplot(x='host_response_rate', y='host_acceptance_rate', color=\"pink\", data=private_room)\n",
        "sns.scatterplot(x='host_response_rate', y='Predicciones', color=\"blue\", data=private_room)"
      ],
      "metadata": {
        "colab": {
          "base_uri": "https://localhost:8080/",
          "height": 468
        },
        "id": "nNH3SEumkf1l",
        "outputId": "a2df9cbb-be0a-477a-e472-3ef2bb452c36"
      },
      "execution_count": 19,
      "outputs": [
        {
          "output_type": "execute_result",
          "data": {
            "text/plain": [
              "<Axes: xlabel='host_response_rate', ylabel='host_acceptance_rate'>"
            ]
          },
          "metadata": {},
          "execution_count": 19
        },
        {
          "output_type": "display_data",
          "data": {
            "text/plain": [
              "<Figure size 640x480 with 1 Axes>"
            ],
            "image/png": "[encoded data removed]"
          },
          "metadata": {}
        }
      ]
    },
    {
      "cell_type": "code",
      "source": [
        "sns.scatterplot(x='host_response_rate', y='host_acceptance_rate', color=\"pink\", data=private_room)\n",
        "sns.scatterplot(x='price', y='host_acceptance_rate', color=\"red\", data=private_room)\n",
        "sns.scatterplot(x='number_of_reviews', y='host_acceptance_rate', color=\"blue\", data=private_room)\n",
        "sns.scatterplot(x='review_scores_rating', y='host_acceptance_rate', color=\"magenta\", data=private_room)\n",
        "sns.scatterplot(x='host_acceptance_rate', y='Predicciones', color=\"green\", data=private_room)"
      ],
      "metadata": {
        "colab": {
          "base_uri": "https://localhost:8080/",
          "height": 468
        },
        "id": "V_js624E-Cg9",
        "outputId": "4d6a594c-d92c-4ce0-c32f-b515b0b992fb"
      },
      "execution_count": 20,
      "outputs": [
        {
          "output_type": "execute_result",
          "data": {
            "text/plain": [
              "<Axes: xlabel='host_response_rate', ylabel='host_acceptance_rate'>"
            ]
          },
          "metadata": {},
          "execution_count": 20
        },
        {
          "output_type": "display_data",
          "data": {
            "text/plain": [
              "<Figure size 640x480 with 1 Axes>"
            ],
            "image/png": "[encoded data removed]"
          },
          "metadata": {}
        }
      ]
    },
    {
      "cell_type": "code",
      "source": [
        "#Corroboramos cual es el coeficiente de Determinación de nuestro modelo\n",
        "coef_Deter=model.score(X=Vars_Indep, y=Var_Dep)\n",
        "#Corroboramos cual es el coeficiente de Correlación de nuestro modelo\n",
        "coef_Correl=np.sqrt(coef_Deter)\n",
        "print(\"Coeficiente de determinacion: \",coef_Deter)\n",
        "print(\"Coeficiente de correlación: \", coef_Correl)"
      ],
      "metadata": {
        "colab": {
          "base_uri": "https://localhost:8080/"
        },
        "id": "3onl87AClTAA",
        "outputId": "7e822bff-ace4-47fd-e4a9-62563086d283"
      },
      "execution_count": 21,
      "outputs": [
        {
          "output_type": "stream",
          "name": "stdout",
          "text": [
            "Coeficiente de determinacion:  0.012727947067677214\n",
            "Coeficiente de correlación:  0.11281820361837541\n"
          ]
        }
      ]
    },
    {
      "cell_type": "markdown",
      "source": [
        "## **2.“Price” vs availability_365, host_response_rate, number_of_reviews, accommodates“**"
      ],
      "metadata": {
        "id": "2LtgJqcanujw"
      }
    },
    {
      "cell_type": "code",
      "source": [
        "#Imprimimos el scatter plot entre la variable dependiente e independiente\n",
        "#para observar el comportamiento en su dispersión \n",
        "from turtle import color\n",
        "\n",
        "sns.scatterplot(x='availability_365', y='price', color=\"pink\", data=private_room)\n",
        "sns.scatterplot(x='host_response_rate', y='price', color=\"red\", data=private_room)\n",
        "sns.scatterplot(x='number_of_reviews', y='price', color=\"blue\", data=private_room)\n",
        "sns.scatterplot(x='accommodates', y='price', color=\"green\", data=private_room)"
      ],
      "metadata": {
        "colab": {
          "base_uri": "https://localhost:8080/",
          "height": 468
        },
        "id": "b--Glr-HnyVU",
        "outputId": "bae4b5e1-adb6-48bc-eb45-4e1813a7816d"
      },
      "execution_count": 22,
      "outputs": [
        {
          "output_type": "execute_result",
          "data": {
            "text/plain": [
              "<Axes: xlabel='availability_365', ylabel='price'>"
            ]
          },
          "metadata": {},
          "execution_count": 22
        },
        {
          "output_type": "display_data",
          "data": {
            "text/plain": [
              "<Figure size 640x480 with 1 Axes>"
            ],
            "image/png": "[encoded data removed]"
          },
          "metadata": {}
        }
      ]
    },
    {
      "cell_type": "code",
      "source": [
        "#Declaramos las variables dependientes e independientes para la regresión lineal\n",
        "\n",
        "Vars_Indep= private_room[['availability_365', 'host_response_rate','number_of_reviews',\"accommodates\"]]\n",
        "Var_Dep= private_room['price']"
      ],
      "metadata": {
        "id": "rqn6TvvkoOFy"
      },
      "execution_count": 23,
      "outputs": []
    },
    {
      "cell_type": "code",
      "source": [
        "#Se define model como la función de regresión lineal\n",
        "from sklearn.linear_model import LinearRegression\n",
        "model= LinearRegression()"
      ],
      "metadata": {
        "id": "cipEVOkeoN-y"
      },
      "execution_count": 24,
      "outputs": []
    },
    {
      "cell_type": "code",
      "source": [
        "#Verificamos la función relacionada al modelo\n",
        "type(model)"
      ],
      "metadata": {
        "colab": {
          "base_uri": "https://localhost:8080/"
        },
        "id": "JSagJ5wEoXkm",
        "outputId": "dbf4fb78-b21f-4dc4-8e14-00752fef7650"
      },
      "execution_count": 25,
      "outputs": [
        {
          "output_type": "execute_result",
          "data": {
            "text/plain": [
              "sklearn.linear_model._base.LinearRegression"
            ]
          },
          "metadata": {},
          "execution_count": 25
        }
      ]
    },
    {
      "cell_type": "code",
      "source": [
        "#Ajustamos el modelo con las variables antes declaradas\n",
        "model.fit(X=Vars_Indep, y=Var_Dep)"
      ],
      "metadata": {
        "colab": {
          "base_uri": "https://localhost:8080/",
          "height": 75
        },
        "id": "07fOMtBAoaEv",
        "outputId": "51424432-ce1c-4ebe-8a10-cbfca6d9ac3e"
      },
      "execution_count": 26,
      "outputs": [
        {
          "output_type": "execute_result",
          "data": {
            "text/plain": [
              "LinearRegression()"
            ],
            "text/html": [
              "<style>#sk-container-id-2 {color: black;background-color: white;}#sk-container-id-2 pre{padding: 0;}#sk-container-id-2 div.sk-toggleable {background-color: white;}#sk-container-id-2 label.sk-toggleable__label {cursor: pointer;display: block;width: 100%;margin-bottom: 0;padding: 0.3em;box-sizing: border-box;text-align: center;}#sk-container-id-2 label.sk-toggleable__label-arrow:before {content: \"▸\";float: left;margin-right: 0.25em;color: #696969;}#sk-container-id-2 label.sk-toggleable__label-arrow:hover:before {color: black;}#sk-container-id-2 div.sk-estimator:hover label.sk-toggleable__label-arrow:before {color: black;}#sk-container-id-2 div.sk-toggleable__content {max-height: 0;max-width: 0;overflow: hidden;text-align: left;background-color: #f0f8ff;}#sk-container-id-2 div.sk-toggleable__content pre {margin: 0.2em;color: black;border-radius: 0.25em;background-color: #f0f8ff;}#sk-container-id-2 input.sk-toggleable__control:checked~div.sk-toggleable__content {max-height: 200px;max-width: 100%;overflow: auto;}#sk-container-id-2 input.sk-toggleable__control:checked~label.sk-toggleable__label-arrow:before {content: \"▾\";}#sk-container-id-2 div.sk-estimator input.sk-toggleable__control:checked~label.sk-toggleable__label {background-color: #d4ebff;}#sk-container-id-2 div.sk-label input.sk-toggleable__control:checked~label.sk-toggleable__label {background-color: #d4ebff;}#sk-container-id-2 input.sk-hidden--visually {border: 0;clip: rect(1px 1px 1px 1px);clip: rect(1px, 1px, 1px, 1px);height: 1px;margin: -1px;overflow: hidden;padding: 0;position: absolute;width: 1px;}#sk-container-id-2 div.sk-estimator {font-family: monospace;background-color: #f0f8ff;border: 1px dotted black;border-radius: 0.25em;box-sizing: border-box;margin-bottom: 0.5em;}#sk-container-id-2 div.sk-estimator:hover {background-color: #d4ebff;}#sk-container-id-2 div.sk-parallel-item::after {content: \"\";width: 100%;border-bottom: 1px solid gray;flex-grow: 1;}#sk-container-id-2 div.sk-label:hover label.sk-toggleable__label {background-color: #d4ebff;}#sk-container-id-2 div.sk-serial::before {content: \"\";position: absolute;border-left: 1px solid gray;box-sizing: border-box;top: 0;bottom: 0;left: 50%;z-index: 0;}#sk-container-id-2 div.sk-serial {display: flex;flex-direction: column;align-items: center;background-color: white;padding-right: 0.2em;padding-left: 0.2em;position: relative;}#sk-container-id-2 div.sk-item {position: relative;z-index: 1;}#sk-container-id-2 div.sk-parallel {display: flex;align-items: stretch;justify-content: center;background-color: white;position: relative;}#sk-container-id-2 div.sk-item::before, #sk-container-id-2 div.sk-parallel-item::before {content: \"\";position: absolute;border-left: 1px solid gray;box-sizing: border-box;top: 0;bottom: 0;left: 50%;z-index: -1;}#sk-container-id-2 div.sk-parallel-item {display: flex;flex-direction: column;z-index: 1;position: relative;background-color: white;}#sk-container-id-2 div.sk-parallel-item:first-child::after {align-self: flex-end;width: 50%;}#sk-container-id-2 div.sk-parallel-item:last-child::after {align-self: flex-start;width: 50%;}#sk-container-id-2 div.sk-parallel-item:only-child::after {width: 0;}#sk-container-id-2 div.sk-dashed-wrapped {border: 1px dashed gray;margin: 0 0.4em 0.5em 0.4em;box-sizing: border-box;padding-bottom: 0.4em;background-color: white;}#sk-container-id-2 div.sk-label label {font-family: monospace;font-weight: bold;display: inline-block;line-height: 1.2em;}#sk-container-id-2 div.sk-label-container {text-align: center;}#sk-container-id-2 div.sk-container {/* jupyter's `normalize.less` sets `[hidden] { display: none; }` but bootstrap.min.css set `[hidden] { display: none !important; }` so we also need the `!important` here to be able to override the default hidden behavior on the sphinx rendered scikit-learn.org. See: https://github.com/scikit-learn/scikit-learn/issues/21755 */display: inline-block !important;position: relative;}#sk-container-id-2 div.sk-text-repr-fallback {display: none;}</style><div id=\"sk-container-id-2\" class=\"sk-top-container\"><div class=\"sk-text-repr-fallback\"><pre>LinearRegression()</pre><b>In a Jupyter environment, please rerun this cell to show the HTML representation or trust the notebook. <br />On GitHub, the HTML representation is unable to render, please try loading this page with nbviewer.org.</b></div><div class=\"sk-container\" hidden><div class=\"sk-item\"><div class=\"sk-estimator sk-toggleable\"><input class=\"sk-toggleable__control sk-hidden--visually\" id=\"sk-estimator-id-2\" type=\"checkbox\" checked><label for=\"sk-estimator-id-2\" class=\"sk-toggleable__label sk-toggleable__label-arrow\">LinearRegression</label><div class=\"sk-toggleable__content\"><pre>LinearRegression()</pre></div></div></div></div></div>"
            ]
          },
          "metadata": {},
          "execution_count": 26
        }
      ]
    },
    {
      "cell_type": "code",
      "source": [
        "#Verificamos los coeficientes obtenidos para el modelo ajustado\n",
        "model.__dict__"
      ],
      "metadata": {
        "colab": {
          "base_uri": "https://localhost:8080/"
        },
        "id": "x6IuxKICocpW",
        "outputId": "d1ad99a3-50c1-43f6-e015-2e39856a52e9"
      },
      "execution_count": 27,
      "outputs": [
        {
          "output_type": "execute_result",
          "data": {
            "text/plain": [
              "{'fit_intercept': True,\n",
              " 'copy_X': True,\n",
              " 'n_jobs': None,\n",
              " 'positive': False,\n",
              " 'feature_names_in_': array(['availability_365', 'host_response_rate', 'number_of_reviews',\n",
              "        'accommodates'], dtype=object),\n",
              " 'n_features_in_': 4,\n",
              " 'coef_': array([-4.21350048e-01, -1.77866997e+03, -7.42219408e+00, -7.77181550e+00]),\n",
              " 'rank_': 4,\n",
              " 'singular_': array([4.20879215e+03, 2.72482784e+02, 4.09926140e+01, 9.60459195e-01]),\n",
              " 'intercept_': 2063.5224657697313}"
            ]
          },
          "metadata": {},
          "execution_count": 27
        }
      ]
    },
    {
      "cell_type": "markdown",
      "source": [
        "**Modelo matemático: y= -4.21350048e-01x1 + -1.77866997e+03x2 + -7.42219408e+00x3 + -7.77181550e+00x4 + 2063.5224657697313**"
      ],
      "metadata": {
        "id": "q3Kk-ZqjomXJ"
      }
    },
    {
      "cell_type": "code",
      "source": [
        "#Evaluamos la eficiencia del modelo obtenido por medio del coeficiente R Determinación\n",
        "model.score(Vars_Indep,Var_Dep)"
      ],
      "metadata": {
        "colab": {
          "base_uri": "https://localhost:8080/"
        },
        "id": "YdlDQD_5omqW",
        "outputId": "bbe31eda-ea47-46ac-c5c6-0436ba209682"
      },
      "execution_count": 28,
      "outputs": [
        {
          "output_type": "execute_result",
          "data": {
            "text/plain": [
              "0.03747479663139719"
            ]
          },
          "metadata": {},
          "execution_count": 28
        }
      ]
    },
    {
      "cell_type": "code",
      "source": [
        "#Predecimos los valores de total \n",
        "y_pred= model.predict(X=private_room[['availability_365', 'host_response_rate','number_of_reviews',\"accommodates\"]])\n",
        "y_pred"
      ],
      "metadata": {
        "colab": {
          "base_uri": "https://localhost:8080/"
        },
        "id": "56Lc4apxoouI",
        "outputId": "548532d5-61c4-444f-ea54-2cc344510559"
      },
      "execution_count": 29,
      "outputs": [
        {
          "output_type": "execute_result",
          "data": {
            "text/plain": [
              "array([101.32014022, 105.95499075,  98.01431016, ..., 358.02657268,\n",
              "       222.39781957, 116.35880132])"
            ]
          },
          "metadata": {},
          "execution_count": 29
        }
      ]
    },
    {
      "cell_type": "code",
      "source": [
        "#Insertamos la columna de predicciones en el DataFrame\n",
        "private_room.insert(0, 'Predicciones2', y_pred)\n",
        "private_room.head()"
      ],
      "metadata": {
        "colab": {
          "base_uri": "https://localhost:8080/",
          "height": 646
        },
        "id": "UIE71_9cordi",
        "outputId": "d367a36d-313c-4104-dec9-828a6b91f8ee"
      },
      "execution_count": 30,
      "outputs": [
        {
          "output_type": "execute_result",
          "data": {
            "text/plain": [
              "    Predicciones2  Predicciones Unnamed: 0  \\\n",
              "0      101.320140      0.963463          0   \n",
              "1      105.954991      0.963227          1   \n",
              "3       98.014310      0.963371          3   \n",
              "12      83.241651      0.960209         12   \n",
              "13      75.819457      0.960992         13   \n",
              "\n",
              "                             listing_url last_scraped       source  \\\n",
              "0     https://www.airbnb.com/rooms/14551   31/03/2023  city scrape   \n",
              "1   https://www.airbnb.com/rooms/1205757   31/03/2023  city scrape   \n",
              "3    https://www.airbnb.com/rooms/751638   31/03/2023  city scrape   \n",
              "12   https://www.airbnb.com/rooms/755927   31/03/2023  city scrape   \n",
              "13   https://www.airbnb.com/rooms/756145   31/03/2023  city scrape   \n",
              "\n",
              "                                        name  \\\n",
              "0   Cozy & Colorful by Nature (Private Room)   \n",
              "1        HabitaciÃ³n doble + baÃ±o y terraza   \n",
              "3        Room Limon - Casa Pati de lÂ´Albera   \n",
              "12       Room Oliva - Casa Pati de lÂ´Albera   \n",
              "13       Room Abeto - Casa Pati de lÂ´Albera   \n",
              "\n",
              "                                          description  \\\n",
              "0   Up in the hill of MontjuÃ¯c (a mountain overlo...   \n",
              "1   <b>The space</b><br />HabitaciÃ³n confortable ...   \n",
              "3   <b>The space</b><br />Nice room with 2 individ...   \n",
              "12  <b>The space</b><br />Wide double room, ground...   \n",
              "13  Inside the rural house El Pati de l'Albera is ...   \n",
              "\n",
              "                                neighborhood_overview  \\\n",
              "0   MontjuÃ¯c is most likely the best neighborhood...   \n",
              "1   Bonitas playas a 15 minutos en coche. Piscina ...   \n",
              "3   Sant Climent is a tiny village, with a populat...   \n",
              "12  Sant Climent is a tiny village, with a populat...   \n",
              "13  Sant Climent is a tiny village, with a populat...   \n",
              "\n",
              "                                          picture_url  ...  \\\n",
              "0   https://a0.muscache.com/pictures/16209908/f1fe...  ...   \n",
              "1   https://a0.muscache.com/pictures/02e0a61e-078e...  ...   \n",
              "3   https://a0.muscache.com/pictures/64276178/98d1...  ...   \n",
              "12  https://a0.muscache.com/pictures/9eeac113-fa97...  ...   \n",
              "13  https://a0.muscache.com/pictures/64276036/162f...  ...   \n",
              "\n",
              "   review_scores_cleanliness review_scores_checkin  \\\n",
              "0                       4.94                  4.89   \n",
              "1                       4.85                  4.85   \n",
              "3                       4.50                  4.86   \n",
              "12                      4.50                  5.00   \n",
              "13                      4.55                  4.82   \n",
              "\n",
              "   review_scores_communication review_scores_location review_scores_value  \\\n",
              "0                         4.91                   4.63                4.74   \n",
              "1                         4.91                   4.69                4.80   \n",
              "3                         5.00                   4.63                4.50   \n",
              "12                        5.00                   4.70                4.90   \n",
              "13                        4.82                   4.36                4.45   \n",
              "\n",
              "   calculated_host_listings_count calculated_host_listings_count_entire_homes  \\\n",
              "0                             1.0                                         0.0   \n",
              "1                             1.0                                         0.0   \n",
              "3                             6.0                                         1.0   \n",
              "12                            6.0                                         1.0   \n",
              "13                            6.0                                         1.0   \n",
              "\n",
              "   calculated_host_listings_count_private_rooms  \\\n",
              "0                                           0.0   \n",
              "1                                           0.0   \n",
              "3                                           0.0   \n",
              "12                                          0.0   \n",
              "13                                          0.0   \n",
              "\n",
              "   calculated_host_listings_count_shared_rooms reviews_per_month  \n",
              "0                                          0.0              0.37  \n",
              "1                                          0.0              0.51  \n",
              "3                                          0.0              0.08  \n",
              "12                                         0.0              0.09  \n",
              "13                                         0.0              0.09  \n",
              "\n",
              "[5 rows x 75 columns]"
            ],
            "text/html": [
              "\n",
              "  <div id=\"df-1e345224-e00c-493c-b740-77cf49175d06\">\n",
              "    <div class=\"colab-df-container\">\n",
              "      <div>\n",
              "<style scoped>\n",
              "    .dataframe tbody tr th:only-of-type {\n",
              "        vertical-align: middle;\n",
              "    }\n",
              "\n",
              "    .dataframe tbody tr th {\n",
              "        vertical-align: top;\n",
              "    }\n",
              "\n",
              "    .dataframe thead th {\n",
              "        text-align: right;\n",
              "    }\n",
              "</style>\n",
              "<table border=\"1\" class=\"dataframe\">\n",
              "  <thead>\n",
              "    <tr style=\"text-align: right;\">\n",
              "      <th></th>\n",
              "      <th>Predicciones2</th>\n",
              "      <th>Predicciones</th>\n",
              "      <th>Unnamed: 0</th>\n",
              "      <th>listing_url</th>\n",
              "      <th>last_scraped</th>\n",
              "      <th>source</th>\n",
              "      <th>name</th>\n",
              "      <th>description</th>\n",
              "      <th>neighborhood_overview</th>\n",
              "      <th>picture_url</th>\n",
              "      <th>...</th>\n",
              "      <th>review_scores_cleanliness</th>\n",
              "      <th>review_scores_checkin</th>\n",
              "      <th>review_scores_communication</th>\n",
              "      <th>review_scores_location</th>\n",
              "      <th>review_scores_value</th>\n",
              "      <th>calculated_host_listings_count</th>\n",
              "      <th>calculated_host_listings_count_entire_homes</th>\n",
              "      <th>calculated_host_listings_count_private_rooms</th>\n",
              "      <th>calculated_host_listings_count_shared_rooms</th>\n",
              "      <th>reviews_per_month</th>\n",
              "    </tr>\n",
              "  </thead>\n",
              "  <tbody>\n",
              "    <tr>\n",
              "      <th>0</th>\n",
              "      <td>101.320140</td>\n",
              "      <td>0.963463</td>\n",
              "      <td>0</td>\n",
              "      <td>https://www.airbnb.com/rooms/14551</td>\n",
              "      <td>31/03/2023</td>\n",
              "      <td>city scrape</td>\n",
              "      <td>Cozy &amp; Colorful by Nature (Private Room)</td>\n",
              "      <td>Up in the hill of MontjuÃ¯c (a mountain overlo...</td>\n",
              "      <td>MontjuÃ¯c is most likely the best neighborhood...</td>\n",
              "      <td>https://a0.muscache.com/pictures/16209908/f1fe...</td>\n",
              "      <td>...</td>\n",
              "      <td>4.94</td>\n",
              "      <td>4.89</td>\n",
              "      <td>4.91</td>\n",
              "      <td>4.63</td>\n",
              "      <td>4.74</td>\n",
              "      <td>1.0</td>\n",
              "      <td>0.0</td>\n",
              "      <td>0.0</td>\n",
              "      <td>0.0</td>\n",
              "      <td>0.37</td>\n",
              "    </tr>\n",
              "    <tr>\n",
              "      <th>1</th>\n",
              "      <td>105.954991</td>\n",
              "      <td>0.963227</td>\n",
              "      <td>1</td>\n",
              "      <td>https://www.airbnb.com/rooms/1205757</td>\n",
              "      <td>31/03/2023</td>\n",
              "      <td>city scrape</td>\n",
              "      <td>HabitaciÃ³n doble + baÃ±o y terraza</td>\n",
              "      <td>&lt;b&gt;The space&lt;/b&gt;&lt;br /&gt;HabitaciÃ³n confortable ...</td>\n",
              "      <td>Bonitas playas a 15 minutos en coche. Piscina ...</td>\n",
              "      <td>https://a0.muscache.com/pictures/02e0a61e-078e...</td>\n",
              "      <td>...</td>\n",
              "      <td>4.85</td>\n",
              "      <td>4.85</td>\n",
              "      <td>4.91</td>\n",
              "      <td>4.69</td>\n",
              "      <td>4.80</td>\n",
              "      <td>1.0</td>\n",
              "      <td>0.0</td>\n",
              "      <td>0.0</td>\n",
              "      <td>0.0</td>\n",
              "      <td>0.51</td>\n",
              "    </tr>\n",
              "    <tr>\n",
              "      <th>3</th>\n",
              "      <td>98.014310</td>\n",
              "      <td>0.963371</td>\n",
              "      <td>3</td>\n",
              "      <td>https://www.airbnb.com/rooms/751638</td>\n",
              "      <td>31/03/2023</td>\n",
              "      <td>city scrape</td>\n",
              "      <td>Room Limon - Casa Pati de lÂ´Albera</td>\n",
              "      <td>&lt;b&gt;The space&lt;/b&gt;&lt;br /&gt;Nice room with 2 individ...</td>\n",
              "      <td>Sant Climent is a tiny village, with a populat...</td>\n",
              "      <td>https://a0.muscache.com/pictures/64276178/98d1...</td>\n",
              "      <td>...</td>\n",
              "      <td>4.50</td>\n",
              "      <td>4.86</td>\n",
              "      <td>5.00</td>\n",
              "      <td>4.63</td>\n",
              "      <td>4.50</td>\n",
              "      <td>6.0</td>\n",
              "      <td>1.0</td>\n",
              "      <td>0.0</td>\n",
              "      <td>0.0</td>\n",
              "      <td>0.08</td>\n",
              "    </tr>\n",
              "    <tr>\n",
              "      <th>12</th>\n",
              "      <td>83.241651</td>\n",
              "      <td>0.960209</td>\n",
              "      <td>12</td>\n",
              "      <td>https://www.airbnb.com/rooms/755927</td>\n",
              "      <td>31/03/2023</td>\n",
              "      <td>city scrape</td>\n",
              "      <td>Room Oliva - Casa Pati de lÂ´Albera</td>\n",
              "      <td>&lt;b&gt;The space&lt;/b&gt;&lt;br /&gt;Wide double room, ground...</td>\n",
              "      <td>Sant Climent is a tiny village, with a populat...</td>\n",
              "      <td>https://a0.muscache.com/pictures/9eeac113-fa97...</td>\n",
              "      <td>...</td>\n",
              "      <td>4.50</td>\n",
              "      <td>5.00</td>\n",
              "      <td>5.00</td>\n",
              "      <td>4.70</td>\n",
              "      <td>4.90</td>\n",
              "      <td>6.0</td>\n",
              "      <td>1.0</td>\n",
              "      <td>0.0</td>\n",
              "      <td>0.0</td>\n",
              "      <td>0.09</td>\n",
              "    </tr>\n",
              "    <tr>\n",
              "      <th>13</th>\n",
              "      <td>75.819457</td>\n",
              "      <td>0.960992</td>\n",
              "      <td>13</td>\n",
              "      <td>https://www.airbnb.com/rooms/756145</td>\n",
              "      <td>31/03/2023</td>\n",
              "      <td>city scrape</td>\n",
              "      <td>Room Abeto - Casa Pati de lÂ´Albera</td>\n",
              "      <td>Inside the rural house El Pati de l'Albera is ...</td>\n",
              "      <td>Sant Climent is a tiny village, with a populat...</td>\n",
              "      <td>https://a0.muscache.com/pictures/64276036/162f...</td>\n",
              "      <td>...</td>\n",
              "      <td>4.55</td>\n",
              "      <td>4.82</td>\n",
              "      <td>4.82</td>\n",
              "      <td>4.36</td>\n",
              "      <td>4.45</td>\n",
              "      <td>6.0</td>\n",
              "      <td>1.0</td>\n",
              "      <td>0.0</td>\n",
              "      <td>0.0</td>\n",
              "      <td>0.09</td>\n",
              "    </tr>\n",
              "  </tbody>\n",
              "</table>\n",
              "<p>5 rows × 75 columns</p>\n",
              "</div>\n",
              "      <button class=\"colab-df-convert\" onclick=\"convertToInteractive('df-1e345224-e00c-493c-b740-77cf49175d06')\"\n",
              "              title=\"Convert this dataframe to an interactive table.\"\n",
              "              style=\"display:none;\">\n",
              "        \n",
              "  <svg xmlns=\"http://www.w3.org/2000/svg\" height=\"24px\"viewBox=\"0 0 24 24\"\n",
              "       width=\"24px\">\n",
              "    <path d=\"M0 0h24v24H0V0z\" fill=\"none\"/>\n",
              "    <path d=\"M18.56 5.44l.94 2.06.94-2.06 2.06-.94-2.06-.94-.94-2.06-.94 2.06-2.06.94zm-11 1L8.5 8.5l.94-2.06 2.06-.94-2.06-.94L8.5 2.5l-.94 2.06-2.06.94zm10 10l.94 2.06.94-2.06 2.06-.94-2.06-.94-.94-2.06-.94 2.06-2.06.94z\"/><path d=\"M17.41 7.96l-1.37-1.37c-.4-.4-.92-.59-1.43-.59-.52 0-1.04.2-1.43.59L10.3 9.45l-7.72 7.72c-.78.78-.78 2.05 0 2.83L4 21.41c.39.39.9.59 1.41.59.51 0 1.02-.2 1.41-.59l7.78-7.78 2.81-2.81c.8-.78.8-2.07 0-2.86zM5.41 20L4 18.59l7.72-7.72 1.47 1.35L5.41 20z\"/>\n",
              "  </svg>\n",
              "      </button>\n",
              "      \n",
              "  <style>\n",
              "    .colab-df-container {\n",
              "      display:flex;\n",
              "      flex-wrap:wrap;\n",
              "      gap: 12px;\n",
              "    }\n",
              "\n",
              "    .colab-df-convert {\n",
              "      background-color: #E8F0FE;\n",
              "      border: none;\n",
              "      border-radius: 50%;\n",
              "      cursor: pointer;\n",
              "      display: none;\n",
              "      fill: #1967D2;\n",
              "      height: 32px;\n",
              "      padding: 0 0 0 0;\n",
              "      width: 32px;\n",
              "    }\n",
              "\n",
              "    .colab-df-convert:hover {\n",
              "      background-color: #E2EBFA;\n",
              "      box-shadow: 0px 1px 2px rgba(60, 64, 67, 0.3), 0px 1px 3px 1px rgba(60, 64, 67, 0.15);\n",
              "      fill: #174EA6;\n",
              "    }\n",
              "\n",
              "    [theme=dark] .colab-df-convert {\n",
              "      background-color: #3B4455;\n",
              "      fill: #D2E3FC;\n",
              "    }\n",
              "\n",
              "    [theme=dark] .colab-df-convert:hover {\n",
              "      background-color: #434B5C;\n",
              "      box-shadow: 0px 1px 3px 1px rgba(0, 0, 0, 0.15);\n",
              "      filter: drop-shadow(0px 1px 2px rgba(0, 0, 0, 0.3));\n",
              "      fill: #FFFFFF;\n",
              "    }\n",
              "  </style>\n",
              "\n",
              "      <script>\n",
              "        const buttonEl =\n",
              "          document.querySelector('#df-1e345224-e00c-493c-b740-77cf49175d06 button.colab-df-convert');\n",
              "        buttonEl.style.display =\n",
              "          google.colab.kernel.accessAllowed ? 'block' : 'none';\n",
              "\n",
              "        async function convertToInteractive(key) {\n",
              "          const element = document.querySelector('#df-1e345224-e00c-493c-b740-77cf49175d06');\n",
              "          const dataTable =\n",
              "            await google.colab.kernel.invokeFunction('convertToInteractive',\n",
              "                                                     [key], {});\n",
              "          if (!dataTable) return;\n",
              "\n",
              "          const docLinkHtml = 'Like what you see? Visit the ' +\n",
              "            '<a target=\"_blank\" href=https://colab.research.google.com/notebooks/data_table.ipynb>data table notebook</a>'\n",
              "            + ' to learn more about interactive tables.';\n",
              "          element.innerHTML = '';\n",
              "          dataTable['output_type'] = 'display_data';\n",
              "          await google.colab.output.renderOutput(dataTable, element);\n",
              "          const docLink = document.createElement('div');\n",
              "          docLink.innerHTML = docLinkHtml;\n",
              "          element.appendChild(docLink);\n",
              "        }\n",
              "      </script>\n",
              "    </div>\n",
              "  </div>\n",
              "  "
            ]
          },
          "metadata": {},
          "execution_count": 30
        }
      ]
    },
    {
      "cell_type": "code",
      "source": [
        "#Visualizamos la gráfica comparativa entre el total real y el total predecido\n",
        "\n",
        "sns.scatterplot(x='availability_365', y='price', color=\"pink\", data=private_room)\n",
        "sns.scatterplot(x='availability_365', y='Predicciones', color=\"blue\", data=private_room)"
      ],
      "metadata": {
        "colab": {
          "base_uri": "https://localhost:8080/",
          "height": 468
        },
        "id": "jyS4O3Fpotib",
        "outputId": "e4f0b0fa-18b5-4a80-d618-7c024bd40e86"
      },
      "execution_count": 31,
      "outputs": [
        {
          "output_type": "execute_result",
          "data": {
            "text/plain": [
              "<Axes: xlabel='availability_365', ylabel='price'>"
            ]
          },
          "metadata": {},
          "execution_count": 31
        },
        {
          "output_type": "display_data",
          "data": {
            "text/plain": [
              "<Figure size 640x480 with 1 Axes>"
            ],
            "image/png": "[encoded data removed]"
          },
          "metadata": {}
        }
      ]
    },
    {
      "cell_type": "code",
      "source": [
        "sns.scatterplot(x='availability_365', y='price', color=\"pink\", data=private_room)\n",
        "sns.scatterplot(x='host_response_rate', y='price', color=\"red\", data=private_room)\n",
        "sns.scatterplot(x='number_of_reviews', y='price', color=\"blue\", data=private_room)\n",
        "sns.scatterplot(x='accommodates', y='price', color=\"magenta\", data=private_room)\n",
        "sns.scatterplot(x='price', y='Predicciones', color=\"green\", data=private_room)"
      ],
      "metadata": {
        "colab": {
          "base_uri": "https://localhost:8080/",
          "height": 468
        },
        "id": "mJ04cywPA71l",
        "outputId": "0493291f-aa44-456d-8d1f-18a9f71eea15"
      },
      "execution_count": 32,
      "outputs": [
        {
          "output_type": "execute_result",
          "data": {
            "text/plain": [
              "<Axes: xlabel='availability_365', ylabel='price'>"
            ]
          },
          "metadata": {},
          "execution_count": 32
        },
        {
          "output_type": "display_data",
          "data": {
            "text/plain": [
              "<Figure size 640x480 with 1 Axes>"
            ],
            "image/png": "[encoded data removed]"
          },
          "metadata": {}
        }
      ]
    },
    {
      "cell_type": "code",
      "source": [
        "#Corroboramos cual es el coeficiente de Determinación de nuestro modelo\n",
        "coef_Deter=model.score(X=Vars_Indep, y=Var_Dep)\n",
        "#Corroboramos cual es el coeficiente de Correlación de nuestro modelo\n",
        "coef_Correl=np.sqrt(coef_Deter)\n",
        "print(\"Coeficiente de determinacion: \",coef_Deter)\n",
        "print(\"Coeficiente de correlación: \", coef_Correl)"
      ],
      "metadata": {
        "colab": {
          "base_uri": "https://localhost:8080/"
        },
        "id": "2J12L1YNoyB5",
        "outputId": "0c371f0e-ba1d-49af-9742-e148d065e589"
      },
      "execution_count": 33,
      "outputs": [
        {
          "output_type": "stream",
          "name": "stdout",
          "text": [
            "Coeficiente de determinacion:  0.03747479663139719\n",
            "Coeficiente de correlación:  0.19358408155475282\n"
          ]
        }
      ]
    },
    {
      "cell_type": "markdown",
      "source": [
        "## **3. “host_acceptance_rate vs number_of_reviews,review_scores_cleanliness,review_scores_communication ”**"
      ],
      "metadata": {
        "id": "aSSN4d_Hpgtn"
      }
    },
    {
      "cell_type": "code",
      "source": [
        "#Imprimimos el scatter plot entre la variable dependiente e independiente\n",
        "#para observar el comportamiento en su dispersión \n",
        "from turtle import color\n",
        "\n",
        "sns.scatterplot(x='number_of_reviews', y='host_acceptance_rate', color=\"pink\", data=private_room)\n",
        "sns.scatterplot(x='review_scores_cleanliness', y='host_acceptance_rate', color=\"blue\", data=private_room)\n",
        "sns.scatterplot(x='review_scores_communication', y='host_acceptance_rate', color=\"green\", data=private_room)"
      ],
      "metadata": {
        "colab": {
          "base_uri": "https://localhost:8080/",
          "height": 468
        },
        "id": "iMknil-cpkrT",
        "outputId": "fc3dd9f7-784a-447c-b116-d92867a79106"
      },
      "execution_count": 34,
      "outputs": [
        {
          "output_type": "execute_result",
          "data": {
            "text/plain": [
              "<Axes: xlabel='number_of_reviews', ylabel='host_acceptance_rate'>"
            ]
          },
          "metadata": {},
          "execution_count": 34
        },
        {
          "output_type": "display_data",
          "data": {
            "text/plain": [
              "<Figure size 640x480 with 1 Axes>"
            ],
            "image/png": "[encoded data removed]"
          },
          "metadata": {}
        }
      ]
    },
    {
      "cell_type": "code",
      "source": [
        "#Declaramos las variables dependientes e independientes para la regresión lineal\n",
        "\n",
        "Vars_Indep= private_room[['number_of_reviews', 'review_scores_cleanliness','review_scores_communication']]\n",
        "Var_Dep= private_room['host_acceptance_rate']"
      ],
      "metadata": {
        "id": "qxmz7wrHp4SL"
      },
      "execution_count": 35,
      "outputs": []
    },
    {
      "cell_type": "code",
      "source": [
        "#Se define model como la función de regresión lineal\n",
        "from sklearn.linear_model import LinearRegression\n",
        "model= LinearRegression()"
      ],
      "metadata": {
        "id": "9qZbJeVTqBu1"
      },
      "execution_count": 36,
      "outputs": []
    },
    {
      "cell_type": "code",
      "source": [
        "#Verificamos la función relacionada al modelo\n",
        "type(model)"
      ],
      "metadata": {
        "colab": {
          "base_uri": "https://localhost:8080/"
        },
        "id": "CgLRO6oaqHHF",
        "outputId": "ca582d32-c503-4dc2-d6a7-5fde99b9cbcb"
      },
      "execution_count": 37,
      "outputs": [
        {
          "output_type": "execute_result",
          "data": {
            "text/plain": [
              "sklearn.linear_model._base.LinearRegression"
            ]
          },
          "metadata": {},
          "execution_count": 37
        }
      ]
    },
    {
      "cell_type": "code",
      "source": [
        "#Ajustamos el modelo con las variables antes declaradas\n",
        "model.fit(X=Vars_Indep, y=Var_Dep)"
      ],
      "metadata": {
        "colab": {
          "base_uri": "https://localhost:8080/",
          "height": 75
        },
        "id": "iyNSlJbVqKDh",
        "outputId": "38bfa45e-1117-4320-e07c-c619ab7d434c"
      },
      "execution_count": 38,
      "outputs": [
        {
          "output_type": "execute_result",
          "data": {
            "text/plain": [
              "LinearRegression()"
            ],
            "text/html": [
              "<style>#sk-container-id-3 {color: black;background-color: white;}#sk-container-id-3 pre{padding: 0;}#sk-container-id-3 div.sk-toggleable {background-color: white;}#sk-container-id-3 label.sk-toggleable__label {cursor: pointer;display: block;width: 100%;margin-bottom: 0;padding: 0.3em;box-sizing: border-box;text-align: center;}#sk-container-id-3 label.sk-toggleable__label-arrow:before {content: \"▸\";float: left;margin-right: 0.25em;color: #696969;}#sk-container-id-3 label.sk-toggleable__label-arrow:hover:before {color: black;}#sk-container-id-3 div.sk-estimator:hover label.sk-toggleable__label-arrow:before {color: black;}#sk-container-id-3 div.sk-toggleable__content {max-height: 0;max-width: 0;overflow: hidden;text-align: left;background-color: #f0f8ff;}#sk-container-id-3 div.sk-toggleable__content pre {margin: 0.2em;color: black;border-radius: 0.25em;background-color: #f0f8ff;}#sk-container-id-3 input.sk-toggleable__control:checked~div.sk-toggleable__content {max-height: 200px;max-width: 100%;overflow: auto;}#sk-container-id-3 input.sk-toggleable__control:checked~label.sk-toggleable__label-arrow:before {content: \"▾\";}#sk-container-id-3 div.sk-estimator input.sk-toggleable__control:checked~label.sk-toggleable__label {background-color: #d4ebff;}#sk-container-id-3 div.sk-label input.sk-toggleable__control:checked~label.sk-toggleable__label {background-color: #d4ebff;}#sk-container-id-3 input.sk-hidden--visually {border: 0;clip: rect(1px 1px 1px 1px);clip: rect(1px, 1px, 1px, 1px);height: 1px;margin: -1px;overflow: hidden;padding: 0;position: absolute;width: 1px;}#sk-container-id-3 div.sk-estimator {font-family: monospace;background-color: #f0f8ff;border: 1px dotted black;border-radius: 0.25em;box-sizing: border-box;margin-bottom: 0.5em;}#sk-container-id-3 div.sk-estimator:hover {background-color: #d4ebff;}#sk-container-id-3 div.sk-parallel-item::after {content: \"\";width: 100%;border-bottom: 1px solid gray;flex-grow: 1;}#sk-container-id-3 div.sk-label:hover label.sk-toggleable__label {background-color: #d4ebff;}#sk-container-id-3 div.sk-serial::before {content: \"\";position: absolute;border-left: 1px solid gray;box-sizing: border-box;top: 0;bottom: 0;left: 50%;z-index: 0;}#sk-container-id-3 div.sk-serial {display: flex;flex-direction: column;align-items: center;background-color: white;padding-right: 0.2em;padding-left: 0.2em;position: relative;}#sk-container-id-3 div.sk-item {position: relative;z-index: 1;}#sk-container-id-3 div.sk-parallel {display: flex;align-items: stretch;justify-content: center;background-color: white;position: relative;}#sk-container-id-3 div.sk-item::before, #sk-container-id-3 div.sk-parallel-item::before {content: \"\";position: absolute;border-left: 1px solid gray;box-sizing: border-box;top: 0;bottom: 0;left: 50%;z-index: -1;}#sk-container-id-3 div.sk-parallel-item {display: flex;flex-direction: column;z-index: 1;position: relative;background-color: white;}#sk-container-id-3 div.sk-parallel-item:first-child::after {align-self: flex-end;width: 50%;}#sk-container-id-3 div.sk-parallel-item:last-child::after {align-self: flex-start;width: 50%;}#sk-container-id-3 div.sk-parallel-item:only-child::after {width: 0;}#sk-container-id-3 div.sk-dashed-wrapped {border: 1px dashed gray;margin: 0 0.4em 0.5em 0.4em;box-sizing: border-box;padding-bottom: 0.4em;background-color: white;}#sk-container-id-3 div.sk-label label {font-family: monospace;font-weight: bold;display: inline-block;line-height: 1.2em;}#sk-container-id-3 div.sk-label-container {text-align: center;}#sk-container-id-3 div.sk-container {/* jupyter's `normalize.less` sets `[hidden] { display: none; }` but bootstrap.min.css set `[hidden] { display: none !important; }` so we also need the `!important` here to be able to override the default hidden behavior on the sphinx rendered scikit-learn.org. See: https://github.com/scikit-learn/scikit-learn/issues/21755 */display: inline-block !important;position: relative;}#sk-container-id-3 div.sk-text-repr-fallback {display: none;}</style><div id=\"sk-container-id-3\" class=\"sk-top-container\"><div class=\"sk-text-repr-fallback\"><pre>LinearRegression()</pre><b>In a Jupyter environment, please rerun this cell to show the HTML representation or trust the notebook. <br />On GitHub, the HTML representation is unable to render, please try loading this page with nbviewer.org.</b></div><div class=\"sk-container\" hidden><div class=\"sk-item\"><div class=\"sk-estimator sk-toggleable\"><input class=\"sk-toggleable__control sk-hidden--visually\" id=\"sk-estimator-id-3\" type=\"checkbox\" checked><label for=\"sk-estimator-id-3\" class=\"sk-toggleable__label sk-toggleable__label-arrow\">LinearRegression</label><div class=\"sk-toggleable__content\"><pre>LinearRegression()</pre></div></div></div></div></div>"
            ]
          },
          "metadata": {},
          "execution_count": 38
        }
      ]
    },
    {
      "cell_type": "code",
      "source": [
        "#Verificamos los coeficientes obtenidos para el modelo ajustado\n",
        "model.__dict__"
      ],
      "metadata": {
        "colab": {
          "base_uri": "https://localhost:8080/"
        },
        "id": "hXotjErHqN1M",
        "outputId": "2de42fab-8d84-427e-a8e1-41369b32dade"
      },
      "execution_count": 39,
      "outputs": [
        {
          "output_type": "execute_result",
          "data": {
            "text/plain": [
              "{'fit_intercept': True,\n",
              " 'copy_X': True,\n",
              " 'n_jobs': None,\n",
              " 'positive': False,\n",
              " 'feature_names_in_': array(['number_of_reviews', 'review_scores_cleanliness',\n",
              "        'review_scores_communication'], dtype=object),\n",
              " 'n_features_in_': 3,\n",
              " 'coef_': array([-0.00020093,  0.01430761,  0.02007074]),\n",
              " 'rank_': 3,\n",
              " 'singular_': array([272.48602438,   8.60916443,   4.06458834]),\n",
              " 'intercept_': 0.7947835749505712}"
            ]
          },
          "metadata": {},
          "execution_count": 39
        }
      ]
    },
    {
      "cell_type": "markdown",
      "source": [
        "**Modelo matemático: y= -0.00020093x1 + 0.01430761x2 + 0.02007074x3 + 0.7947835749505712**"
      ],
      "metadata": {
        "id": "sINeDrNGqWlG"
      }
    },
    {
      "cell_type": "code",
      "source": [
        "#Evaluamos la eficiencia del modelo obtenido por medio del coeficiente R Determinación\n",
        "model.score(Vars_Indep,Var_Dep)"
      ],
      "metadata": {
        "colab": {
          "base_uri": "https://localhost:8080/"
        },
        "id": "_XM1gH-FqRTI",
        "outputId": "9e1b5836-e07f-487c-d810-707ac34b44d9"
      },
      "execution_count": 40,
      "outputs": [
        {
          "output_type": "execute_result",
          "data": {
            "text/plain": [
              "0.008732352158406287"
            ]
          },
          "metadata": {},
          "execution_count": 40
        }
      ]
    },
    {
      "cell_type": "code",
      "source": [
        "#Predecimos los valores de total \n",
        "y_pred= model.predict(X=private_room[['number_of_reviews', 'review_scores_cleanliness','review_scores_communication']])\n",
        "y_pred"
      ],
      "metadata": {
        "colab": {
          "base_uri": "https://localhost:8080/"
        },
        "id": "_GTNVvQ0qnvS",
        "outputId": "7274eb59-c1a4-4b70-ddf4-36d14bf82aac"
      },
      "execution_count": 41,
      "outputs": [
        {
          "output_type": "execute_result",
          "data": {
            "text/plain": [
              "array([0.9628049 , 0.96151722, 0.95771313, ..., 0.95444795, 0.95444795,\n",
              "       0.95444795])"
            ]
          },
          "metadata": {},
          "execution_count": 41
        }
      ]
    },
    {
      "cell_type": "code",
      "source": [
        "#Insertamos la columna de predicciones en el DataFrame\n",
        "private_room.insert(0, 'Predicciones3', y_pred)\n",
        "private_room.head()"
      ],
      "metadata": {
        "colab": {
          "base_uri": "https://localhost:8080/",
          "height": 646
        },
        "id": "hAK96fBRqu4w",
        "outputId": "143df41f-ea3f-46be-ed01-314c835dfdf8"
      },
      "execution_count": 42,
      "outputs": [
        {
          "output_type": "execute_result",
          "data": {
            "text/plain": [
              "    Predicciones3  Predicciones2  Predicciones Unnamed: 0  \\\n",
              "0        0.962805     101.320140      0.963463          0   \n",
              "1        0.961517     105.954991      0.963227          1   \n",
              "3        0.957713      98.014310      0.963371          3   \n",
              "12       0.957512      83.241651      0.960209         12   \n",
              "13       0.954414      75.819457      0.960992         13   \n",
              "\n",
              "                             listing_url last_scraped       source  \\\n",
              "0     https://www.airbnb.com/rooms/14551   31/03/2023  city scrape   \n",
              "1   https://www.airbnb.com/rooms/1205757   31/03/2023  city scrape   \n",
              "3    https://www.airbnb.com/rooms/751638   31/03/2023  city scrape   \n",
              "12   https://www.airbnb.com/rooms/755927   31/03/2023  city scrape   \n",
              "13   https://www.airbnb.com/rooms/756145   31/03/2023  city scrape   \n",
              "\n",
              "                                        name  \\\n",
              "0   Cozy & Colorful by Nature (Private Room)   \n",
              "1        HabitaciÃ³n doble + baÃ±o y terraza   \n",
              "3        Room Limon - Casa Pati de lÂ´Albera   \n",
              "12       Room Oliva - Casa Pati de lÂ´Albera   \n",
              "13       Room Abeto - Casa Pati de lÂ´Albera   \n",
              "\n",
              "                                          description  \\\n",
              "0   Up in the hill of MontjuÃ¯c (a mountain overlo...   \n",
              "1   <b>The space</b><br />HabitaciÃ³n confortable ...   \n",
              "3   <b>The space</b><br />Nice room with 2 individ...   \n",
              "12  <b>The space</b><br />Wide double room, ground...   \n",
              "13  Inside the rural house El Pati de l'Albera is ...   \n",
              "\n",
              "                                neighborhood_overview  ...  \\\n",
              "0   MontjuÃ¯c is most likely the best neighborhood...  ...   \n",
              "1   Bonitas playas a 15 minutos en coche. Piscina ...  ...   \n",
              "3   Sant Climent is a tiny village, with a populat...  ...   \n",
              "12  Sant Climent is a tiny village, with a populat...  ...   \n",
              "13  Sant Climent is a tiny village, with a populat...  ...   \n",
              "\n",
              "   review_scores_cleanliness review_scores_checkin  \\\n",
              "0                       4.94                  4.89   \n",
              "1                       4.85                  4.85   \n",
              "3                       4.50                  4.86   \n",
              "12                      4.50                  5.00   \n",
              "13                      4.55                  4.82   \n",
              "\n",
              "   review_scores_communication review_scores_location review_scores_value  \\\n",
              "0                         4.91                   4.63                4.74   \n",
              "1                         4.91                   4.69                4.80   \n",
              "3                         5.00                   4.63                4.50   \n",
              "12                        5.00                   4.70                4.90   \n",
              "13                        4.82                   4.36                4.45   \n",
              "\n",
              "   calculated_host_listings_count calculated_host_listings_count_entire_homes  \\\n",
              "0                             1.0                                         0.0   \n",
              "1                             1.0                                         0.0   \n",
              "3                             6.0                                         1.0   \n",
              "12                            6.0                                         1.0   \n",
              "13                            6.0                                         1.0   \n",
              "\n",
              "   calculated_host_listings_count_private_rooms  \\\n",
              "0                                           0.0   \n",
              "1                                           0.0   \n",
              "3                                           0.0   \n",
              "12                                          0.0   \n",
              "13                                          0.0   \n",
              "\n",
              "   calculated_host_listings_count_shared_rooms reviews_per_month  \n",
              "0                                          0.0              0.37  \n",
              "1                                          0.0              0.51  \n",
              "3                                          0.0              0.08  \n",
              "12                                         0.0              0.09  \n",
              "13                                         0.0              0.09  \n",
              "\n",
              "[5 rows x 76 columns]"
            ],
            "text/html": [
              "\n",
              "  <div id=\"df-fc527e27-bb97-4c36-b55d-c10077c13834\">\n",
              "    <div class=\"colab-df-container\">\n",
              "      <div>\n",
              "<style scoped>\n",
              "    .dataframe tbody tr th:only-of-type {\n",
              "        vertical-align: middle;\n",
              "    }\n",
              "\n",
              "    .dataframe tbody tr th {\n",
              "        vertical-align: top;\n",
              "    }\n",
              "\n",
              "    .dataframe thead th {\n",
              "        text-align: right;\n",
              "    }\n",
              "</style>\n",
              "<table border=\"1\" class=\"dataframe\">\n",
              "  <thead>\n",
              "    <tr style=\"text-align: right;\">\n",
              "      <th></th>\n",
              "      <th>Predicciones3</th>\n",
              "      <th>Predicciones2</th>\n",
              "      <th>Predicciones</th>\n",
              "      <th>Unnamed: 0</th>\n",
              "      <th>listing_url</th>\n",
              "      <th>last_scraped</th>\n",
              "      <th>source</th>\n",
              "      <th>name</th>\n",
              "      <th>description</th>\n",
              "      <th>neighborhood_overview</th>\n",
              "      <th>...</th>\n",
              "      <th>review_scores_cleanliness</th>\n",
              "      <th>review_scores_checkin</th>\n",
              "      <th>review_scores_communication</th>\n",
              "      <th>review_scores_location</th>\n",
              "      <th>review_scores_value</th>\n",
              "      <th>calculated_host_listings_count</th>\n",
              "      <th>calculated_host_listings_count_entire_homes</th>\n",
              "      <th>calculated_host_listings_count_private_rooms</th>\n",
              "      <th>calculated_host_listings_count_shared_rooms</th>\n",
              "      <th>reviews_per_month</th>\n",
              "    </tr>\n",
              "  </thead>\n",
              "  <tbody>\n",
              "    <tr>\n",
              "      <th>0</th>\n",
              "      <td>0.962805</td>\n",
              "      <td>101.320140</td>\n",
              "      <td>0.963463</td>\n",
              "      <td>0</td>\n",
              "      <td>https://www.airbnb.com/rooms/14551</td>\n",
              "      <td>31/03/2023</td>\n",
              "      <td>city scrape</td>\n",
              "      <td>Cozy &amp; Colorful by Nature (Private Room)</td>\n",
              "      <td>Up in the hill of MontjuÃ¯c (a mountain overlo...</td>\n",
              "      <td>MontjuÃ¯c is most likely the best neighborhood...</td>\n",
              "      <td>...</td>\n",
              "      <td>4.94</td>\n",
              "      <td>4.89</td>\n",
              "      <td>4.91</td>\n",
              "      <td>4.63</td>\n",
              "      <td>4.74</td>\n",
              "      <td>1.0</td>\n",
              "      <td>0.0</td>\n",
              "      <td>0.0</td>\n",
              "      <td>0.0</td>\n",
              "      <td>0.37</td>\n",
              "    </tr>\n",
              "    <tr>\n",
              "      <th>1</th>\n",
              "      <td>0.961517</td>\n",
              "      <td>105.954991</td>\n",
              "      <td>0.963227</td>\n",
              "      <td>1</td>\n",
              "      <td>https://www.airbnb.com/rooms/1205757</td>\n",
              "      <td>31/03/2023</td>\n",
              "      <td>city scrape</td>\n",
              "      <td>HabitaciÃ³n doble + baÃ±o y terraza</td>\n",
              "      <td>&lt;b&gt;The space&lt;/b&gt;&lt;br /&gt;HabitaciÃ³n confortable ...</td>\n",
              "      <td>Bonitas playas a 15 minutos en coche. Piscina ...</td>\n",
              "      <td>...</td>\n",
              "      <td>4.85</td>\n",
              "      <td>4.85</td>\n",
              "      <td>4.91</td>\n",
              "      <td>4.69</td>\n",
              "      <td>4.80</td>\n",
              "      <td>1.0</td>\n",
              "      <td>0.0</td>\n",
              "      <td>0.0</td>\n",
              "      <td>0.0</td>\n",
              "      <td>0.51</td>\n",
              "    </tr>\n",
              "    <tr>\n",
              "      <th>3</th>\n",
              "      <td>0.957713</td>\n",
              "      <td>98.014310</td>\n",
              "      <td>0.963371</td>\n",
              "      <td>3</td>\n",
              "      <td>https://www.airbnb.com/rooms/751638</td>\n",
              "      <td>31/03/2023</td>\n",
              "      <td>city scrape</td>\n",
              "      <td>Room Limon - Casa Pati de lÂ´Albera</td>\n",
              "      <td>&lt;b&gt;The space&lt;/b&gt;&lt;br /&gt;Nice room with 2 individ...</td>\n",
              "      <td>Sant Climent is a tiny village, with a populat...</td>\n",
              "      <td>...</td>\n",
              "      <td>4.50</td>\n",
              "      <td>4.86</td>\n",
              "      <td>5.00</td>\n",
              "      <td>4.63</td>\n",
              "      <td>4.50</td>\n",
              "      <td>6.0</td>\n",
              "      <td>1.0</td>\n",
              "      <td>0.0</td>\n",
              "      <td>0.0</td>\n",
              "      <td>0.08</td>\n",
              "    </tr>\n",
              "    <tr>\n",
              "      <th>12</th>\n",
              "      <td>0.957512</td>\n",
              "      <td>83.241651</td>\n",
              "      <td>0.960209</td>\n",
              "      <td>12</td>\n",
              "      <td>https://www.airbnb.com/rooms/755927</td>\n",
              "      <td>31/03/2023</td>\n",
              "      <td>city scrape</td>\n",
              "      <td>Room Oliva - Casa Pati de lÂ´Albera</td>\n",
              "      <td>&lt;b&gt;The space&lt;/b&gt;&lt;br /&gt;Wide double room, ground...</td>\n",
              "      <td>Sant Climent is a tiny village, with a populat...</td>\n",
              "      <td>...</td>\n",
              "      <td>4.50</td>\n",
              "      <td>5.00</td>\n",
              "      <td>5.00</td>\n",
              "      <td>4.70</td>\n",
              "      <td>4.90</td>\n",
              "      <td>6.0</td>\n",
              "      <td>1.0</td>\n",
              "      <td>0.0</td>\n",
              "      <td>0.0</td>\n",
              "      <td>0.09</td>\n",
              "    </tr>\n",
              "    <tr>\n",
              "      <th>13</th>\n",
              "      <td>0.954414</td>\n",
              "      <td>75.819457</td>\n",
              "      <td>0.960992</td>\n",
              "      <td>13</td>\n",
              "      <td>https://www.airbnb.com/rooms/756145</td>\n",
              "      <td>31/03/2023</td>\n",
              "      <td>city scrape</td>\n",
              "      <td>Room Abeto - Casa Pati de lÂ´Albera</td>\n",
              "      <td>Inside the rural house El Pati de l'Albera is ...</td>\n",
              "      <td>Sant Climent is a tiny village, with a populat...</td>\n",
              "      <td>...</td>\n",
              "      <td>4.55</td>\n",
              "      <td>4.82</td>\n",
              "      <td>4.82</td>\n",
              "      <td>4.36</td>\n",
              "      <td>4.45</td>\n",
              "      <td>6.0</td>\n",
              "      <td>1.0</td>\n",
              "      <td>0.0</td>\n",
              "      <td>0.0</td>\n",
              "      <td>0.09</td>\n",
              "    </tr>\n",
              "  </tbody>\n",
              "</table>\n",
              "<p>5 rows × 76 columns</p>\n",
              "</div>\n",
              "      <button class=\"colab-df-convert\" onclick=\"convertToInteractive('df-fc527e27-bb97-4c36-b55d-c10077c13834')\"\n",
              "              title=\"Convert this dataframe to an interactive table.\"\n",
              "              style=\"display:none;\">\n",
              "        \n",
              "  <svg xmlns=\"http://www.w3.org/2000/svg\" height=\"24px\"viewBox=\"0 0 24 24\"\n",
              "       width=\"24px\">\n",
              "    <path d=\"M0 0h24v24H0V0z\" fill=\"none\"/>\n",
              "    <path d=\"M18.56 5.44l.94 2.06.94-2.06 2.06-.94-2.06-.94-.94-2.06-.94 2.06-2.06.94zm-11 1L8.5 8.5l.94-2.06 2.06-.94-2.06-.94L8.5 2.5l-.94 2.06-2.06.94zm10 10l.94 2.06.94-2.06 2.06-.94-2.06-.94-.94-2.06-.94 2.06-2.06.94z\"/><path d=\"M17.41 7.96l-1.37-1.37c-.4-.4-.92-.59-1.43-.59-.52 0-1.04.2-1.43.59L10.3 9.45l-7.72 7.72c-.78.78-.78 2.05 0 2.83L4 21.41c.39.39.9.59 1.41.59.51 0 1.02-.2 1.41-.59l7.78-7.78 2.81-2.81c.8-.78.8-2.07 0-2.86zM5.41 20L4 18.59l7.72-7.72 1.47 1.35L5.41 20z\"/>\n",
              "  </svg>\n",
              "      </button>\n",
              "      \n",
              "  <style>\n",
              "    .colab-df-container {\n",
              "      display:flex;\n",
              "      flex-wrap:wrap;\n",
              "      gap: 12px;\n",
              "    }\n",
              "\n",
              "    .colab-df-convert {\n",
              "      background-color: #E8F0FE;\n",
              "      border: none;\n",
              "      border-radius: 50%;\n",
              "      cursor: pointer;\n",
              "      display: none;\n",
              "      fill: #1967D2;\n",
              "      height: 32px;\n",
              "      padding: 0 0 0 0;\n",
              "      width: 32px;\n",
              "    }\n",
              "\n",
              "    .colab-df-convert:hover {\n",
              "      background-color: #E2EBFA;\n",
              "      box-shadow: 0px 1px 2px rgba(60, 64, 67, 0.3), 0px 1px 3px 1px rgba(60, 64, 67, 0.15);\n",
              "      fill: #174EA6;\n",
              "    }\n",
              "\n",
              "    [theme=dark] .colab-df-convert {\n",
              "      background-color: #3B4455;\n",
              "      fill: #D2E3FC;\n",
              "    }\n",
              "\n",
              "    [theme=dark] .colab-df-convert:hover {\n",
              "      background-color: #434B5C;\n",
              "      box-shadow: 0px 1px 3px 1px rgba(0, 0, 0, 0.15);\n",
              "      filter: drop-shadow(0px 1px 2px rgba(0, 0, 0, 0.3));\n",
              "      fill: #FFFFFF;\n",
              "    }\n",
              "  </style>\n",
              "\n",
              "      <script>\n",
              "        const buttonEl =\n",
              "          document.querySelector('#df-fc527e27-bb97-4c36-b55d-c10077c13834 button.colab-df-convert');\n",
              "        buttonEl.style.display =\n",
              "          google.colab.kernel.accessAllowed ? 'block' : 'none';\n",
              "\n",
              "        async function convertToInteractive(key) {\n",
              "          const element = document.querySelector('#df-fc527e27-bb97-4c36-b55d-c10077c13834');\n",
              "          const dataTable =\n",
              "            await google.colab.kernel.invokeFunction('convertToInteractive',\n",
              "                                                     [key], {});\n",
              "          if (!dataTable) return;\n",
              "\n",
              "          const docLinkHtml = 'Like what you see? Visit the ' +\n",
              "            '<a target=\"_blank\" href=https://colab.research.google.com/notebooks/data_table.ipynb>data table notebook</a>'\n",
              "            + ' to learn more about interactive tables.';\n",
              "          element.innerHTML = '';\n",
              "          dataTable['output_type'] = 'display_data';\n",
              "          await google.colab.output.renderOutput(dataTable, element);\n",
              "          const docLink = document.createElement('div');\n",
              "          docLink.innerHTML = docLinkHtml;\n",
              "          element.appendChild(docLink);\n",
              "        }\n",
              "      </script>\n",
              "    </div>\n",
              "  </div>\n",
              "  "
            ]
          },
          "metadata": {},
          "execution_count": 42
        }
      ]
    },
    {
      "cell_type": "code",
      "source": [
        "#Visualizamos la gráfica comparativa entre el total real y el total predecido\n",
        "\n",
        "sns.scatterplot(x='number_of_reviews', y='host_acceptance_rate', color=\"pink\", data=private_room)\n",
        "sns.scatterplot(x='number_of_reviews', y='Predicciones', color=\"blue\", data=private_room)"
      ],
      "metadata": {
        "colab": {
          "base_uri": "https://localhost:8080/",
          "height": 468
        },
        "id": "mdvjvJqdqzis",
        "outputId": "bfca09ae-efb8-4d7c-9d1e-66386bcff4d5"
      },
      "execution_count": 43,
      "outputs": [
        {
          "output_type": "execute_result",
          "data": {
            "text/plain": [
              "<Axes: xlabel='number_of_reviews', ylabel='host_acceptance_rate'>"
            ]
          },
          "metadata": {},
          "execution_count": 43
        },
        {
          "output_type": "display_data",
          "data": {
            "text/plain": [
              "<Figure size 640x480 with 1 Axes>"
            ],
            "image/png": "[encoded data removed]"
          },
          "metadata": {}
        }
      ]
    },
    {
      "cell_type": "code",
      "source": [
        "sns.scatterplot(x='number_of_reviews', y='host_acceptance_rate', color=\"pink\", data=private_room)\n",
        "sns.scatterplot(x='review_scores_cleanliness', y='host_acceptance_rate', color=\"red\", data=private_room)\n",
        "sns.scatterplot(x='review_scores_communication', y='host_acceptance_rate', color=\"blue\", data=private_room)\n",
        "sns.scatterplot(x='host_acceptance_rate', y='Predicciones', color=\"green\", data=private_room)"
      ],
      "metadata": {
        "colab": {
          "base_uri": "https://localhost:8080/",
          "height": 468
        },
        "id": "OmYpusXJERUK",
        "outputId": "8b10f999-84e0-4307-d74d-99f5af0dcf6c"
      },
      "execution_count": 44,
      "outputs": [
        {
          "output_type": "execute_result",
          "data": {
            "text/plain": [
              "<Axes: xlabel='number_of_reviews', ylabel='host_acceptance_rate'>"
            ]
          },
          "metadata": {},
          "execution_count": 44
        },
        {
          "output_type": "display_data",
          "data": {
            "text/plain": [
              "<Figure size 640x480 with 1 Axes>"
            ],
            "image/png": "[encoded data removed]"
          },
          "metadata": {}
        }
      ]
    },
    {
      "cell_type": "code",
      "source": [
        "#Corroboramos cual es el coeficiente de Determinación de nuestro modelo\n",
        "coef_Deter=model.score(X=Vars_Indep, y=Var_Dep)\n",
        "#Corroboramos cual es el coeficiente de Correlación de nuestro modelo\n",
        "coef_Correl=np.sqrt(coef_Deter)\n",
        "print(\"Coeficiente de determinacion: \",coef_Deter)\n",
        "print(\"Coeficiente de correlación: \", coef_Correl)"
      ],
      "metadata": {
        "colab": {
          "base_uri": "https://localhost:8080/"
        },
        "id": "2oO2-Ek3q4np",
        "outputId": "05713ccb-af4f-45fa-bec7-04dafe3eb348"
      },
      "execution_count": 45,
      "outputs": [
        {
          "output_type": "stream",
          "name": "stdout",
          "text": [
            "Coeficiente de determinacion:  0.008732352158406287\n",
            "Coeficiente de correlación:  0.09344705537579173\n"
          ]
        }
      ]
    },
    {
      "cell_type": "markdown",
      "source": [
        "# **Tipo de habitación 2: Entire home/apt.**"
      ],
      "metadata": {
        "id": "jtpwwD88YJq-"
      }
    },
    {
      "cell_type": "code",
      "source": [
        "df= pd.read_csv(\"Datos_limpios_ESP.csv\")\n",
        "df.head()"
      ],
      "metadata": {
        "colab": {
          "base_uri": "https://localhost:8080/",
          "height": 665
        },
        "id": "bKpknWXZb8HD",
        "outputId": "f7cc0fa9-fd88-4d4a-ca2d-08c7c5ea2fa5"
      },
      "execution_count": 46,
      "outputs": [
        {
          "output_type": "stream",
          "name": "stderr",
          "text": [
            "<ipython-input-46-0983eb0271d3>:1: DtypeWarning: Columns (0) have mixed types. Specify dtype option on import or set low_memory=False.\n",
            "  df= pd.read_csv(\"Datos_limpios_ESP.csv\")\n"
          ]
        },
        {
          "output_type": "execute_result",
          "data": {
            "text/plain": [
              "  Unnamed: 0                           listing_url last_scraped  \\\n",
              "0          0    https://www.airbnb.com/rooms/14551   31/03/2023   \n",
              "1          1  https://www.airbnb.com/rooms/1205757   31/03/2023   \n",
              "2          2  https://www.airbnb.com/rooms/1212820   01/04/2023   \n",
              "3          3   https://www.airbnb.com/rooms/751638   31/03/2023   \n",
              "4          4    https://www.airbnb.com/rooms/41342   01/04/2023   \n",
              "\n",
              "            source                                      name  \\\n",
              "0      city scrape  Cozy & Colorful by Nature (Private Room)   \n",
              "1      city scrape       HabitaciÃ³n doble + baÃ±o y terraza   \n",
              "2      city scrape       Apartment port de rei stunning wiew   \n",
              "3      city scrape       Room Limon - Casa Pati de lÂ´Albera   \n",
              "4  previous scrape         Beachfront Tamariua (Costa Brava)   \n",
              "\n",
              "                                         description  \\\n",
              "0  Up in the hill of MontjuÃ¯c (a mountain overlo...   \n",
              "1  <b>The space</b><br />HabitaciÃ³n confortable ...   \n",
              "2  <b>The space</b><br />Apartments first line un...   \n",
              "3  <b>The space</b><br />Nice room with 2 individ...   \n",
              "4  A little paradise by the sea. Apartment 2/4 ad...   \n",
              "\n",
              "                               neighborhood_overview  \\\n",
              "0  MontjuÃ¯c is most likely the best neighborhood...   \n",
              "1  Bonitas playas a 15 minutos en coche. Piscina ...   \n",
              "2                                    sin informacion   \n",
              "3  Sant Climent is a tiny village, with a populat...   \n",
              "4  Apartment located outside the town on a small ...   \n",
              "\n",
              "                                         picture_url  \\\n",
              "0  https://a0.muscache.com/pictures/16209908/f1fe...   \n",
              "1  https://a0.muscache.com/pictures/02e0a61e-078e...   \n",
              "2  https://a0.muscache.com/pictures/18245529/0886...   \n",
              "3  https://a0.muscache.com/pictures/64276178/98d1...   \n",
              "4  https://a0.muscache.com/pictures/70414801/59d4...   \n",
              "\n",
              "                                    host_url host_name  ...  \\\n",
              "0    https://www.airbnb.com/users/show/57237       Mun  ...   \n",
              "1  https://www.airbnb.com/users/show/6586355    Montse  ...   \n",
              "2  https://www.airbnb.com/users/show/6620645    Myriam  ...   \n",
              "3  https://www.airbnb.com/users/show/3680160   Roberto  ...   \n",
              "4   https://www.airbnb.com/users/show/180072    Marisa  ...   \n",
              "\n",
              "  review_scores_cleanliness review_scores_checkin review_scores_communication  \\\n",
              "0                      4.94                  4.89                        4.91   \n",
              "1                      4.85                  4.85                        4.91   \n",
              "2                      4.31                  4.81                        4.76   \n",
              "3                      4.50                  4.86                        5.00   \n",
              "4                      4.82                  4.73                        4.73   \n",
              "\n",
              "  review_scores_location review_scores_value calculated_host_listings_count  \\\n",
              "0                   4.63                4.74                            1.0   \n",
              "1                   4.69                4.80                            1.0   \n",
              "2                   4.74                4.32                            2.0   \n",
              "3                   4.63                4.50                            6.0   \n",
              "4                   4.91                4.36                            1.0   \n",
              "\n",
              "  calculated_host_listings_count_entire_homes  \\\n",
              "0                                         0.0   \n",
              "1                                         0.0   \n",
              "2                                         2.0   \n",
              "3                                         1.0   \n",
              "4                                         1.0   \n",
              "\n",
              "  calculated_host_listings_count_private_rooms  \\\n",
              "0                                          0.0   \n",
              "1                                          0.0   \n",
              "2                                          0.0   \n",
              "3                                          0.0   \n",
              "4                                          0.0   \n",
              "\n",
              "  calculated_host_listings_count_shared_rooms reviews_per_month  \n",
              "0                                         0.0              0.37  \n",
              "1                                         0.0              0.51  \n",
              "2                                         0.0              0.62  \n",
              "3                                         0.0              0.08  \n",
              "4                                         0.0              0.09  \n",
              "\n",
              "[5 rows x 73 columns]"
            ],
            "text/html": [
              "\n",
              "  <div id=\"df-599464d7-a977-4134-817c-5c5e33b320c1\">\n",
              "    <div class=\"colab-df-container\">\n",
              "      <div>\n",
              "<style scoped>\n",
              "    .dataframe tbody tr th:only-of-type {\n",
              "        vertical-align: middle;\n",
              "    }\n",
              "\n",
              "    .dataframe tbody tr th {\n",
              "        vertical-align: top;\n",
              "    }\n",
              "\n",
              "    .dataframe thead th {\n",
              "        text-align: right;\n",
              "    }\n",
              "</style>\n",
              "<table border=\"1\" class=\"dataframe\">\n",
              "  <thead>\n",
              "    <tr style=\"text-align: right;\">\n",
              "      <th></th>\n",
              "      <th>Unnamed: 0</th>\n",
              "      <th>listing_url</th>\n",
              "      <th>last_scraped</th>\n",
              "      <th>source</th>\n",
              "      <th>name</th>\n",
              "      <th>description</th>\n",
              "      <th>neighborhood_overview</th>\n",
              "      <th>picture_url</th>\n",
              "      <th>host_url</th>\n",
              "      <th>host_name</th>\n",
              "      <th>...</th>\n",
              "      <th>review_scores_cleanliness</th>\n",
              "      <th>review_scores_checkin</th>\n",
              "      <th>review_scores_communication</th>\n",
              "      <th>review_scores_location</th>\n",
              "      <th>review_scores_value</th>\n",
              "      <th>calculated_host_listings_count</th>\n",
              "      <th>calculated_host_listings_count_entire_homes</th>\n",
              "      <th>calculated_host_listings_count_private_rooms</th>\n",
              "      <th>calculated_host_listings_count_shared_rooms</th>\n",
              "      <th>reviews_per_month</th>\n",
              "    </tr>\n",
              "  </thead>\n",
              "  <tbody>\n",
              "    <tr>\n",
              "      <th>0</th>\n",
              "      <td>0</td>\n",
              "      <td>https://www.airbnb.com/rooms/14551</td>\n",
              "      <td>31/03/2023</td>\n",
              "      <td>city scrape</td>\n",
              "      <td>Cozy &amp; Colorful by Nature (Private Room)</td>\n",
              "      <td>Up in the hill of MontjuÃ¯c (a mountain overlo...</td>\n",
              "      <td>MontjuÃ¯c is most likely the best neighborhood...</td>\n",
              "      <td>https://a0.muscache.com/pictures/16209908/f1fe...</td>\n",
              "      <td>https://www.airbnb.com/users/show/57237</td>\n",
              "      <td>Mun</td>\n",
              "      <td>...</td>\n",
              "      <td>4.94</td>\n",
              "      <td>4.89</td>\n",
              "      <td>4.91</td>\n",
              "      <td>4.63</td>\n",
              "      <td>4.74</td>\n",
              "      <td>1.0</td>\n",
              "      <td>0.0</td>\n",
              "      <td>0.0</td>\n",
              "      <td>0.0</td>\n",
              "      <td>0.37</td>\n",
              "    </tr>\n",
              "    <tr>\n",
              "      <th>1</th>\n",
              "      <td>1</td>\n",
              "      <td>https://www.airbnb.com/rooms/1205757</td>\n",
              "      <td>31/03/2023</td>\n",
              "      <td>city scrape</td>\n",
              "      <td>HabitaciÃ³n doble + baÃ±o y terraza</td>\n",
              "      <td>&lt;b&gt;The space&lt;/b&gt;&lt;br /&gt;HabitaciÃ³n confortable ...</td>\n",
              "      <td>Bonitas playas a 15 minutos en coche. Piscina ...</td>\n",
              "      <td>https://a0.muscache.com/pictures/02e0a61e-078e...</td>\n",
              "      <td>https://www.airbnb.com/users/show/6586355</td>\n",
              "      <td>Montse</td>\n",
              "      <td>...</td>\n",
              "      <td>4.85</td>\n",
              "      <td>4.85</td>\n",
              "      <td>4.91</td>\n",
              "      <td>4.69</td>\n",
              "      <td>4.80</td>\n",
              "      <td>1.0</td>\n",
              "      <td>0.0</td>\n",
              "      <td>0.0</td>\n",
              "      <td>0.0</td>\n",
              "      <td>0.51</td>\n",
              "    </tr>\n",
              "    <tr>\n",
              "      <th>2</th>\n",
              "      <td>2</td>\n",
              "      <td>https://www.airbnb.com/rooms/1212820</td>\n",
              "      <td>01/04/2023</td>\n",
              "      <td>city scrape</td>\n",
              "      <td>Apartment port de rei stunning wiew</td>\n",
              "      <td>&lt;b&gt;The space&lt;/b&gt;&lt;br /&gt;Apartments first line un...</td>\n",
              "      <td>sin informacion</td>\n",
              "      <td>https://a0.muscache.com/pictures/18245529/0886...</td>\n",
              "      <td>https://www.airbnb.com/users/show/6620645</td>\n",
              "      <td>Myriam</td>\n",
              "      <td>...</td>\n",
              "      <td>4.31</td>\n",
              "      <td>4.81</td>\n",
              "      <td>4.76</td>\n",
              "      <td>4.74</td>\n",
              "      <td>4.32</td>\n",
              "      <td>2.0</td>\n",
              "      <td>2.0</td>\n",
              "      <td>0.0</td>\n",
              "      <td>0.0</td>\n",
              "      <td>0.62</td>\n",
              "    </tr>\n",
              "    <tr>\n",
              "      <th>3</th>\n",
              "      <td>3</td>\n",
              "      <td>https://www.airbnb.com/rooms/751638</td>\n",
              "      <td>31/03/2023</td>\n",
              "      <td>city scrape</td>\n",
              "      <td>Room Limon - Casa Pati de lÂ´Albera</td>\n",
              "      <td>&lt;b&gt;The space&lt;/b&gt;&lt;br /&gt;Nice room with 2 individ...</td>\n",
              "      <td>Sant Climent is a tiny village, with a populat...</td>\n",
              "      <td>https://a0.muscache.com/pictures/64276178/98d1...</td>\n",
              "      <td>https://www.airbnb.com/users/show/3680160</td>\n",
              "      <td>Roberto</td>\n",
              "      <td>...</td>\n",
              "      <td>4.50</td>\n",
              "      <td>4.86</td>\n",
              "      <td>5.00</td>\n",
              "      <td>4.63</td>\n",
              "      <td>4.50</td>\n",
              "      <td>6.0</td>\n",
              "      <td>1.0</td>\n",
              "      <td>0.0</td>\n",
              "      <td>0.0</td>\n",
              "      <td>0.08</td>\n",
              "    </tr>\n",
              "    <tr>\n",
              "      <th>4</th>\n",
              "      <td>4</td>\n",
              "      <td>https://www.airbnb.com/rooms/41342</td>\n",
              "      <td>01/04/2023</td>\n",
              "      <td>previous scrape</td>\n",
              "      <td>Beachfront Tamariua (Costa Brava)</td>\n",
              "      <td>A little paradise by the sea. Apartment 2/4 ad...</td>\n",
              "      <td>Apartment located outside the town on a small ...</td>\n",
              "      <td>https://a0.muscache.com/pictures/70414801/59d4...</td>\n",
              "      <td>https://www.airbnb.com/users/show/180072</td>\n",
              "      <td>Marisa</td>\n",
              "      <td>...</td>\n",
              "      <td>4.82</td>\n",
              "      <td>4.73</td>\n",
              "      <td>4.73</td>\n",
              "      <td>4.91</td>\n",
              "      <td>4.36</td>\n",
              "      <td>1.0</td>\n",
              "      <td>1.0</td>\n",
              "      <td>0.0</td>\n",
              "      <td>0.0</td>\n",
              "      <td>0.09</td>\n",
              "    </tr>\n",
              "  </tbody>\n",
              "</table>\n",
              "<p>5 rows × 73 columns</p>\n",
              "</div>\n",
              "      <button class=\"colab-df-convert\" onclick=\"convertToInteractive('df-599464d7-a977-4134-817c-5c5e33b320c1')\"\n",
              "              title=\"Convert this dataframe to an interactive table.\"\n",
              "              style=\"display:none;\">\n",
              "        \n",
              "  <svg xmlns=\"http://www.w3.org/2000/svg\" height=\"24px\"viewBox=\"0 0 24 24\"\n",
              "       width=\"24px\">\n",
              "    <path d=\"M0 0h24v24H0V0z\" fill=\"none\"/>\n",
              "    <path d=\"M18.56 5.44l.94 2.06.94-2.06 2.06-.94-2.06-.94-.94-2.06-.94 2.06-2.06.94zm-11 1L8.5 8.5l.94-2.06 2.06-.94-2.06-.94L8.5 2.5l-.94 2.06-2.06.94zm10 10l.94 2.06.94-2.06 2.06-.94-2.06-.94-.94-2.06-.94 2.06-2.06.94z\"/><path d=\"M17.41 7.96l-1.37-1.37c-.4-.4-.92-.59-1.43-.59-.52 0-1.04.2-1.43.59L10.3 9.45l-7.72 7.72c-.78.78-.78 2.05 0 2.83L4 21.41c.39.39.9.59 1.41.59.51 0 1.02-.2 1.41-.59l7.78-7.78 2.81-2.81c.8-.78.8-2.07 0-2.86zM5.41 20L4 18.59l7.72-7.72 1.47 1.35L5.41 20z\"/>\n",
              "  </svg>\n",
              "      </button>\n",
              "      \n",
              "  <style>\n",
              "    .colab-df-container {\n",
              "      display:flex;\n",
              "      flex-wrap:wrap;\n",
              "      gap: 12px;\n",
              "    }\n",
              "\n",
              "    .colab-df-convert {\n",
              "      background-color: #E8F0FE;\n",
              "      border: none;\n",
              "      border-radius: 50%;\n",
              "      cursor: pointer;\n",
              "      display: none;\n",
              "      fill: #1967D2;\n",
              "      height: 32px;\n",
              "      padding: 0 0 0 0;\n",
              "      width: 32px;\n",
              "    }\n",
              "\n",
              "    .colab-df-convert:hover {\n",
              "      background-color: #E2EBFA;\n",
              "      box-shadow: 0px 1px 2px rgba(60, 64, 67, 0.3), 0px 1px 3px 1px rgba(60, 64, 67, 0.15);\n",
              "      fill: #174EA6;\n",
              "    }\n",
              "\n",
              "    [theme=dark] .colab-df-convert {\n",
              "      background-color: #3B4455;\n",
              "      fill: #D2E3FC;\n",
              "    }\n",
              "\n",
              "    [theme=dark] .colab-df-convert:hover {\n",
              "      background-color: #434B5C;\n",
              "      box-shadow: 0px 1px 3px 1px rgba(0, 0, 0, 0.15);\n",
              "      filter: drop-shadow(0px 1px 2px rgba(0, 0, 0, 0.3));\n",
              "      fill: #FFFFFF;\n",
              "    }\n",
              "  </style>\n",
              "\n",
              "      <script>\n",
              "        const buttonEl =\n",
              "          document.querySelector('#df-599464d7-a977-4134-817c-5c5e33b320c1 button.colab-df-convert');\n",
              "        buttonEl.style.display =\n",
              "          google.colab.kernel.accessAllowed ? 'block' : 'none';\n",
              "\n",
              "        async function convertToInteractive(key) {\n",
              "          const element = document.querySelector('#df-599464d7-a977-4134-817c-5c5e33b320c1');\n",
              "          const dataTable =\n",
              "            await google.colab.kernel.invokeFunction('convertToInteractive',\n",
              "                                                     [key], {});\n",
              "          if (!dataTable) return;\n",
              "\n",
              "          const docLinkHtml = 'Like what you see? Visit the ' +\n",
              "            '<a target=\"_blank\" href=https://colab.research.google.com/notebooks/data_table.ipynb>data table notebook</a>'\n",
              "            + ' to learn more about interactive tables.';\n",
              "          element.innerHTML = '';\n",
              "          dataTable['output_type'] = 'display_data';\n",
              "          await google.colab.output.renderOutput(dataTable, element);\n",
              "          const docLink = document.createElement('div');\n",
              "          docLink.innerHTML = docLinkHtml;\n",
              "          element.appendChild(docLink);\n",
              "        }\n",
              "      </script>\n",
              "    </div>\n",
              "  </div>\n",
              "  "
            ]
          },
          "metadata": {},
          "execution_count": 46
        }
      ]
    },
    {
      "cell_type": "code",
      "source": [
        "#Corroboramos valores nulos del dataframe LIMPIO\n",
        "valores_nulos=df.isnull().sum().sum()\n",
        "valores_nulos"
      ],
      "metadata": {
        "colab": {
          "base_uri": "https://localhost:8080/"
        },
        "id": "K3h65Qizb9iM",
        "outputId": "e4799550-ad23-435e-fca0-27067016b33a"
      },
      "execution_count": 47,
      "outputs": [
        {
          "output_type": "execute_result",
          "data": {
            "text/plain": [
              "72"
            ]
          },
          "metadata": {},
          "execution_count": 47
        }
      ]
    },
    {
      "cell_type": "code",
      "source": [
        "#No se porque sale que hay nulos si en el archivo del pais dice que hay 0 nulos\n",
        "#para que no haya errores todos los nulos los reemplazo con bfill\n",
        "df.fillna(method='bfill', inplace=True)"
      ],
      "metadata": {
        "id": "AAT3G8SXb_Yl"
      },
      "execution_count": 48,
      "outputs": []
    },
    {
      "cell_type": "code",
      "source": [
        "#Corroboramos valores nulos del dataframe LIMPIO\n",
        "valores_nulos=df.isnull().sum().sum()\n",
        "valores_nulos"
      ],
      "metadata": {
        "colab": {
          "base_uri": "https://localhost:8080/"
        },
        "id": "eTQ0E325cA2g",
        "outputId": "4a9d54f5-65ac-4e8d-a5fb-d6eca43b939b"
      },
      "execution_count": 49,
      "outputs": [
        {
          "output_type": "execute_result",
          "data": {
            "text/plain": [
              "0"
            ]
          },
          "metadata": {},
          "execution_count": 49
        }
      ]
    },
    {
      "cell_type": "markdown",
      "source": [
        "# **1.host_acceptance_rate vs host_response_rate**"
      ],
      "metadata": {
        "id": "SCAPrc4sckvs"
      }
    },
    {
      "cell_type": "code",
      "source": [
        "enthome_apt = df[df['room_type'] == 'Entire home/apt']"
      ],
      "metadata": {
        "id": "FAJ9QhD3cCaD"
      },
      "execution_count": 50,
      "outputs": []
    },
    {
      "cell_type": "code",
      "source": [
        "#Cambiar datos\n",
        "enthome_apt['host_response_rate'] = enthome_apt['host_response_rate'].astype(str)  \n",
        "enthome_apt['host_response_rate'] = enthome_apt['host_response_rate'].str.replace('%', '')  \n",
        "enthome_apt['host_response_rate'] = pd.to_numeric(enthome_apt['host_response_rate'], errors='coerce')\n",
        "enthome_apt[['host_acceptance_rate',\"host_response_rate\"]] = enthome_apt[['host_acceptance_rate',\"host_response_rate\"]].replace('%', '', regex=True).astype('float') / 100"
      ],
      "metadata": {
        "id": "S7JqaZACcZRc"
      },
      "execution_count": null,
      "outputs": []
    },
    {
      "cell_type": "code",
      "source": [
        "#Imprimimos el scatter plot entre la variable dependiente e independiente\n",
        "#para observar el comportamiento en su dispersión \n",
        "from turtle import color\n",
        "\n",
        "sns.scatterplot(x='host_acceptance_rate', y='host_response_rate',color=\"pink\",data=enthome_apt)\n",
        "sns.scatterplot(x='price', y='host_acceptance_rate', color=\"purple\", data=enthome_apt)\n",
        "sns.scatterplot(x='number_of_reviews', y='host_acceptance_rate', color=\"green\", data=enthome_apt)\n",
        "sns.scatterplot(x='review_scores_rating', y='host_acceptance_rate', color=\"blue\", data=enthome_apt)"
      ],
      "metadata": {
        "colab": {
          "base_uri": "https://localhost:8080/",
          "height": 468
        },
        "id": "nWM5cNVxcm75",
        "outputId": "b96858b7-1eb9-448e-f29f-af77bbb7ee29"
      },
      "execution_count": 52,
      "outputs": [
        {
          "output_type": "execute_result",
          "data": {
            "text/plain": [
              "<Axes: xlabel='host_acceptance_rate', ylabel='host_response_rate'>"
            ]
          },
          "metadata": {},
          "execution_count": 52
        },
        {
          "output_type": "display_data",
          "data": {
            "text/plain": [
              "<Figure size 640x480 with 1 Axes>"
            ],
            "image/png": "[encoded data removed]"
          },
          "metadata": {}
        }
      ]
    },
    {
      "cell_type": "code",
      "source": [
        "#Declaramos las variables dependientes e independientes para la regresión lineal\n",
        "\n",
        "Vars_Indep= enthome_apt[['host_response_rate', 'price','number_of_reviews',\"review_scores_rating\"]]\n",
        "Var_Dep= enthome_apt['host_acceptance_rate']"
      ],
      "metadata": {
        "id": "KPejCgvRcq_n"
      },
      "execution_count": 53,
      "outputs": []
    },
    {
      "cell_type": "code",
      "source": [
        "#Se define model como la función de regresión lineal\n",
        "from sklearn.linear_model import LinearRegression\n",
        "model= LinearRegression()"
      ],
      "metadata": {
        "id": "n1NZdU-9cszS"
      },
      "execution_count": 54,
      "outputs": []
    },
    {
      "cell_type": "code",
      "source": [
        "#Verificamos la función relacionada al modelo\n",
        "type(model)"
      ],
      "metadata": {
        "colab": {
          "base_uri": "https://localhost:8080/"
        },
        "id": "iXE9wXm4cuew",
        "outputId": "cdb8fd62-a813-4b48-f631-80ee8690b7bb"
      },
      "execution_count": 55,
      "outputs": [
        {
          "output_type": "execute_result",
          "data": {
            "text/plain": [
              "sklearn.linear_model._base.LinearRegression"
            ]
          },
          "metadata": {},
          "execution_count": 55
        }
      ]
    },
    {
      "cell_type": "code",
      "source": [
        "#Ajustamos el modelo con las variables antes declaradas\n",
        "model.fit(X=Vars_Indep, y=Var_Dep)"
      ],
      "metadata": {
        "colab": {
          "base_uri": "https://localhost:8080/",
          "height": 75
        },
        "id": "0pEPmQzucwLO",
        "outputId": "16e01b5e-ea0b-46a1-e514-a1dde763e2d3"
      },
      "execution_count": 56,
      "outputs": [
        {
          "output_type": "execute_result",
          "data": {
            "text/plain": [
              "LinearRegression()"
            ],
            "text/html": [
              "<style>#sk-container-id-4 {color: black;background-color: white;}#sk-container-id-4 pre{padding: 0;}#sk-container-id-4 div.sk-toggleable {background-color: white;}#sk-container-id-4 label.sk-toggleable__label {cursor: pointer;display: block;width: 100%;margin-bottom: 0;padding: 0.3em;box-sizing: border-box;text-align: center;}#sk-container-id-4 label.sk-toggleable__label-arrow:before {content: \"▸\";float: left;margin-right: 0.25em;color: #696969;}#sk-container-id-4 label.sk-toggleable__label-arrow:hover:before {color: black;}#sk-container-id-4 div.sk-estimator:hover label.sk-toggleable__label-arrow:before {color: black;}#sk-container-id-4 div.sk-toggleable__content {max-height: 0;max-width: 0;overflow: hidden;text-align: left;background-color: #f0f8ff;}#sk-container-id-4 div.sk-toggleable__content pre {margin: 0.2em;color: black;border-radius: 0.25em;background-color: #f0f8ff;}#sk-container-id-4 input.sk-toggleable__control:checked~div.sk-toggleable__content {max-height: 200px;max-width: 100%;overflow: auto;}#sk-container-id-4 input.sk-toggleable__control:checked~label.sk-toggleable__label-arrow:before {content: \"▾\";}#sk-container-id-4 div.sk-estimator input.sk-toggleable__control:checked~label.sk-toggleable__label {background-color: #d4ebff;}#sk-container-id-4 div.sk-label input.sk-toggleable__control:checked~label.sk-toggleable__label {background-color: #d4ebff;}#sk-container-id-4 input.sk-hidden--visually {border: 0;clip: rect(1px 1px 1px 1px);clip: rect(1px, 1px, 1px, 1px);height: 1px;margin: -1px;overflow: hidden;padding: 0;position: absolute;width: 1px;}#sk-container-id-4 div.sk-estimator {font-family: monospace;background-color: #f0f8ff;border: 1px dotted black;border-radius: 0.25em;box-sizing: border-box;margin-bottom: 0.5em;}#sk-container-id-4 div.sk-estimator:hover {background-color: #d4ebff;}#sk-container-id-4 div.sk-parallel-item::after {content: \"\";width: 100%;border-bottom: 1px solid gray;flex-grow: 1;}#sk-container-id-4 div.sk-label:hover label.sk-toggleable__label {background-color: #d4ebff;}#sk-container-id-4 div.sk-serial::before {content: \"\";position: absolute;border-left: 1px solid gray;box-sizing: border-box;top: 0;bottom: 0;left: 50%;z-index: 0;}#sk-container-id-4 div.sk-serial {display: flex;flex-direction: column;align-items: center;background-color: white;padding-right: 0.2em;padding-left: 0.2em;position: relative;}#sk-container-id-4 div.sk-item {position: relative;z-index: 1;}#sk-container-id-4 div.sk-parallel {display: flex;align-items: stretch;justify-content: center;background-color: white;position: relative;}#sk-container-id-4 div.sk-item::before, #sk-container-id-4 div.sk-parallel-item::before {content: \"\";position: absolute;border-left: 1px solid gray;box-sizing: border-box;top: 0;bottom: 0;left: 50%;z-index: -1;}#sk-container-id-4 div.sk-parallel-item {display: flex;flex-direction: column;z-index: 1;position: relative;background-color: white;}#sk-container-id-4 div.sk-parallel-item:first-child::after {align-self: flex-end;width: 50%;}#sk-container-id-4 div.sk-parallel-item:last-child::after {align-self: flex-start;width: 50%;}#sk-container-id-4 div.sk-parallel-item:only-child::after {width: 0;}#sk-container-id-4 div.sk-dashed-wrapped {border: 1px dashed gray;margin: 0 0.4em 0.5em 0.4em;box-sizing: border-box;padding-bottom: 0.4em;background-color: white;}#sk-container-id-4 div.sk-label label {font-family: monospace;font-weight: bold;display: inline-block;line-height: 1.2em;}#sk-container-id-4 div.sk-label-container {text-align: center;}#sk-container-id-4 div.sk-container {/* jupyter's `normalize.less` sets `[hidden] { display: none; }` but bootstrap.min.css set `[hidden] { display: none !important; }` so we also need the `!important` here to be able to override the default hidden behavior on the sphinx rendered scikit-learn.org. See: https://github.com/scikit-learn/scikit-learn/issues/21755 */display: inline-block !important;position: relative;}#sk-container-id-4 div.sk-text-repr-fallback {display: none;}</style><div id=\"sk-container-id-4\" class=\"sk-top-container\"><div class=\"sk-text-repr-fallback\"><pre>LinearRegression()</pre><b>In a Jupyter environment, please rerun this cell to show the HTML representation or trust the notebook. <br />On GitHub, the HTML representation is unable to render, please try loading this page with nbviewer.org.</b></div><div class=\"sk-container\" hidden><div class=\"sk-item\"><div class=\"sk-estimator sk-toggleable\"><input class=\"sk-toggleable__control sk-hidden--visually\" id=\"sk-estimator-id-4\" type=\"checkbox\" checked><label for=\"sk-estimator-id-4\" class=\"sk-toggleable__label sk-toggleable__label-arrow\">LinearRegression</label><div class=\"sk-toggleable__content\"><pre>LinearRegression()</pre></div></div></div></div></div>"
            ]
          },
          "metadata": {},
          "execution_count": 56
        }
      ]
    },
    {
      "cell_type": "code",
      "source": [
        "#Verificamos los coeficientes obtenidos para el modelo ajustado\n",
        "model.__dict__"
      ],
      "metadata": {
        "colab": {
          "base_uri": "https://localhost:8080/"
        },
        "id": "xbt490dHcxwG",
        "outputId": "b90fad47-4f96-4da2-f391-9e3224f83178"
      },
      "execution_count": 57,
      "outputs": [
        {
          "output_type": "execute_result",
          "data": {
            "text/plain": [
              "{'fit_intercept': True,\n",
              " 'copy_X': True,\n",
              " 'n_jobs': None,\n",
              " 'positive': False,\n",
              " 'feature_names_in_': array(['host_response_rate', 'price', 'number_of_reviews',\n",
              "        'review_scores_rating'], dtype=object),\n",
              " 'n_features_in_': 4,\n",
              " 'coef_': array([ 1.00594754e-01, -2.56663782e-06, -2.82555041e-04, -1.35914211e-03]),\n",
              " 'rank_': 4,\n",
              " 'singular_': array([7.35249856e+04, 1.02241676e+03, 2.80566133e+01, 4.29712714e+00]),\n",
              " 'intercept_': 0.8690804669920348}"
            ]
          },
          "metadata": {},
          "execution_count": 57
        }
      ]
    },
    {
      "cell_type": "markdown",
      "source": [
        "**Modelo matemático: y= 1.00594754e-01x1 + -2.56663782e-06x2 + -2.82555041e-04x3 + -1.35914211e-03x4 + 0.8690804669920348**"
      ],
      "metadata": {
        "id": "-FNVUG-Lc00U"
      }
    },
    {
      "cell_type": "code",
      "source": [
        "#Evaluamos la eficiencia del modelo obtenido por medio del coeficiente R Determinación\n",
        "model.score(Vars_Indep,Var_Dep)"
      ],
      "metadata": {
        "colab": {
          "base_uri": "https://localhost:8080/"
        },
        "id": "Jhzq6bHIczBC",
        "outputId": "0ba98760-5109-4124-9990-732fcdd81dfe"
      },
      "execution_count": 58,
      "outputs": [
        {
          "output_type": "execute_result",
          "data": {
            "text/plain": [
              "0.0047329115770817776"
            ]
          },
          "metadata": {},
          "execution_count": 58
        }
      ]
    },
    {
      "cell_type": "code",
      "source": [
        "#Predecimos los valores de total \n",
        "y_pred= model.predict(X=enthome_apt[['host_response_rate', 'price','number_of_reviews',\"review_scores_rating\"]])\n",
        "y_pred"
      ],
      "metadata": {
        "colab": {
          "base_uri": "https://localhost:8080/"
        },
        "id": "qT34ubBpc34Z",
        "outputId": "2c30aff1-a3a2-44cf-c3ce-5965a2bf4499"
      },
      "execution_count": 59,
      "outputs": [
        {
          "output_type": "execute_result",
          "data": {
            "text/plain": [
              "array([0.96172819, 0.95466171, 0.95483725, ..., 0.9611029 , 0.95616655,\n",
              "       0.96108493])"
            ]
          },
          "metadata": {},
          "execution_count": 59
        }
      ]
    },
    {
      "cell_type": "code",
      "source": [
        "#Insertamos la columna de predicciones en el DataFrame\n",
        "enthome_apt.insert(0, 'Predicciones', y_pred)\n",
        "enthome_apt.head()"
      ],
      "metadata": {
        "colab": {
          "base_uri": "https://localhost:8080/",
          "height": 612
        },
        "id": "iBqW7Ncmc5RR",
        "outputId": "9e25a3e0-bdfa-42a8-bb2c-b02975168d52"
      },
      "execution_count": 60,
      "outputs": [
        {
          "output_type": "execute_result",
          "data": {
            "text/plain": [
              "   Predicciones Unnamed: 0                           listing_url last_scraped  \\\n",
              "2      0.961728          2  https://www.airbnb.com/rooms/1212820   01/04/2023   \n",
              "4      0.954662          4    https://www.airbnb.com/rooms/41342   01/04/2023   \n",
              "5      0.954837          5   https://www.airbnb.com/rooms/751997   01/04/2023   \n",
              "6      0.959229          6   https://www.airbnb.com/rooms/752035   31/03/2023   \n",
              "7      0.955438          7  https://www.airbnb.com/rooms/1215790   01/04/2023   \n",
              "\n",
              "            source                                 name  \\\n",
              "2      city scrape  Apartment port de rei stunning wiew   \n",
              "4  previous scrape    Beachfront Tamariua (Costa Brava)   \n",
              "5      city scrape  CAN FELIP - Ãtico loft del s.XVIII   \n",
              "6      city scrape    CAN TARONGETA - Soleado Apto. 1-1   \n",
              "7      city scrape    100m FROM THE BEACH, with TERRACE   \n",
              "\n",
              "                                         description  \\\n",
              "2  <b>The space</b><br />Apartments first line un...   \n",
              "4  A little paradise by the sea. Apartment 2/4 ad...   \n",
              "5  MagnÃ­fica casa de pueblo del siglo XVIII, ubi...   \n",
              "6  MagnÃ­fico Apartamento de 62mÂ² con 2 dormitor...   \n",
              "7  Big apartment with terrace (7 people), next to...   \n",
              "\n",
              "                               neighborhood_overview  \\\n",
              "2                                    sin informacion   \n",
              "4  Apartment located outside the town on a small ...   \n",
              "5  Palafrugell se remonta al siglo X. El nÃºcleo ...   \n",
              "6  Palafrugell se remonta al siglo X. El nÃºcleo ...   \n",
              "7                                    sin informacion   \n",
              "\n",
              "                                         picture_url  \\\n",
              "2  https://a0.muscache.com/pictures/18245529/0886...   \n",
              "4  https://a0.muscache.com/pictures/70414801/59d4...   \n",
              "5  https://a0.muscache.com/pictures/f50b37b3-1c4d...   \n",
              "6  https://a0.muscache.com/pictures/303024e1-2deb...   \n",
              "7  https://a0.muscache.com/pictures/ea54a005-62f2...   \n",
              "\n",
              "                                    host_url  ... review_scores_cleanliness  \\\n",
              "2  https://www.airbnb.com/users/show/6620645  ...                      4.31   \n",
              "4   https://www.airbnb.com/users/show/180072  ...                      4.82   \n",
              "5  https://www.airbnb.com/users/show/3387407  ...                      4.69   \n",
              "6  https://www.airbnb.com/users/show/3387407  ...                      4.79   \n",
              "7  https://www.airbnb.com/users/show/3149645  ...                      4.78   \n",
              "\n",
              "  review_scores_checkin review_scores_communication review_scores_location  \\\n",
              "2                  4.81                        4.76                   4.74   \n",
              "4                  4.73                        4.73                   4.91   \n",
              "5                  4.69                        4.45                   4.79   \n",
              "6                  4.43                        4.50                   4.50   \n",
              "7                  4.89                        5.00                   4.56   \n",
              "\n",
              "  review_scores_value calculated_host_listings_count  \\\n",
              "2                4.32                            2.0   \n",
              "4                4.36                            1.0   \n",
              "5                4.59                           12.0   \n",
              "6                4.36                           12.0   \n",
              "7                4.11                            1.0   \n",
              "\n",
              "  calculated_host_listings_count_entire_homes  \\\n",
              "2                                         2.0   \n",
              "4                                         1.0   \n",
              "5                                        12.0   \n",
              "6                                        12.0   \n",
              "7                                         1.0   \n",
              "\n",
              "  calculated_host_listings_count_private_rooms  \\\n",
              "2                                          0.0   \n",
              "4                                          0.0   \n",
              "5                                          0.0   \n",
              "6                                          0.0   \n",
              "7                                          0.0   \n",
              "\n",
              "  calculated_host_listings_count_shared_rooms reviews_per_month  \n",
              "2                                         0.0              0.62  \n",
              "4                                         0.0              0.09  \n",
              "5                                         0.0              0.34  \n",
              "6                                         0.0              0.13  \n",
              "7                                         0.0              0.08  \n",
              "\n",
              "[5 rows x 74 columns]"
            ],
            "text/html": [
              "\n",
              "  <div id=\"df-f1196f6c-cb01-4770-8b3a-444d33253030\">\n",
              "    <div class=\"colab-df-container\">\n",
              "      <div>\n",
              "<style scoped>\n",
              "    .dataframe tbody tr th:only-of-type {\n",
              "        vertical-align: middle;\n",
              "    }\n",
              "\n",
              "    .dataframe tbody tr th {\n",
              "        vertical-align: top;\n",
              "    }\n",
              "\n",
              "    .dataframe thead th {\n",
              "        text-align: right;\n",
              "    }\n",
              "</style>\n",
              "<table border=\"1\" class=\"dataframe\">\n",
              "  <thead>\n",
              "    <tr style=\"text-align: right;\">\n",
              "      <th></th>\n",
              "      <th>Predicciones</th>\n",
              "      <th>Unnamed: 0</th>\n",
              "      <th>listing_url</th>\n",
              "      <th>last_scraped</th>\n",
              "      <th>source</th>\n",
              "      <th>name</th>\n",
              "      <th>description</th>\n",
              "      <th>neighborhood_overview</th>\n",
              "      <th>picture_url</th>\n",
              "      <th>host_url</th>\n",
              "      <th>...</th>\n",
              "      <th>review_scores_cleanliness</th>\n",
              "      <th>review_scores_checkin</th>\n",
              "      <th>review_scores_communication</th>\n",
              "      <th>review_scores_location</th>\n",
              "      <th>review_scores_value</th>\n",
              "      <th>calculated_host_listings_count</th>\n",
              "      <th>calculated_host_listings_count_entire_homes</th>\n",
              "      <th>calculated_host_listings_count_private_rooms</th>\n",
              "      <th>calculated_host_listings_count_shared_rooms</th>\n",
              "      <th>reviews_per_month</th>\n",
              "    </tr>\n",
              "  </thead>\n",
              "  <tbody>\n",
              "    <tr>\n",
              "      <th>2</th>\n",
              "      <td>0.961728</td>\n",
              "      <td>2</td>\n",
              "      <td>https://www.airbnb.com/rooms/1212820</td>\n",
              "      <td>01/04/2023</td>\n",
              "      <td>city scrape</td>\n",
              "      <td>Apartment port de rei stunning wiew</td>\n",
              "      <td>&lt;b&gt;The space&lt;/b&gt;&lt;br /&gt;Apartments first line un...</td>\n",
              "      <td>sin informacion</td>\n",
              "      <td>https://a0.muscache.com/pictures/18245529/0886...</td>\n",
              "      <td>https://www.airbnb.com/users/show/6620645</td>\n",
              "      <td>...</td>\n",
              "      <td>4.31</td>\n",
              "      <td>4.81</td>\n",
              "      <td>4.76</td>\n",
              "      <td>4.74</td>\n",
              "      <td>4.32</td>\n",
              "      <td>2.0</td>\n",
              "      <td>2.0</td>\n",
              "      <td>0.0</td>\n",
              "      <td>0.0</td>\n",
              "      <td>0.62</td>\n",
              "    </tr>\n",
              "    <tr>\n",
              "      <th>4</th>\n",
              "      <td>0.954662</td>\n",
              "      <td>4</td>\n",
              "      <td>https://www.airbnb.com/rooms/41342</td>\n",
              "      <td>01/04/2023</td>\n",
              "      <td>previous scrape</td>\n",
              "      <td>Beachfront Tamariua (Costa Brava)</td>\n",
              "      <td>A little paradise by the sea. Apartment 2/4 ad...</td>\n",
              "      <td>Apartment located outside the town on a small ...</td>\n",
              "      <td>https://a0.muscache.com/pictures/70414801/59d4...</td>\n",
              "      <td>https://www.airbnb.com/users/show/180072</td>\n",
              "      <td>...</td>\n",
              "      <td>4.82</td>\n",
              "      <td>4.73</td>\n",
              "      <td>4.73</td>\n",
              "      <td>4.91</td>\n",
              "      <td>4.36</td>\n",
              "      <td>1.0</td>\n",
              "      <td>1.0</td>\n",
              "      <td>0.0</td>\n",
              "      <td>0.0</td>\n",
              "      <td>0.09</td>\n",
              "    </tr>\n",
              "    <tr>\n",
              "      <th>5</th>\n",
              "      <td>0.954837</td>\n",
              "      <td>5</td>\n",
              "      <td>https://www.airbnb.com/rooms/751997</td>\n",
              "      <td>01/04/2023</td>\n",
              "      <td>city scrape</td>\n",
              "      <td>CAN FELIP - Ãtico loft del s.XVIII</td>\n",
              "      <td>MagnÃ­fica casa de pueblo del siglo XVIII, ubi...</td>\n",
              "      <td>Palafrugell se remonta al siglo X. El nÃºcleo ...</td>\n",
              "      <td>https://a0.muscache.com/pictures/f50b37b3-1c4d...</td>\n",
              "      <td>https://www.airbnb.com/users/show/3387407</td>\n",
              "      <td>...</td>\n",
              "      <td>4.69</td>\n",
              "      <td>4.69</td>\n",
              "      <td>4.45</td>\n",
              "      <td>4.79</td>\n",
              "      <td>4.59</td>\n",
              "      <td>12.0</td>\n",
              "      <td>12.0</td>\n",
              "      <td>0.0</td>\n",
              "      <td>0.0</td>\n",
              "      <td>0.34</td>\n",
              "    </tr>\n",
              "    <tr>\n",
              "      <th>6</th>\n",
              "      <td>0.959229</td>\n",
              "      <td>6</td>\n",
              "      <td>https://www.airbnb.com/rooms/752035</td>\n",
              "      <td>31/03/2023</td>\n",
              "      <td>city scrape</td>\n",
              "      <td>CAN TARONGETA - Soleado Apto. 1-1</td>\n",
              "      <td>MagnÃ­fico Apartamento de 62mÂ² con 2 dormitor...</td>\n",
              "      <td>Palafrugell se remonta al siglo X. El nÃºcleo ...</td>\n",
              "      <td>https://a0.muscache.com/pictures/303024e1-2deb...</td>\n",
              "      <td>https://www.airbnb.com/users/show/3387407</td>\n",
              "      <td>...</td>\n",
              "      <td>4.79</td>\n",
              "      <td>4.43</td>\n",
              "      <td>4.50</td>\n",
              "      <td>4.50</td>\n",
              "      <td>4.36</td>\n",
              "      <td>12.0</td>\n",
              "      <td>12.0</td>\n",
              "      <td>0.0</td>\n",
              "      <td>0.0</td>\n",
              "      <td>0.13</td>\n",
              "    </tr>\n",
              "    <tr>\n",
              "      <th>7</th>\n",
              "      <td>0.955438</td>\n",
              "      <td>7</td>\n",
              "      <td>https://www.airbnb.com/rooms/1215790</td>\n",
              "      <td>01/04/2023</td>\n",
              "      <td>city scrape</td>\n",
              "      <td>100m FROM THE BEACH, with TERRACE</td>\n",
              "      <td>Big apartment with terrace (7 people), next to...</td>\n",
              "      <td>sin informacion</td>\n",
              "      <td>https://a0.muscache.com/pictures/ea54a005-62f2...</td>\n",
              "      <td>https://www.airbnb.com/users/show/3149645</td>\n",
              "      <td>...</td>\n",
              "      <td>4.78</td>\n",
              "      <td>4.89</td>\n",
              "      <td>5.00</td>\n",
              "      <td>4.56</td>\n",
              "      <td>4.11</td>\n",
              "      <td>1.0</td>\n",
              "      <td>1.0</td>\n",
              "      <td>0.0</td>\n",
              "      <td>0.0</td>\n",
              "      <td>0.08</td>\n",
              "    </tr>\n",
              "  </tbody>\n",
              "</table>\n",
              "<p>5 rows × 74 columns</p>\n",
              "</div>\n",
              "      <button class=\"colab-df-convert\" onclick=\"convertToInteractive('df-f1196f6c-cb01-4770-8b3a-444d33253030')\"\n",
              "              title=\"Convert this dataframe to an interactive table.\"\n",
              "              style=\"display:none;\">\n",
              "        \n",
              "  <svg xmlns=\"http://www.w3.org/2000/svg\" height=\"24px\"viewBox=\"0 0 24 24\"\n",
              "       width=\"24px\">\n",
              "    <path d=\"M0 0h24v24H0V0z\" fill=\"none\"/>\n",
              "    <path d=\"M18.56 5.44l.94 2.06.94-2.06 2.06-.94-2.06-.94-.94-2.06-.94 2.06-2.06.94zm-11 1L8.5 8.5l.94-2.06 2.06-.94-2.06-.94L8.5 2.5l-.94 2.06-2.06.94zm10 10l.94 2.06.94-2.06 2.06-.94-2.06-.94-.94-2.06-.94 2.06-2.06.94z\"/><path d=\"M17.41 7.96l-1.37-1.37c-.4-.4-.92-.59-1.43-.59-.52 0-1.04.2-1.43.59L10.3 9.45l-7.72 7.72c-.78.78-.78 2.05 0 2.83L4 21.41c.39.39.9.59 1.41.59.51 0 1.02-.2 1.41-.59l7.78-7.78 2.81-2.81c.8-.78.8-2.07 0-2.86zM5.41 20L4 18.59l7.72-7.72 1.47 1.35L5.41 20z\"/>\n",
              "  </svg>\n",
              "      </button>\n",
              "      \n",
              "  <style>\n",
              "    .colab-df-container {\n",
              "      display:flex;\n",
              "      flex-wrap:wrap;\n",
              "      gap: 12px;\n",
              "    }\n",
              "\n",
              "    .colab-df-convert {\n",
              "      background-color: #E8F0FE;\n",
              "      border: none;\n",
              "      border-radius: 50%;\n",
              "      cursor: pointer;\n",
              "      display: none;\n",
              "      fill: #1967D2;\n",
              "      height: 32px;\n",
              "      padding: 0 0 0 0;\n",
              "      width: 32px;\n",
              "    }\n",
              "\n",
              "    .colab-df-convert:hover {\n",
              "      background-color: #E2EBFA;\n",
              "      box-shadow: 0px 1px 2px rgba(60, 64, 67, 0.3), 0px 1px 3px 1px rgba(60, 64, 67, 0.15);\n",
              "      fill: #174EA6;\n",
              "    }\n",
              "\n",
              "    [theme=dark] .colab-df-convert {\n",
              "      background-color: #3B4455;\n",
              "      fill: #D2E3FC;\n",
              "    }\n",
              "\n",
              "    [theme=dark] .colab-df-convert:hover {\n",
              "      background-color: #434B5C;\n",
              "      box-shadow: 0px 1px 3px 1px rgba(0, 0, 0, 0.15);\n",
              "      filter: drop-shadow(0px 1px 2px rgba(0, 0, 0, 0.3));\n",
              "      fill: #FFFFFF;\n",
              "    }\n",
              "  </style>\n",
              "\n",
              "      <script>\n",
              "        const buttonEl =\n",
              "          document.querySelector('#df-f1196f6c-cb01-4770-8b3a-444d33253030 button.colab-df-convert');\n",
              "        buttonEl.style.display =\n",
              "          google.colab.kernel.accessAllowed ? 'block' : 'none';\n",
              "\n",
              "        async function convertToInteractive(key) {\n",
              "          const element = document.querySelector('#df-f1196f6c-cb01-4770-8b3a-444d33253030');\n",
              "          const dataTable =\n",
              "            await google.colab.kernel.invokeFunction('convertToInteractive',\n",
              "                                                     [key], {});\n",
              "          if (!dataTable) return;\n",
              "\n",
              "          const docLinkHtml = 'Like what you see? Visit the ' +\n",
              "            '<a target=\"_blank\" href=https://colab.research.google.com/notebooks/data_table.ipynb>data table notebook</a>'\n",
              "            + ' to learn more about interactive tables.';\n",
              "          element.innerHTML = '';\n",
              "          dataTable['output_type'] = 'display_data';\n",
              "          await google.colab.output.renderOutput(dataTable, element);\n",
              "          const docLink = document.createElement('div');\n",
              "          docLink.innerHTML = docLinkHtml;\n",
              "          element.appendChild(docLink);\n",
              "        }\n",
              "      </script>\n",
              "    </div>\n",
              "  </div>\n",
              "  "
            ]
          },
          "metadata": {},
          "execution_count": 60
        }
      ]
    },
    {
      "cell_type": "code",
      "source": [
        "#Visualizamos la gráfica comparativa entre el total real y el total predecido\n",
        "\n",
        "sns.scatterplot(x='host_acceptance_rate', y='host_response_rate', color=\"pink\", data=enthome_apt)\n",
        "sns.scatterplot(x='host_acceptance_rate', y='Predicciones', color=\"blue\", data=enthome_apt)"
      ],
      "metadata": {
        "colab": {
          "base_uri": "https://localhost:8080/",
          "height": 468
        },
        "id": "WVbqlwhic5wL",
        "outputId": "05f20db4-0e01-4f2d-9512-7f9cbb0fb203"
      },
      "execution_count": 61,
      "outputs": [
        {
          "output_type": "execute_result",
          "data": {
            "text/plain": [
              "<Axes: xlabel='host_acceptance_rate', ylabel='host_response_rate'>"
            ]
          },
          "metadata": {},
          "execution_count": 61
        },
        {
          "output_type": "display_data",
          "data": {
            "text/plain": [
              "<Figure size 640x480 with 1 Axes>"
            ],
            "image/png": "[encoded data removed]"
          },
          "metadata": {}
        }
      ]
    },
    {
      "cell_type": "code",
      "source": [
        "sns.scatterplot(x='host_response_rate', y='host_acceptance_rate', color=\"pink\", data=enthome_apt)\n",
        "sns.scatterplot(x='price', y='host_acceptance_rate', color=\"red\", data=enthome_apt)\n",
        "sns.scatterplot(x='number_of_reviews', y='host_acceptance_rate', color=\"blue\", data=enthome_apt)\n",
        "sns.scatterplot(x='review_scores_rating', y='host_acceptance_rate', color=\"magenta\", data=enthome_apt)\n",
        "sns.scatterplot(x='host_acceptance_rate', y='Predicciones', color=\"green\", data=enthome_apt)"
      ],
      "metadata": {
        "colab": {
          "base_uri": "https://localhost:8080/",
          "height": 468
        },
        "id": "Hk7vXbvpGqBJ",
        "outputId": "89a68a87-0e65-4c27-a8a6-879502e6652c"
      },
      "execution_count": 62,
      "outputs": [
        {
          "output_type": "execute_result",
          "data": {
            "text/plain": [
              "<Axes: xlabel='host_response_rate', ylabel='host_acceptance_rate'>"
            ]
          },
          "metadata": {},
          "execution_count": 62
        },
        {
          "output_type": "display_data",
          "data": {
            "text/plain": [
              "<Figure size 640x480 with 1 Axes>"
            ],
            "image/png": "[encoded data removed]"
          },
          "metadata": {}
        }
      ]
    },
    {
      "cell_type": "code",
      "source": [
        "#Corroboramos cual es el coeficiente de Determinación de nuestro modelo\n",
        "coef_Deter=model.score(X=Vars_Indep, y=Var_Dep)\n",
        "#Corroboramos cual es el coeficiente de Correlación de nuestro modelo\n",
        "coef_Correl=np.sqrt(coef_Deter)\n",
        "print(\"Coeficiente de determinacion: \",coef_Deter)\n",
        "print(\"Coeficiente de correlación: \", coef_Correl)"
      ],
      "metadata": {
        "colab": {
          "base_uri": "https://localhost:8080/"
        },
        "id": "0g6mV3Uic8ur",
        "outputId": "cde5b85d-50d8-4e85-e931-7da3cc7371ab"
      },
      "execution_count": 63,
      "outputs": [
        {
          "output_type": "stream",
          "name": "stdout",
          "text": [
            "Coeficiente de determinacion:  0.0047329115770817776\n",
            "Coeficiente de correlación:  0.06879615960997952\n"
          ]
        }
      ]
    },
    {
      "cell_type": "markdown",
      "source": [
        "## **2.“Price” vs availability_365, host_response_rate, number_of_reviews, accommodates“**"
      ],
      "metadata": {
        "id": "JAftackQdSAT"
      }
    },
    {
      "cell_type": "code",
      "source": [
        "#Imprimimos el scatter plot entre la variable dependiente e independiente\n",
        "#para observar el comportamiento en su dispersión \n",
        "from turtle import color\n",
        "\n",
        "sns.scatterplot(x='availability_365', y='price', color=\"pink\", data=enthome_apt)\n",
        "sns.scatterplot(x='host_response_rate', y='price', color=\"red\", data=enthome_apt)\n",
        "sns.scatterplot(x='number_of_reviews', y='price', color=\"blue\", data=enthome_apt)\n",
        "sns.scatterplot(x='accommodates', y='price', color=\"green\", data=enthome_apt)"
      ],
      "metadata": {
        "colab": {
          "base_uri": "https://localhost:8080/",
          "height": 468
        },
        "id": "PTail-0odXik",
        "outputId": "a79e2c52-0a1c-4cf3-c557-8481bd2466ae"
      },
      "execution_count": 64,
      "outputs": [
        {
          "output_type": "execute_result",
          "data": {
            "text/plain": [
              "<Axes: xlabel='availability_365', ylabel='price'>"
            ]
          },
          "metadata": {},
          "execution_count": 64
        },
        {
          "output_type": "display_data",
          "data": {
            "text/plain": [
              "<Figure size 640x480 with 1 Axes>"
            ],
            "image/png": "[encoded data removed]"
          },
          "metadata": {}
        }
      ]
    },
    {
      "cell_type": "code",
      "source": [
        "#Declaramos las variables dependientes e independientes para la regresión lineal\n",
        "\n",
        "Vars_Indep= enthome_apt[['availability_365', 'host_response_rate','number_of_reviews',\"accommodates\"]]\n",
        "Var_Dep= enthome_apt['price']"
      ],
      "metadata": {
        "id": "9G8LucdAdY8R"
      },
      "execution_count": 65,
      "outputs": []
    },
    {
      "cell_type": "code",
      "source": [
        "#Se define model como la función de regresión lineal\n",
        "from sklearn.linear_model import LinearRegression\n",
        "model= LinearRegression()"
      ],
      "metadata": {
        "id": "Su_7ZM9Adaj4"
      },
      "execution_count": 66,
      "outputs": []
    },
    {
      "cell_type": "code",
      "source": [
        "#Verificamos la función relacionada al modelo\n",
        "type(model)"
      ],
      "metadata": {
        "colab": {
          "base_uri": "https://localhost:8080/"
        },
        "id": "bIJG4_modbyZ",
        "outputId": "a5225f36-f1fd-4c73-9fdc-288aa3e9798c"
      },
      "execution_count": 67,
      "outputs": [
        {
          "output_type": "execute_result",
          "data": {
            "text/plain": [
              "sklearn.linear_model._base.LinearRegression"
            ]
          },
          "metadata": {},
          "execution_count": 67
        }
      ]
    },
    {
      "cell_type": "code",
      "source": [
        "#Ajustamos el modelo con las variables antes declaradas\n",
        "model.fit(X=Vars_Indep, y=Var_Dep)"
      ],
      "metadata": {
        "colab": {
          "base_uri": "https://localhost:8080/",
          "height": 75
        },
        "id": "d8wwh42PddD5",
        "outputId": "3874b666-8c05-4f75-f971-ca561e0e18a9"
      },
      "execution_count": 68,
      "outputs": [
        {
          "output_type": "execute_result",
          "data": {
            "text/plain": [
              "LinearRegression()"
            ],
            "text/html": [
              "<style>#sk-container-id-5 {color: black;background-color: white;}#sk-container-id-5 pre{padding: 0;}#sk-container-id-5 div.sk-toggleable {background-color: white;}#sk-container-id-5 label.sk-toggleable__label {cursor: pointer;display: block;width: 100%;margin-bottom: 0;padding: 0.3em;box-sizing: border-box;text-align: center;}#sk-container-id-5 label.sk-toggleable__label-arrow:before {content: \"▸\";float: left;margin-right: 0.25em;color: #696969;}#sk-container-id-5 label.sk-toggleable__label-arrow:hover:before {color: black;}#sk-container-id-5 div.sk-estimator:hover label.sk-toggleable__label-arrow:before {color: black;}#sk-container-id-5 div.sk-toggleable__content {max-height: 0;max-width: 0;overflow: hidden;text-align: left;background-color: #f0f8ff;}#sk-container-id-5 div.sk-toggleable__content pre {margin: 0.2em;color: black;border-radius: 0.25em;background-color: #f0f8ff;}#sk-container-id-5 input.sk-toggleable__control:checked~div.sk-toggleable__content {max-height: 200px;max-width: 100%;overflow: auto;}#sk-container-id-5 input.sk-toggleable__control:checked~label.sk-toggleable__label-arrow:before {content: \"▾\";}#sk-container-id-5 div.sk-estimator input.sk-toggleable__control:checked~label.sk-toggleable__label {background-color: #d4ebff;}#sk-container-id-5 div.sk-label input.sk-toggleable__control:checked~label.sk-toggleable__label {background-color: #d4ebff;}#sk-container-id-5 input.sk-hidden--visually {border: 0;clip: rect(1px 1px 1px 1px);clip: rect(1px, 1px, 1px, 1px);height: 1px;margin: -1px;overflow: hidden;padding: 0;position: absolute;width: 1px;}#sk-container-id-5 div.sk-estimator {font-family: monospace;background-color: #f0f8ff;border: 1px dotted black;border-radius: 0.25em;box-sizing: border-box;margin-bottom: 0.5em;}#sk-container-id-5 div.sk-estimator:hover {background-color: #d4ebff;}#sk-container-id-5 div.sk-parallel-item::after {content: \"\";width: 100%;border-bottom: 1px solid gray;flex-grow: 1;}#sk-container-id-5 div.sk-label:hover label.sk-toggleable__label {background-color: #d4ebff;}#sk-container-id-5 div.sk-serial::before {content: \"\";position: absolute;border-left: 1px solid gray;box-sizing: border-box;top: 0;bottom: 0;left: 50%;z-index: 0;}#sk-container-id-5 div.sk-serial {display: flex;flex-direction: column;align-items: center;background-color: white;padding-right: 0.2em;padding-left: 0.2em;position: relative;}#sk-container-id-5 div.sk-item {position: relative;z-index: 1;}#sk-container-id-5 div.sk-parallel {display: flex;align-items: stretch;justify-content: center;background-color: white;position: relative;}#sk-container-id-5 div.sk-item::before, #sk-container-id-5 div.sk-parallel-item::before {content: \"\";position: absolute;border-left: 1px solid gray;box-sizing: border-box;top: 0;bottom: 0;left: 50%;z-index: -1;}#sk-container-id-5 div.sk-parallel-item {display: flex;flex-direction: column;z-index: 1;position: relative;background-color: white;}#sk-container-id-5 div.sk-parallel-item:first-child::after {align-self: flex-end;width: 50%;}#sk-container-id-5 div.sk-parallel-item:last-child::after {align-self: flex-start;width: 50%;}#sk-container-id-5 div.sk-parallel-item:only-child::after {width: 0;}#sk-container-id-5 div.sk-dashed-wrapped {border: 1px dashed gray;margin: 0 0.4em 0.5em 0.4em;box-sizing: border-box;padding-bottom: 0.4em;background-color: white;}#sk-container-id-5 div.sk-label label {font-family: monospace;font-weight: bold;display: inline-block;line-height: 1.2em;}#sk-container-id-5 div.sk-label-container {text-align: center;}#sk-container-id-5 div.sk-container {/* jupyter's `normalize.less` sets `[hidden] { display: none; }` but bootstrap.min.css set `[hidden] { display: none !important; }` so we also need the `!important` here to be able to override the default hidden behavior on the sphinx rendered scikit-learn.org. See: https://github.com/scikit-learn/scikit-learn/issues/21755 */display: inline-block !important;position: relative;}#sk-container-id-5 div.sk-text-repr-fallback {display: none;}</style><div id=\"sk-container-id-5\" class=\"sk-top-container\"><div class=\"sk-text-repr-fallback\"><pre>LinearRegression()</pre><b>In a Jupyter environment, please rerun this cell to show the HTML representation or trust the notebook. <br />On GitHub, the HTML representation is unable to render, please try loading this page with nbviewer.org.</b></div><div class=\"sk-container\" hidden><div class=\"sk-item\"><div class=\"sk-estimator sk-toggleable\"><input class=\"sk-toggleable__control sk-hidden--visually\" id=\"sk-estimator-id-5\" type=\"checkbox\" checked><label for=\"sk-estimator-id-5\" class=\"sk-toggleable__label sk-toggleable__label-arrow\">LinearRegression</label><div class=\"sk-toggleable__content\"><pre>LinearRegression()</pre></div></div></div></div></div>"
            ]
          },
          "metadata": {},
          "execution_count": 68
        }
      ]
    },
    {
      "cell_type": "code",
      "source": [
        "#Verificamos los coeficientes obtenidos para el modelo ajustado\n",
        "model.__dict__"
      ],
      "metadata": {
        "colab": {
          "base_uri": "https://localhost:8080/"
        },
        "id": "ew-3b9hZdetD",
        "outputId": "5bf59b6a-d8a8-47cb-9c6a-820923db337b"
      },
      "execution_count": 69,
      "outputs": [
        {
          "output_type": "execute_result",
          "data": {
            "text/plain": [
              "{'fit_intercept': True,\n",
              " 'copy_X': True,\n",
              " 'n_jobs': None,\n",
              " 'positive': False,\n",
              " 'feature_names_in_': array(['availability_365', 'host_response_rate', 'number_of_reviews',\n",
              "        'accommodates'], dtype=object),\n",
              " 'n_features_in_': 4,\n",
              " 'coef_': array([-1.79667652e-01, -6.63313247e+02, -3.75803036e+00,  3.71130948e+01]),\n",
              " 'rank_': 4,\n",
              " 'singular_': array([1.51355091e+04, 1.02341441e+03, 2.16724884e+02, 4.28357825e+00]),\n",
              " 'intercept_': 740.6937043847571}"
            ]
          },
          "metadata": {},
          "execution_count": 69
        }
      ]
    },
    {
      "cell_type": "markdown",
      "source": [
        "**Modelo matemático: y= -1.79667652e-01x1 + -6.63313247e+02x2 + -3.75803036e+00x3 + 3.71130948e+01x4 + 740.6937043847571**"
      ],
      "metadata": {
        "id": "rnHGlhA3dlM9"
      }
    },
    {
      "cell_type": "code",
      "source": [
        "#Evaluamos la eficiencia del modelo obtenido por medio del coeficiente R Determinación\n",
        "model.score(Vars_Indep,Var_Dep)"
      ],
      "metadata": {
        "colab": {
          "base_uri": "https://localhost:8080/"
        },
        "id": "-5qkW0CSdgDx",
        "outputId": "7a3845e1-66c0-4b04-bca3-44adebca6f1d"
      },
      "execution_count": 70,
      "outputs": [
        {
          "output_type": "execute_result",
          "data": {
            "text/plain": [
              "0.01997462095358782"
            ]
          },
          "metadata": {},
          "execution_count": 70
        }
      ]
    },
    {
      "cell_type": "code",
      "source": [
        "#Predecimos los valores de total \n",
        "y_pred= model.predict(X=enthome_apt[['availability_365', 'host_response_rate','number_of_reviews',\"accommodates\"]])\n",
        "y_pred"
      ],
      "metadata": {
        "colab": {
          "base_uri": "https://localhost:8080/"
        },
        "id": "5z5iCKpldhrd",
        "outputId": "1413aa87-116e-492c-c004-9e731730dbb5"
      },
      "execution_count": 71,
      "outputs": [
        {
          "output_type": "execute_result",
          "data": {
            "text/plain": [
              "array([146.6893441 , 221.89219945,  66.90234896, ..., 192.09512968,\n",
              "       223.21549492, 261.00939886])"
            ]
          },
          "metadata": {},
          "execution_count": 71
        }
      ]
    },
    {
      "cell_type": "code",
      "source": [
        "#Insertamos la columna de predicciones en el DataFrame\n",
        "enthome_apt.insert(0, 'Predicciones2', y_pred)\n",
        "enthome_apt.head()"
      ],
      "metadata": {
        "colab": {
          "base_uri": "https://localhost:8080/",
          "height": 612
        },
        "id": "o-u6Qz7mdjKG",
        "outputId": "244c41f9-7f99-485d-c6f0-29c1dc384253"
      },
      "execution_count": 72,
      "outputs": [
        {
          "output_type": "execute_result",
          "data": {
            "text/plain": [
              "   Predicciones2  Predicciones Unnamed: 0  \\\n",
              "2     146.689344      0.961728          2   \n",
              "4     221.892199      0.954662          4   \n",
              "5      66.902349      0.954837          5   \n",
              "6     109.094050      0.959229          6   \n",
              "7     326.928126      0.955438          7   \n",
              "\n",
              "                            listing_url last_scraped           source  \\\n",
              "2  https://www.airbnb.com/rooms/1212820   01/04/2023      city scrape   \n",
              "4    https://www.airbnb.com/rooms/41342   01/04/2023  previous scrape   \n",
              "5   https://www.airbnb.com/rooms/751997   01/04/2023      city scrape   \n",
              "6   https://www.airbnb.com/rooms/752035   31/03/2023      city scrape   \n",
              "7  https://www.airbnb.com/rooms/1215790   01/04/2023      city scrape   \n",
              "\n",
              "                                  name  \\\n",
              "2  Apartment port de rei stunning wiew   \n",
              "4    Beachfront Tamariua (Costa Brava)   \n",
              "5  CAN FELIP - Ãtico loft del s.XVIII   \n",
              "6    CAN TARONGETA - Soleado Apto. 1-1   \n",
              "7    100m FROM THE BEACH, with TERRACE   \n",
              "\n",
              "                                         description  \\\n",
              "2  <b>The space</b><br />Apartments first line un...   \n",
              "4  A little paradise by the sea. Apartment 2/4 ad...   \n",
              "5  MagnÃ­fica casa de pueblo del siglo XVIII, ubi...   \n",
              "6  MagnÃ­fico Apartamento de 62mÂ² con 2 dormitor...   \n",
              "7  Big apartment with terrace (7 people), next to...   \n",
              "\n",
              "                               neighborhood_overview  \\\n",
              "2                                    sin informacion   \n",
              "4  Apartment located outside the town on a small ...   \n",
              "5  Palafrugell se remonta al siglo X. El nÃºcleo ...   \n",
              "6  Palafrugell se remonta al siglo X. El nÃºcleo ...   \n",
              "7                                    sin informacion   \n",
              "\n",
              "                                         picture_url  ...  \\\n",
              "2  https://a0.muscache.com/pictures/18245529/0886...  ...   \n",
              "4  https://a0.muscache.com/pictures/70414801/59d4...  ...   \n",
              "5  https://a0.muscache.com/pictures/f50b37b3-1c4d...  ...   \n",
              "6  https://a0.muscache.com/pictures/303024e1-2deb...  ...   \n",
              "7  https://a0.muscache.com/pictures/ea54a005-62f2...  ...   \n",
              "\n",
              "  review_scores_cleanliness review_scores_checkin review_scores_communication  \\\n",
              "2                      4.31                  4.81                        4.76   \n",
              "4                      4.82                  4.73                        4.73   \n",
              "5                      4.69                  4.69                        4.45   \n",
              "6                      4.79                  4.43                        4.50   \n",
              "7                      4.78                  4.89                        5.00   \n",
              "\n",
              "  review_scores_location review_scores_value calculated_host_listings_count  \\\n",
              "2                   4.74                4.32                            2.0   \n",
              "4                   4.91                4.36                            1.0   \n",
              "5                   4.79                4.59                           12.0   \n",
              "6                   4.50                4.36                           12.0   \n",
              "7                   4.56                4.11                            1.0   \n",
              "\n",
              "  calculated_host_listings_count_entire_homes  \\\n",
              "2                                         2.0   \n",
              "4                                         1.0   \n",
              "5                                        12.0   \n",
              "6                                        12.0   \n",
              "7                                         1.0   \n",
              "\n",
              "  calculated_host_listings_count_private_rooms  \\\n",
              "2                                          0.0   \n",
              "4                                          0.0   \n",
              "5                                          0.0   \n",
              "6                                          0.0   \n",
              "7                                          0.0   \n",
              "\n",
              "  calculated_host_listings_count_shared_rooms reviews_per_month  \n",
              "2                                         0.0              0.62  \n",
              "4                                         0.0              0.09  \n",
              "5                                         0.0              0.34  \n",
              "6                                         0.0              0.13  \n",
              "7                                         0.0              0.08  \n",
              "\n",
              "[5 rows x 75 columns]"
            ],
            "text/html": [
              "\n",
              "  <div id=\"df-a0a40177-67a2-4881-8646-b841feeae1fa\">\n",
              "    <div class=\"colab-df-container\">\n",
              "      <div>\n",
              "<style scoped>\n",
              "    .dataframe tbody tr th:only-of-type {\n",
              "        vertical-align: middle;\n",
              "    }\n",
              "\n",
              "    .dataframe tbody tr th {\n",
              "        vertical-align: top;\n",
              "    }\n",
              "\n",
              "    .dataframe thead th {\n",
              "        text-align: right;\n",
              "    }\n",
              "</style>\n",
              "<table border=\"1\" class=\"dataframe\">\n",
              "  <thead>\n",
              "    <tr style=\"text-align: right;\">\n",
              "      <th></th>\n",
              "      <th>Predicciones2</th>\n",
              "      <th>Predicciones</th>\n",
              "      <th>Unnamed: 0</th>\n",
              "      <th>listing_url</th>\n",
              "      <th>last_scraped</th>\n",
              "      <th>source</th>\n",
              "      <th>name</th>\n",
              "      <th>description</th>\n",
              "      <th>neighborhood_overview</th>\n",
              "      <th>picture_url</th>\n",
              "      <th>...</th>\n",
              "      <th>review_scores_cleanliness</th>\n",
              "      <th>review_scores_checkin</th>\n",
              "      <th>review_scores_communication</th>\n",
              "      <th>review_scores_location</th>\n",
              "      <th>review_scores_value</th>\n",
              "      <th>calculated_host_listings_count</th>\n",
              "      <th>calculated_host_listings_count_entire_homes</th>\n",
              "      <th>calculated_host_listings_count_private_rooms</th>\n",
              "      <th>calculated_host_listings_count_shared_rooms</th>\n",
              "      <th>reviews_per_month</th>\n",
              "    </tr>\n",
              "  </thead>\n",
              "  <tbody>\n",
              "    <tr>\n",
              "      <th>2</th>\n",
              "      <td>146.689344</td>\n",
              "      <td>0.961728</td>\n",
              "      <td>2</td>\n",
              "      <td>https://www.airbnb.com/rooms/1212820</td>\n",
              "      <td>01/04/2023</td>\n",
              "      <td>city scrape</td>\n",
              "      <td>Apartment port de rei stunning wiew</td>\n",
              "      <td>&lt;b&gt;The space&lt;/b&gt;&lt;br /&gt;Apartments first line un...</td>\n",
              "      <td>sin informacion</td>\n",
              "      <td>https://a0.muscache.com/pictures/18245529/0886...</td>\n",
              "      <td>...</td>\n",
              "      <td>4.31</td>\n",
              "      <td>4.81</td>\n",
              "      <td>4.76</td>\n",
              "      <td>4.74</td>\n",
              "      <td>4.32</td>\n",
              "      <td>2.0</td>\n",
              "      <td>2.0</td>\n",
              "      <td>0.0</td>\n",
              "      <td>0.0</td>\n",
              "      <td>0.62</td>\n",
              "    </tr>\n",
              "    <tr>\n",
              "      <th>4</th>\n",
              "      <td>221.892199</td>\n",
              "      <td>0.954662</td>\n",
              "      <td>4</td>\n",
              "      <td>https://www.airbnb.com/rooms/41342</td>\n",
              "      <td>01/04/2023</td>\n",
              "      <td>previous scrape</td>\n",
              "      <td>Beachfront Tamariua (Costa Brava)</td>\n",
              "      <td>A little paradise by the sea. Apartment 2/4 ad...</td>\n",
              "      <td>Apartment located outside the town on a small ...</td>\n",
              "      <td>https://a0.muscache.com/pictures/70414801/59d4...</td>\n",
              "      <td>...</td>\n",
              "      <td>4.82</td>\n",
              "      <td>4.73</td>\n",
              "      <td>4.73</td>\n",
              "      <td>4.91</td>\n",
              "      <td>4.36</td>\n",
              "      <td>1.0</td>\n",
              "      <td>1.0</td>\n",
              "      <td>0.0</td>\n",
              "      <td>0.0</td>\n",
              "      <td>0.09</td>\n",
              "    </tr>\n",
              "    <tr>\n",
              "      <th>5</th>\n",
              "      <td>66.902349</td>\n",
              "      <td>0.954837</td>\n",
              "      <td>5</td>\n",
              "      <td>https://www.airbnb.com/rooms/751997</td>\n",
              "      <td>01/04/2023</td>\n",
              "      <td>city scrape</td>\n",
              "      <td>CAN FELIP - Ãtico loft del s.XVIII</td>\n",
              "      <td>MagnÃ­fica casa de pueblo del siglo XVIII, ubi...</td>\n",
              "      <td>Palafrugell se remonta al siglo X. El nÃºcleo ...</td>\n",
              "      <td>https://a0.muscache.com/pictures/f50b37b3-1c4d...</td>\n",
              "      <td>...</td>\n",
              "      <td>4.69</td>\n",
              "      <td>4.69</td>\n",
              "      <td>4.45</td>\n",
              "      <td>4.79</td>\n",
              "      <td>4.59</td>\n",
              "      <td>12.0</td>\n",
              "      <td>12.0</td>\n",
              "      <td>0.0</td>\n",
              "      <td>0.0</td>\n",
              "      <td>0.34</td>\n",
              "    </tr>\n",
              "    <tr>\n",
              "      <th>6</th>\n",
              "      <td>109.094050</td>\n",
              "      <td>0.959229</td>\n",
              "      <td>6</td>\n",
              "      <td>https://www.airbnb.com/rooms/752035</td>\n",
              "      <td>31/03/2023</td>\n",
              "      <td>city scrape</td>\n",
              "      <td>CAN TARONGETA - Soleado Apto. 1-1</td>\n",
              "      <td>MagnÃ­fico Apartamento de 62mÂ² con 2 dormitor...</td>\n",
              "      <td>Palafrugell se remonta al siglo X. El nÃºcleo ...</td>\n",
              "      <td>https://a0.muscache.com/pictures/303024e1-2deb...</td>\n",
              "      <td>...</td>\n",
              "      <td>4.79</td>\n",
              "      <td>4.43</td>\n",
              "      <td>4.50</td>\n",
              "      <td>4.50</td>\n",
              "      <td>4.36</td>\n",
              "      <td>12.0</td>\n",
              "      <td>12.0</td>\n",
              "      <td>0.0</td>\n",
              "      <td>0.0</td>\n",
              "      <td>0.13</td>\n",
              "    </tr>\n",
              "    <tr>\n",
              "      <th>7</th>\n",
              "      <td>326.928126</td>\n",
              "      <td>0.955438</td>\n",
              "      <td>7</td>\n",
              "      <td>https://www.airbnb.com/rooms/1215790</td>\n",
              "      <td>01/04/2023</td>\n",
              "      <td>city scrape</td>\n",
              "      <td>100m FROM THE BEACH, with TERRACE</td>\n",
              "      <td>Big apartment with terrace (7 people), next to...</td>\n",
              "      <td>sin informacion</td>\n",
              "      <td>https://a0.muscache.com/pictures/ea54a005-62f2...</td>\n",
              "      <td>...</td>\n",
              "      <td>4.78</td>\n",
              "      <td>4.89</td>\n",
              "      <td>5.00</td>\n",
              "      <td>4.56</td>\n",
              "      <td>4.11</td>\n",
              "      <td>1.0</td>\n",
              "      <td>1.0</td>\n",
              "      <td>0.0</td>\n",
              "      <td>0.0</td>\n",
              "      <td>0.08</td>\n",
              "    </tr>\n",
              "  </tbody>\n",
              "</table>\n",
              "<p>5 rows × 75 columns</p>\n",
              "</div>\n",
              "      <button class=\"colab-df-convert\" onclick=\"convertToInteractive('df-a0a40177-67a2-4881-8646-b841feeae1fa')\"\n",
              "              title=\"Convert this dataframe to an interactive table.\"\n",
              "              style=\"display:none;\">\n",
              "        \n",
              "  <svg xmlns=\"http://www.w3.org/2000/svg\" height=\"24px\"viewBox=\"0 0 24 24\"\n",
              "       width=\"24px\">\n",
              "    <path d=\"M0 0h24v24H0V0z\" fill=\"none\"/>\n",
              "    <path d=\"M18.56 5.44l.94 2.06.94-2.06 2.06-.94-2.06-.94-.94-2.06-.94 2.06-2.06.94zm-11 1L8.5 8.5l.94-2.06 2.06-.94-2.06-.94L8.5 2.5l-.94 2.06-2.06.94zm10 10l.94 2.06.94-2.06 2.06-.94-2.06-.94-.94-2.06-.94 2.06-2.06.94z\"/><path d=\"M17.41 7.96l-1.37-1.37c-.4-.4-.92-.59-1.43-.59-.52 0-1.04.2-1.43.59L10.3 9.45l-7.72 7.72c-.78.78-.78 2.05 0 2.83L4 21.41c.39.39.9.59 1.41.59.51 0 1.02-.2 1.41-.59l7.78-7.78 2.81-2.81c.8-.78.8-2.07 0-2.86zM5.41 20L4 18.59l7.72-7.72 1.47 1.35L5.41 20z\"/>\n",
              "  </svg>\n",
              "      </button>\n",
              "      \n",
              "  <style>\n",
              "    .colab-df-container {\n",
              "      display:flex;\n",
              "      flex-wrap:wrap;\n",
              "      gap: 12px;\n",
              "    }\n",
              "\n",
              "    .colab-df-convert {\n",
              "      background-color: #E8F0FE;\n",
              "      border: none;\n",
              "      border-radius: 50%;\n",
              "      cursor: pointer;\n",
              "      display: none;\n",
              "      fill: #1967D2;\n",
              "      height: 32px;\n",
              "      padding: 0 0 0 0;\n",
              "      width: 32px;\n",
              "    }\n",
              "\n",
              "    .colab-df-convert:hover {\n",
              "      background-color: #E2EBFA;\n",
              "      box-shadow: 0px 1px 2px rgba(60, 64, 67, 0.3), 0px 1px 3px 1px rgba(60, 64, 67, 0.15);\n",
              "      fill: #174EA6;\n",
              "    }\n",
              "\n",
              "    [theme=dark] .colab-df-convert {\n",
              "      background-color: #3B4455;\n",
              "      fill: #D2E3FC;\n",
              "    }\n",
              "\n",
              "    [theme=dark] .colab-df-convert:hover {\n",
              "      background-color: #434B5C;\n",
              "      box-shadow: 0px 1px 3px 1px rgba(0, 0, 0, 0.15);\n",
              "      filter: drop-shadow(0px 1px 2px rgba(0, 0, 0, 0.3));\n",
              "      fill: #FFFFFF;\n",
              "    }\n",
              "  </style>\n",
              "\n",
              "      <script>\n",
              "        const buttonEl =\n",
              "          document.querySelector('#df-a0a40177-67a2-4881-8646-b841feeae1fa button.colab-df-convert');\n",
              "        buttonEl.style.display =\n",
              "          google.colab.kernel.accessAllowed ? 'block' : 'none';\n",
              "\n",
              "        async function convertToInteractive(key) {\n",
              "          const element = document.querySelector('#df-a0a40177-67a2-4881-8646-b841feeae1fa');\n",
              "          const dataTable =\n",
              "            await google.colab.kernel.invokeFunction('convertToInteractive',\n",
              "                                                     [key], {});\n",
              "          if (!dataTable) return;\n",
              "\n",
              "          const docLinkHtml = 'Like what you see? Visit the ' +\n",
              "            '<a target=\"_blank\" href=https://colab.research.google.com/notebooks/data_table.ipynb>data table notebook</a>'\n",
              "            + ' to learn more about interactive tables.';\n",
              "          element.innerHTML = '';\n",
              "          dataTable['output_type'] = 'display_data';\n",
              "          await google.colab.output.renderOutput(dataTable, element);\n",
              "          const docLink = document.createElement('div');\n",
              "          docLink.innerHTML = docLinkHtml;\n",
              "          element.appendChild(docLink);\n",
              "        }\n",
              "      </script>\n",
              "    </div>\n",
              "  </div>\n",
              "  "
            ]
          },
          "metadata": {},
          "execution_count": 72
        }
      ]
    },
    {
      "cell_type": "code",
      "source": [
        "#Visualizamos la gráfica comparativa entre el total real y el total predecido\n",
        "\n",
        "sns.scatterplot(x='availability_365', y='price', color=\"pink\", data=enthome_apt)\n",
        "sns.scatterplot(x='availability_365', y='Predicciones', color=\"blue\", data=enthome_apt)"
      ],
      "metadata": {
        "colab": {
          "base_uri": "https://localhost:8080/",
          "height": 468
        },
        "id": "CTwSM4EjdnaY",
        "outputId": "1b7d20ee-1701-48db-bdc9-9195c92c64e6"
      },
      "execution_count": 73,
      "outputs": [
        {
          "output_type": "execute_result",
          "data": {
            "text/plain": [
              "<Axes: xlabel='availability_365', ylabel='price'>"
            ]
          },
          "metadata": {},
          "execution_count": 73
        },
        {
          "output_type": "display_data",
          "data": {
            "text/plain": [
              "<Figure size 640x480 with 1 Axes>"
            ],
            "image/png": "[encoded data removed]"
          },
          "metadata": {}
        }
      ]
    },
    {
      "cell_type": "code",
      "source": [
        "sns.scatterplot(x='availability_365', y='price', color=\"pink\", data=enthome_apt)\n",
        "sns.scatterplot(x='host_response_rate', y='price', color=\"red\", data=enthome_apt)\n",
        "sns.scatterplot(x='number_of_reviews', y='price', color=\"blue\", data=enthome_apt)\n",
        "sns.scatterplot(x='accommodates', y='price', color=\"magenta\", data=enthome_apt)\n",
        "sns.scatterplot(x='price', y='Predicciones', color=\"green\", data=enthome_apt)"
      ],
      "metadata": {
        "colab": {
          "base_uri": "https://localhost:8080/",
          "height": 468
        },
        "id": "3cJk_7ZxH7WQ",
        "outputId": "bf656a5c-9a5a-4cee-e219-47fe1612fcfa"
      },
      "execution_count": 74,
      "outputs": [
        {
          "output_type": "execute_result",
          "data": {
            "text/plain": [
              "<Axes: xlabel='availability_365', ylabel='price'>"
            ]
          },
          "metadata": {},
          "execution_count": 74
        },
        {
          "output_type": "display_data",
          "data": {
            "text/plain": [
              "<Figure size 640x480 with 1 Axes>"
            ],
            "image/png": "[encoded data removed]"
          },
          "metadata": {}
        }
      ]
    },
    {
      "cell_type": "code",
      "source": [
        "#Corroboramos cual es el coeficiente de Determinación de nuestro modelo\n",
        "coef_Deter=model.score(X=Vars_Indep, y=Var_Dep)\n",
        "#Corroboramos cual es el coeficiente de Correlación de nuestro modelo\n",
        "coef_Correl=np.sqrt(coef_Deter)\n",
        "print(\"Coeficiente de determinacion: \",coef_Deter)\n",
        "print(\"Coeficiente de correlación: \", coef_Correl)"
      ],
      "metadata": {
        "colab": {
          "base_uri": "https://localhost:8080/"
        },
        "id": "dJGDS_MAdpAw",
        "outputId": "1a54fa9c-70c1-4545-ea08-37fe15ed3e85"
      },
      "execution_count": 75,
      "outputs": [
        {
          "output_type": "stream",
          "name": "stdout",
          "text": [
            "Coeficiente de determinacion:  0.01997462095358782\n",
            "Coeficiente de correlación:  0.14133159927485367\n"
          ]
        }
      ]
    },
    {
      "cell_type": "markdown",
      "source": [
        "## **3. “host_acceptance_rate vs number_of_reviews,review_scores_cleanliness,review_scores_communication ”**"
      ],
      "metadata": {
        "id": "52sLu6nBe37L"
      }
    },
    {
      "cell_type": "code",
      "source": [
        "#Imprimimos el scatter plot entre la variable dependiente e independiente\n",
        "#para observar el comportamiento en su dispersión \n",
        "from turtle import color\n",
        "\n",
        "sns.scatterplot(x='number_of_reviews', y='host_acceptance_rate', color=\"pink\", data=enthome_apt)\n",
        "sns.scatterplot(x='review_scores_cleanliness', y='host_acceptance_rate', color=\"blue\", data=enthome_apt)\n",
        "sns.scatterplot(x='review_scores_communication', y='host_acceptance_rate', color=\"green\", data=enthome_apt)"
      ],
      "metadata": {
        "colab": {
          "base_uri": "https://localhost:8080/",
          "height": 468
        },
        "id": "b-e-9XsNe6xV",
        "outputId": "64f8e23b-a88d-46ab-b597-6e4d8a7dd4e9"
      },
      "execution_count": 76,
      "outputs": [
        {
          "output_type": "execute_result",
          "data": {
            "text/plain": [
              "<Axes: xlabel='number_of_reviews', ylabel='host_acceptance_rate'>"
            ]
          },
          "metadata": {},
          "execution_count": 76
        },
        {
          "output_type": "display_data",
          "data": {
            "text/plain": [
              "<Figure size 640x480 with 1 Axes>"
            ],
            "image/png": "[encoded data removed]"
          },
          "metadata": {}
        }
      ]
    },
    {
      "cell_type": "code",
      "source": [
        "#Declaramos las variables dependientes e independientes para la regresión lineal\n",
        "\n",
        "Vars_Indep= enthome_apt[['number_of_reviews', 'review_scores_cleanliness','review_scores_communication']]\n",
        "Var_Dep= enthome_apt['host_acceptance_rate']"
      ],
      "metadata": {
        "id": "AT1eldQRfkwK"
      },
      "execution_count": 77,
      "outputs": []
    },
    {
      "cell_type": "code",
      "source": [
        "#Se define model como la función de regresión lineal\n",
        "from sklearn.linear_model import LinearRegression\n",
        "model= LinearRegression()"
      ],
      "metadata": {
        "id": "Znvp3S_WfmKL"
      },
      "execution_count": 78,
      "outputs": []
    },
    {
      "cell_type": "code",
      "source": [
        "#Verificamos la función relacionada al modelo\n",
        "type(model)"
      ],
      "metadata": {
        "colab": {
          "base_uri": "https://localhost:8080/"
        },
        "id": "TvzIP8cmfoOD",
        "outputId": "57bccfa5-9afa-4eff-8862-a216e994570f"
      },
      "execution_count": 79,
      "outputs": [
        {
          "output_type": "execute_result",
          "data": {
            "text/plain": [
              "sklearn.linear_model._base.LinearRegression"
            ]
          },
          "metadata": {},
          "execution_count": 79
        }
      ]
    },
    {
      "cell_type": "code",
      "source": [
        "#Ajustamos el modelo con las variables antes declaradas\n",
        "model.fit(X=Vars_Indep, y=Var_Dep)"
      ],
      "metadata": {
        "colab": {
          "base_uri": "https://localhost:8080/",
          "height": 75
        },
        "id": "d95l16gmfpko",
        "outputId": "b962cafb-2bc0-4d4c-b82a-3a6f19dc2662"
      },
      "execution_count": 80,
      "outputs": [
        {
          "output_type": "execute_result",
          "data": {
            "text/plain": [
              "LinearRegression()"
            ],
            "text/html": [
              "<style>#sk-container-id-6 {color: black;background-color: white;}#sk-container-id-6 pre{padding: 0;}#sk-container-id-6 div.sk-toggleable {background-color: white;}#sk-container-id-6 label.sk-toggleable__label {cursor: pointer;display: block;width: 100%;margin-bottom: 0;padding: 0.3em;box-sizing: border-box;text-align: center;}#sk-container-id-6 label.sk-toggleable__label-arrow:before {content: \"▸\";float: left;margin-right: 0.25em;color: #696969;}#sk-container-id-6 label.sk-toggleable__label-arrow:hover:before {color: black;}#sk-container-id-6 div.sk-estimator:hover label.sk-toggleable__label-arrow:before {color: black;}#sk-container-id-6 div.sk-toggleable__content {max-height: 0;max-width: 0;overflow: hidden;text-align: left;background-color: #f0f8ff;}#sk-container-id-6 div.sk-toggleable__content pre {margin: 0.2em;color: black;border-radius: 0.25em;background-color: #f0f8ff;}#sk-container-id-6 input.sk-toggleable__control:checked~div.sk-toggleable__content {max-height: 200px;max-width: 100%;overflow: auto;}#sk-container-id-6 input.sk-toggleable__control:checked~label.sk-toggleable__label-arrow:before {content: \"▾\";}#sk-container-id-6 div.sk-estimator input.sk-toggleable__control:checked~label.sk-toggleable__label {background-color: #d4ebff;}#sk-container-id-6 div.sk-label input.sk-toggleable__control:checked~label.sk-toggleable__label {background-color: #d4ebff;}#sk-container-id-6 input.sk-hidden--visually {border: 0;clip: rect(1px 1px 1px 1px);clip: rect(1px, 1px, 1px, 1px);height: 1px;margin: -1px;overflow: hidden;padding: 0;position: absolute;width: 1px;}#sk-container-id-6 div.sk-estimator {font-family: monospace;background-color: #f0f8ff;border: 1px dotted black;border-radius: 0.25em;box-sizing: border-box;margin-bottom: 0.5em;}#sk-container-id-6 div.sk-estimator:hover {background-color: #d4ebff;}#sk-container-id-6 div.sk-parallel-item::after {content: \"\";width: 100%;border-bottom: 1px solid gray;flex-grow: 1;}#sk-container-id-6 div.sk-label:hover label.sk-toggleable__label {background-color: #d4ebff;}#sk-container-id-6 div.sk-serial::before {content: \"\";position: absolute;border-left: 1px solid gray;box-sizing: border-box;top: 0;bottom: 0;left: 50%;z-index: 0;}#sk-container-id-6 div.sk-serial {display: flex;flex-direction: column;align-items: center;background-color: white;padding-right: 0.2em;padding-left: 0.2em;position: relative;}#sk-container-id-6 div.sk-item {position: relative;z-index: 1;}#sk-container-id-6 div.sk-parallel {display: flex;align-items: stretch;justify-content: center;background-color: white;position: relative;}#sk-container-id-6 div.sk-item::before, #sk-container-id-6 div.sk-parallel-item::before {content: \"\";position: absolute;border-left: 1px solid gray;box-sizing: border-box;top: 0;bottom: 0;left: 50%;z-index: -1;}#sk-container-id-6 div.sk-parallel-item {display: flex;flex-direction: column;z-index: 1;position: relative;background-color: white;}#sk-container-id-6 div.sk-parallel-item:first-child::after {align-self: flex-end;width: 50%;}#sk-container-id-6 div.sk-parallel-item:last-child::after {align-self: flex-start;width: 50%;}#sk-container-id-6 div.sk-parallel-item:only-child::after {width: 0;}#sk-container-id-6 div.sk-dashed-wrapped {border: 1px dashed gray;margin: 0 0.4em 0.5em 0.4em;box-sizing: border-box;padding-bottom: 0.4em;background-color: white;}#sk-container-id-6 div.sk-label label {font-family: monospace;font-weight: bold;display: inline-block;line-height: 1.2em;}#sk-container-id-6 div.sk-label-container {text-align: center;}#sk-container-id-6 div.sk-container {/* jupyter's `normalize.less` sets `[hidden] { display: none; }` but bootstrap.min.css set `[hidden] { display: none !important; }` so we also need the `!important` here to be able to override the default hidden behavior on the sphinx rendered scikit-learn.org. See: https://github.com/scikit-learn/scikit-learn/issues/21755 */display: inline-block !important;position: relative;}#sk-container-id-6 div.sk-text-repr-fallback {display: none;}</style><div id=\"sk-container-id-6\" class=\"sk-top-container\"><div class=\"sk-text-repr-fallback\"><pre>LinearRegression()</pre><b>In a Jupyter environment, please rerun this cell to show the HTML representation or trust the notebook. <br />On GitHub, the HTML representation is unable to render, please try loading this page with nbviewer.org.</b></div><div class=\"sk-container\" hidden><div class=\"sk-item\"><div class=\"sk-estimator sk-toggleable\"><input class=\"sk-toggleable__control sk-hidden--visually\" id=\"sk-estimator-id-6\" type=\"checkbox\" checked><label for=\"sk-estimator-id-6\" class=\"sk-toggleable__label sk-toggleable__label-arrow\">LinearRegression</label><div class=\"sk-toggleable__content\"><pre>LinearRegression()</pre></div></div></div></div></div>"
            ]
          },
          "metadata": {},
          "execution_count": 80
        }
      ]
    },
    {
      "cell_type": "code",
      "source": [
        "#Verificamos los coeficientes obtenidos para el modelo ajustado\n",
        "model.__dict__"
      ],
      "metadata": {
        "colab": {
          "base_uri": "https://localhost:8080/"
        },
        "id": "OkKxvWe8frDp",
        "outputId": "b13d25a1-cb47-423e-f3a2-ca187ac005b8"
      },
      "execution_count": 81,
      "outputs": [
        {
          "output_type": "execute_result",
          "data": {
            "text/plain": [
              "{'fit_intercept': True,\n",
              " 'copy_X': True,\n",
              " 'n_jobs': None,\n",
              " 'positive': False,\n",
              " 'feature_names_in_': array(['number_of_reviews', 'review_scores_cleanliness',\n",
              "        'review_scores_communication'], dtype=object),\n",
              " 'n_features_in_': 3,\n",
              " 'coef_': array([-0.0002184 ,  0.00361165, -0.00360446]),\n",
              " 'rank_': 3,\n",
              " 'singular_': array([1024.55518365,   37.04391307,   19.04690225]),\n",
              " 'intercept_': 0.9606962466842796}"
            ]
          },
          "metadata": {},
          "execution_count": 81
        }
      ]
    },
    {
      "cell_type": "markdown",
      "source": [
        "**Modelo matemático: y= -0.0002184x1 + 0.00361165x2 + -0.00360446x3 + 0.9606962466842796**"
      ],
      "metadata": {
        "id": "rbv7gTBVws5Q"
      }
    },
    {
      "cell_type": "code",
      "source": [
        "#Evaluamos la eficiencia del modelo obtenido por medio del coeficiente R Determinación\n",
        "model.score(Vars_Indep,Var_Dep)"
      ],
      "metadata": {
        "colab": {
          "base_uri": "https://localhost:8080/"
        },
        "id": "TNJx8HGtwsmS",
        "outputId": "3cd0c17e-ffed-4e07-987b-1229f1c895dd"
      },
      "execution_count": 82,
      "outputs": [
        {
          "output_type": "execute_result",
          "data": {
            "text/plain": [
              "0.0010634399357239976"
            ]
          },
          "metadata": {},
          "execution_count": 82
        }
      ]
    },
    {
      "cell_type": "code",
      "source": [
        "#Predecimos los valores de total \n",
        "y_pred= model.predict(X=enthome_apt[['number_of_reviews', 'review_scores_cleanliness','review_scores_communication']])\n",
        "y_pred"
      ],
      "metadata": {
        "colab": {
          "base_uri": "https://localhost:8080/"
        },
        "id": "z9oCBKQQfsxn",
        "outputId": "f80159ff-77d3-4132-c6c9-babd26b5505b"
      },
      "execution_count": 83,
      "outputs": [
        {
          "output_type": "execute_result",
          "data": {
            "text/plain": [
              "array([0.95779483, 0.95865292, 0.95526147, ..., 0.96012981, 0.96012981,\n",
              "       0.96012981])"
            ]
          },
          "metadata": {},
          "execution_count": 83
        }
      ]
    },
    {
      "cell_type": "code",
      "source": [
        "#Insertamos la columna de predicciones en el DataFrame\n",
        "enthome_apt.insert(0, 'Predicciones3', y_pred)\n",
        "enthome_apt.head()"
      ],
      "metadata": {
        "colab": {
          "base_uri": "https://localhost:8080/",
          "height": 612
        },
        "id": "S4waecUPIy_L",
        "outputId": "7283267a-8bd7-4e04-fb6a-acbf65408069"
      },
      "execution_count": 84,
      "outputs": [
        {
          "output_type": "execute_result",
          "data": {
            "text/plain": [
              "   Predicciones3  Predicciones2  Predicciones Unnamed: 0  \\\n",
              "2       0.957795     146.689344      0.961728          2   \n",
              "4       0.958653     221.892199      0.954662          4   \n",
              "5       0.955261      66.902349      0.954837          5   \n",
              "6       0.958500     109.094050      0.959229          6   \n",
              "7       0.957754     326.928126      0.955438          7   \n",
              "\n",
              "                            listing_url last_scraped           source  \\\n",
              "2  https://www.airbnb.com/rooms/1212820   01/04/2023      city scrape   \n",
              "4    https://www.airbnb.com/rooms/41342   01/04/2023  previous scrape   \n",
              "5   https://www.airbnb.com/rooms/751997   01/04/2023      city scrape   \n",
              "6   https://www.airbnb.com/rooms/752035   31/03/2023      city scrape   \n",
              "7  https://www.airbnb.com/rooms/1215790   01/04/2023      city scrape   \n",
              "\n",
              "                                  name  \\\n",
              "2  Apartment port de rei stunning wiew   \n",
              "4    Beachfront Tamariua (Costa Brava)   \n",
              "5  CAN FELIP - Ãtico loft del s.XVIII   \n",
              "6    CAN TARONGETA - Soleado Apto. 1-1   \n",
              "7    100m FROM THE BEACH, with TERRACE   \n",
              "\n",
              "                                         description  \\\n",
              "2  <b>The space</b><br />Apartments first line un...   \n",
              "4  A little paradise by the sea. Apartment 2/4 ad...   \n",
              "5  MagnÃ­fica casa de pueblo del siglo XVIII, ubi...   \n",
              "6  MagnÃ­fico Apartamento de 62mÂ² con 2 dormitor...   \n",
              "7  Big apartment with terrace (7 people), next to...   \n",
              "\n",
              "                               neighborhood_overview  ...  \\\n",
              "2                                    sin informacion  ...   \n",
              "4  Apartment located outside the town on a small ...  ...   \n",
              "5  Palafrugell se remonta al siglo X. El nÃºcleo ...  ...   \n",
              "6  Palafrugell se remonta al siglo X. El nÃºcleo ...  ...   \n",
              "7                                    sin informacion  ...   \n",
              "\n",
              "  review_scores_cleanliness review_scores_checkin review_scores_communication  \\\n",
              "2                      4.31                  4.81                        4.76   \n",
              "4                      4.82                  4.73                        4.73   \n",
              "5                      4.69                  4.69                        4.45   \n",
              "6                      4.79                  4.43                        4.50   \n",
              "7                      4.78                  4.89                        5.00   \n",
              "\n",
              "  review_scores_location review_scores_value calculated_host_listings_count  \\\n",
              "2                   4.74                4.32                            2.0   \n",
              "4                   4.91                4.36                            1.0   \n",
              "5                   4.79                4.59                           12.0   \n",
              "6                   4.50                4.36                           12.0   \n",
              "7                   4.56                4.11                            1.0   \n",
              "\n",
              "  calculated_host_listings_count_entire_homes  \\\n",
              "2                                         2.0   \n",
              "4                                         1.0   \n",
              "5                                        12.0   \n",
              "6                                        12.0   \n",
              "7                                         1.0   \n",
              "\n",
              "  calculated_host_listings_count_private_rooms  \\\n",
              "2                                          0.0   \n",
              "4                                          0.0   \n",
              "5                                          0.0   \n",
              "6                                          0.0   \n",
              "7                                          0.0   \n",
              "\n",
              "  calculated_host_listings_count_shared_rooms reviews_per_month  \n",
              "2                                         0.0              0.62  \n",
              "4                                         0.0              0.09  \n",
              "5                                         0.0              0.34  \n",
              "6                                         0.0              0.13  \n",
              "7                                         0.0              0.08  \n",
              "\n",
              "[5 rows x 76 columns]"
            ],
            "text/html": [
              "\n",
              "  <div id=\"df-9bc6fa6b-1306-41ff-93c0-6856e3d2d591\">\n",
              "    <div class=\"colab-df-container\">\n",
              "      <div>\n",
              "<style scoped>\n",
              "    .dataframe tbody tr th:only-of-type {\n",
              "        vertical-align: middle;\n",
              "    }\n",
              "\n",
              "    .dataframe tbody tr th {\n",
              "        vertical-align: top;\n",
              "    }\n",
              "\n",
              "    .dataframe thead th {\n",
              "        text-align: right;\n",
              "    }\n",
              "</style>\n",
              "<table border=\"1\" class=\"dataframe\">\n",
              "  <thead>\n",
              "    <tr style=\"text-align: right;\">\n",
              "      <th></th>\n",
              "      <th>Predicciones3</th>\n",
              "      <th>Predicciones2</th>\n",
              "      <th>Predicciones</th>\n",
              "      <th>Unnamed: 0</th>\n",
              "      <th>listing_url</th>\n",
              "      <th>last_scraped</th>\n",
              "      <th>source</th>\n",
              "      <th>name</th>\n",
              "      <th>description</th>\n",
              "      <th>neighborhood_overview</th>\n",
              "      <th>...</th>\n",
              "      <th>review_scores_cleanliness</th>\n",
              "      <th>review_scores_checkin</th>\n",
              "      <th>review_scores_communication</th>\n",
              "      <th>review_scores_location</th>\n",
              "      <th>review_scores_value</th>\n",
              "      <th>calculated_host_listings_count</th>\n",
              "      <th>calculated_host_listings_count_entire_homes</th>\n",
              "      <th>calculated_host_listings_count_private_rooms</th>\n",
              "      <th>calculated_host_listings_count_shared_rooms</th>\n",
              "      <th>reviews_per_month</th>\n",
              "    </tr>\n",
              "  </thead>\n",
              "  <tbody>\n",
              "    <tr>\n",
              "      <th>2</th>\n",
              "      <td>0.957795</td>\n",
              "      <td>146.689344</td>\n",
              "      <td>0.961728</td>\n",
              "      <td>2</td>\n",
              "      <td>https://www.airbnb.com/rooms/1212820</td>\n",
              "      <td>01/04/2023</td>\n",
              "      <td>city scrape</td>\n",
              "      <td>Apartment port de rei stunning wiew</td>\n",
              "      <td>&lt;b&gt;The space&lt;/b&gt;&lt;br /&gt;Apartments first line un...</td>\n",
              "      <td>sin informacion</td>\n",
              "      <td>...</td>\n",
              "      <td>4.31</td>\n",
              "      <td>4.81</td>\n",
              "      <td>4.76</td>\n",
              "      <td>4.74</td>\n",
              "      <td>4.32</td>\n",
              "      <td>2.0</td>\n",
              "      <td>2.0</td>\n",
              "      <td>0.0</td>\n",
              "      <td>0.0</td>\n",
              "      <td>0.62</td>\n",
              "    </tr>\n",
              "    <tr>\n",
              "      <th>4</th>\n",
              "      <td>0.958653</td>\n",
              "      <td>221.892199</td>\n",
              "      <td>0.954662</td>\n",
              "      <td>4</td>\n",
              "      <td>https://www.airbnb.com/rooms/41342</td>\n",
              "      <td>01/04/2023</td>\n",
              "      <td>previous scrape</td>\n",
              "      <td>Beachfront Tamariua (Costa Brava)</td>\n",
              "      <td>A little paradise by the sea. Apartment 2/4 ad...</td>\n",
              "      <td>Apartment located outside the town on a small ...</td>\n",
              "      <td>...</td>\n",
              "      <td>4.82</td>\n",
              "      <td>4.73</td>\n",
              "      <td>4.73</td>\n",
              "      <td>4.91</td>\n",
              "      <td>4.36</td>\n",
              "      <td>1.0</td>\n",
              "      <td>1.0</td>\n",
              "      <td>0.0</td>\n",
              "      <td>0.0</td>\n",
              "      <td>0.09</td>\n",
              "    </tr>\n",
              "    <tr>\n",
              "      <th>5</th>\n",
              "      <td>0.955261</td>\n",
              "      <td>66.902349</td>\n",
              "      <td>0.954837</td>\n",
              "      <td>5</td>\n",
              "      <td>https://www.airbnb.com/rooms/751997</td>\n",
              "      <td>01/04/2023</td>\n",
              "      <td>city scrape</td>\n",
              "      <td>CAN FELIP - Ãtico loft del s.XVIII</td>\n",
              "      <td>MagnÃ­fica casa de pueblo del siglo XVIII, ubi...</td>\n",
              "      <td>Palafrugell se remonta al siglo X. El nÃºcleo ...</td>\n",
              "      <td>...</td>\n",
              "      <td>4.69</td>\n",
              "      <td>4.69</td>\n",
              "      <td>4.45</td>\n",
              "      <td>4.79</td>\n",
              "      <td>4.59</td>\n",
              "      <td>12.0</td>\n",
              "      <td>12.0</td>\n",
              "      <td>0.0</td>\n",
              "      <td>0.0</td>\n",
              "      <td>0.34</td>\n",
              "    </tr>\n",
              "    <tr>\n",
              "      <th>6</th>\n",
              "      <td>0.958500</td>\n",
              "      <td>109.094050</td>\n",
              "      <td>0.959229</td>\n",
              "      <td>6</td>\n",
              "      <td>https://www.airbnb.com/rooms/752035</td>\n",
              "      <td>31/03/2023</td>\n",
              "      <td>city scrape</td>\n",
              "      <td>CAN TARONGETA - Soleado Apto. 1-1</td>\n",
              "      <td>MagnÃ­fico Apartamento de 62mÂ² con 2 dormitor...</td>\n",
              "      <td>Palafrugell se remonta al siglo X. El nÃºcleo ...</td>\n",
              "      <td>...</td>\n",
              "      <td>4.79</td>\n",
              "      <td>4.43</td>\n",
              "      <td>4.50</td>\n",
              "      <td>4.50</td>\n",
              "      <td>4.36</td>\n",
              "      <td>12.0</td>\n",
              "      <td>12.0</td>\n",
              "      <td>0.0</td>\n",
              "      <td>0.0</td>\n",
              "      <td>0.13</td>\n",
              "    </tr>\n",
              "    <tr>\n",
              "      <th>7</th>\n",
              "      <td>0.957754</td>\n",
              "      <td>326.928126</td>\n",
              "      <td>0.955438</td>\n",
              "      <td>7</td>\n",
              "      <td>https://www.airbnb.com/rooms/1215790</td>\n",
              "      <td>01/04/2023</td>\n",
              "      <td>city scrape</td>\n",
              "      <td>100m FROM THE BEACH, with TERRACE</td>\n",
              "      <td>Big apartment with terrace (7 people), next to...</td>\n",
              "      <td>sin informacion</td>\n",
              "      <td>...</td>\n",
              "      <td>4.78</td>\n",
              "      <td>4.89</td>\n",
              "      <td>5.00</td>\n",
              "      <td>4.56</td>\n",
              "      <td>4.11</td>\n",
              "      <td>1.0</td>\n",
              "      <td>1.0</td>\n",
              "      <td>0.0</td>\n",
              "      <td>0.0</td>\n",
              "      <td>0.08</td>\n",
              "    </tr>\n",
              "  </tbody>\n",
              "</table>\n",
              "<p>5 rows × 76 columns</p>\n",
              "</div>\n",
              "      <button class=\"colab-df-convert\" onclick=\"convertToInteractive('df-9bc6fa6b-1306-41ff-93c0-6856e3d2d591')\"\n",
              "              title=\"Convert this dataframe to an interactive table.\"\n",
              "              style=\"display:none;\">\n",
              "        \n",
              "  <svg xmlns=\"http://www.w3.org/2000/svg\" height=\"24px\"viewBox=\"0 0 24 24\"\n",
              "       width=\"24px\">\n",
              "    <path d=\"M0 0h24v24H0V0z\" fill=\"none\"/>\n",
              "    <path d=\"M18.56 5.44l.94 2.06.94-2.06 2.06-.94-2.06-.94-.94-2.06-.94 2.06-2.06.94zm-11 1L8.5 8.5l.94-2.06 2.06-.94-2.06-.94L8.5 2.5l-.94 2.06-2.06.94zm10 10l.94 2.06.94-2.06 2.06-.94-2.06-.94-.94-2.06-.94 2.06-2.06.94z\"/><path d=\"M17.41 7.96l-1.37-1.37c-.4-.4-.92-.59-1.43-.59-.52 0-1.04.2-1.43.59L10.3 9.45l-7.72 7.72c-.78.78-.78 2.05 0 2.83L4 21.41c.39.39.9.59 1.41.59.51 0 1.02-.2 1.41-.59l7.78-7.78 2.81-2.81c.8-.78.8-2.07 0-2.86zM5.41 20L4 18.59l7.72-7.72 1.47 1.35L5.41 20z\"/>\n",
              "  </svg>\n",
              "      </button>\n",
              "      \n",
              "  <style>\n",
              "    .colab-df-container {\n",
              "      display:flex;\n",
              "      flex-wrap:wrap;\n",
              "      gap: 12px;\n",
              "    }\n",
              "\n",
              "    .colab-df-convert {\n",
              "      background-color: #E8F0FE;\n",
              "      border: none;\n",
              "      border-radius: 50%;\n",
              "      cursor: pointer;\n",
              "      display: none;\n",
              "      fill: #1967D2;\n",
              "      height: 32px;\n",
              "      padding: 0 0 0 0;\n",
              "      width: 32px;\n",
              "    }\n",
              "\n",
              "    .colab-df-convert:hover {\n",
              "      background-color: #E2EBFA;\n",
              "      box-shadow: 0px 1px 2px rgba(60, 64, 67, 0.3), 0px 1px 3px 1px rgba(60, 64, 67, 0.15);\n",
              "      fill: #174EA6;\n",
              "    }\n",
              "\n",
              "    [theme=dark] .colab-df-convert {\n",
              "      background-color: #3B4455;\n",
              "      fill: #D2E3FC;\n",
              "    }\n",
              "\n",
              "    [theme=dark] .colab-df-convert:hover {\n",
              "      background-color: #434B5C;\n",
              "      box-shadow: 0px 1px 3px 1px rgba(0, 0, 0, 0.15);\n",
              "      filter: drop-shadow(0px 1px 2px rgba(0, 0, 0, 0.3));\n",
              "      fill: #FFFFFF;\n",
              "    }\n",
              "  </style>\n",
              "\n",
              "      <script>\n",
              "        const buttonEl =\n",
              "          document.querySelector('#df-9bc6fa6b-1306-41ff-93c0-6856e3d2d591 button.colab-df-convert');\n",
              "        buttonEl.style.display =\n",
              "          google.colab.kernel.accessAllowed ? 'block' : 'none';\n",
              "\n",
              "        async function convertToInteractive(key) {\n",
              "          const element = document.querySelector('#df-9bc6fa6b-1306-41ff-93c0-6856e3d2d591');\n",
              "          const dataTable =\n",
              "            await google.colab.kernel.invokeFunction('convertToInteractive',\n",
              "                                                     [key], {});\n",
              "          if (!dataTable) return;\n",
              "\n",
              "          const docLinkHtml = 'Like what you see? Visit the ' +\n",
              "            '<a target=\"_blank\" href=https://colab.research.google.com/notebooks/data_table.ipynb>data table notebook</a>'\n",
              "            + ' to learn more about interactive tables.';\n",
              "          element.innerHTML = '';\n",
              "          dataTable['output_type'] = 'display_data';\n",
              "          await google.colab.output.renderOutput(dataTable, element);\n",
              "          const docLink = document.createElement('div');\n",
              "          docLink.innerHTML = docLinkHtml;\n",
              "          element.appendChild(docLink);\n",
              "        }\n",
              "      </script>\n",
              "    </div>\n",
              "  </div>\n",
              "  "
            ]
          },
          "metadata": {},
          "execution_count": 84
        }
      ]
    },
    {
      "cell_type": "code",
      "source": [
        "#Visualizamos la gráfica comparativa entre el total real y el total predecido\n",
        "\n",
        "sns.scatterplot(x='number_of_reviews', y='host_acceptance_rate', color=\"pink\", data=enthome_apt)\n",
        "sns.scatterplot(x='number_of_reviews', y='Predicciones', color=\"blue\", data=enthome_apt)"
      ],
      "metadata": {
        "colab": {
          "base_uri": "https://localhost:8080/",
          "height": 468
        },
        "id": "59976Bktw17j",
        "outputId": "64931ced-3e3c-4a05-e15a-5114a68bb43b"
      },
      "execution_count": 85,
      "outputs": [
        {
          "output_type": "execute_result",
          "data": {
            "text/plain": [
              "<Axes: xlabel='number_of_reviews', ylabel='host_acceptance_rate'>"
            ]
          },
          "metadata": {},
          "execution_count": 85
        },
        {
          "output_type": "display_data",
          "data": {
            "text/plain": [
              "<Figure size 640x480 with 1 Axes>"
            ],
            "image/png": "[encoded data removed]"
          },
          "metadata": {}
        }
      ]
    },
    {
      "cell_type": "code",
      "source": [
        "sns.scatterplot(x='number_of_reviews', y='host_acceptance_rate', color=\"pink\", data=enthome_apt)\n",
        "sns.scatterplot(x='review_scores_cleanliness', y='host_acceptance_rate', color=\"red\", data=enthome_apt)\n",
        "sns.scatterplot(x='review_scores_communication', y='host_acceptance_rate', color=\"blue\", data=enthome_apt)\n",
        "sns.scatterplot(x='host_acceptance_rate', y='Predicciones', color=\"green\", data=enthome_apt)"
      ],
      "metadata": {
        "colab": {
          "base_uri": "https://localhost:8080/",
          "height": 468
        },
        "id": "kkX3vF65Iq5R",
        "outputId": "ea15876a-8850-4a3d-ecf5-bedd465c319b"
      },
      "execution_count": 86,
      "outputs": [
        {
          "output_type": "execute_result",
          "data": {
            "text/plain": [
              "<Axes: xlabel='number_of_reviews', ylabel='host_acceptance_rate'>"
            ]
          },
          "metadata": {},
          "execution_count": 86
        },
        {
          "output_type": "display_data",
          "data": {
            "text/plain": [
              "<Figure size 640x480 with 1 Axes>"
            ],
            "image/png": "[encoded data removed]"
          },
          "metadata": {}
        }
      ]
    },
    {
      "cell_type": "code",
      "source": [
        "#Corroboramos cual es el coeficiente de Determinación de nuestro modelo\n",
        "coef_Deter=model.score(X=Vars_Indep, y=Var_Dep)\n",
        "#Corroboramos cual es el coeficiente de Correlación de nuestro modelo\n",
        "coef_Correl=np.sqrt(coef_Deter)\n",
        "print(\"Coeficiente de determinacion: \",coef_Deter)\n",
        "print(\"Coeficiente de correlación: \", coef_Correl)"
      ],
      "metadata": {
        "colab": {
          "base_uri": "https://localhost:8080/"
        },
        "id": "yw7ZFPTTw339",
        "outputId": "f0a3f440-685d-47c9-a2c3-869afa87b975"
      },
      "execution_count": 87,
      "outputs": [
        {
          "output_type": "stream",
          "name": "stdout",
          "text": [
            "Coeficiente de determinacion:  0.0010634399357239976\n",
            "Coeficiente de correlación:  0.032610426794569825\n"
          ]
        }
      ]
    }
  ]
}